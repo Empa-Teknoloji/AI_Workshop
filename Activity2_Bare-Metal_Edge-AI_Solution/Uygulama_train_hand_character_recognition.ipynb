{
 "cells": [
  {
   "cell_type": "markdown",
   "metadata": {},
   "source": [
    "<p align=\"center\"><img src=\"../Additionals/Empa-Workshops-Template-Banner2.png\" alt=\"University Workshops\" style=\"display: block; margin: 0 auto\" height=/></p>"
   ]
  },
  {
   "cell_type": "markdown",
   "metadata": {},
   "source": [
    "# Accelerator Workshops'a Hoşgeldiniz!\n",
    "\n",
    "Empa Electronics tarafından düzenlenen Accelerators Workshops etkinlikleri serimizin Uçta Yapay Zeka adımına hoşgeldiniz. Bu açık-kaynak repository, workshop etkiliğimizde deneyimleyeceğiniz \"ST Platformları İçin Edge-AI Çözümleri Geliştirme\" uygulaması çalışma ortamını edinebilmeniz ve aktivitelere kolaylıkla eşlik edebilmeniz için sizinle paylaşılmıştır.\n",
    "\n",
    "Bu script, bir uçta yapay zeka çözümünün geliştirilme adımlarının gösterimi için oluşturulmuştur.\n",
    "\n",
    "**Uygulama Adımları:**\n",
    "\n",
    "1. Gereksinimlerin Dahil Edilmesi (Requirements)\n",
    "\n",
    "2. Veri Ön-İşleme\n",
    "\n",
    "3. Yapay Zeka Modeli Oluşturma\n",
    "\n",
    "4. Model Eğitimi Çözüm Geliştirme (Development)\n",
    "\n",
    "5. Modeli Dışa Aktarma & Dağıtım (Deployment)"
   ]
  },
  {
   "cell_type": "markdown",
   "metadata": {},
   "source": [
    "## Kurulum (Yalnızca Bulut Çalışma Ortamı İçin)"
   ]
  },
  {
   "cell_type": "markdown",
   "metadata": {},
   "source": [
    "Bu başlık, bulut çalışma ortamı için gerekli kurulumların otomatik olarak yapılması için oluşturulmuştur.  \n",
    "Kurulum başlığı altındaki kod hücrelerini **YALNIZCA Google Colab** ortamı için çalıştırınız.  \n",
    "  \n",
    "Yerel çalışma ortamı kullanan katılımcılar **1. Gereksinimlerin Dahil Edilmesi** başlığından itibaren uygulamaya başlamalıdır.  \n",
    "  \n",
    "  "
   ]
  },
  {
   "cell_type": "markdown",
   "metadata": {},
   "source": [
    "1. Python versiyonu olarak tercih edilen 3.10 versiyonunun kurulu olduğunu teyit ediniz."
   ]
  },
  {
   "cell_type": "code",
   "execution_count": null,
   "metadata": {},
   "outputs": [],
   "source": [
    "!python3 --version"
   ]
  },
  {
   "cell_type": "markdown",
   "metadata": {},
   "source": [
    "2. Gerekli klasör ve kaynak dosyalarını oluşturunuz/indiriniz."
   ]
  },
  {
   "cell_type": "code",
   "execution_count": null,
   "metadata": {},
   "outputs": [],
   "source": [
    "!mkdir -p Datasets && mkdir -p Models\n",
    "!wget https://raw.githubusercontent.com/Empa-Teknoloji/AI_Workshop/master/Activity2_Bare-Metal_Edge-AI_Solution/Datasets/Dataset_Hand_Character_Recognition_EmpaElectronics.csv -O Datasets/Dataset_Hand_Character_Recognition_EmpaElectronics.csv"
   ]
  },
  {
   "cell_type": "markdown",
   "metadata": {},
   "source": [
    "3. Gerekli Python modüllerini edininiz."
   ]
  },
  {
   "cell_type": "code",
   "execution_count": null,
   "metadata": {},
   "outputs": [],
   "source": [
    "!pip3 install -r https://raw.githubusercontent.com/Empa-Teknoloji/AI_Workshop/master/Activity2_Bare-Metal_Edge-AI_Solution/requirements.txt"
   ]
  },
  {
   "cell_type": "markdown",
   "metadata": {},
   "source": [
    "## 1. Gereksinimlerin Dahil Edilmesi"
   ]
  },
  {
   "cell_type": "code",
   "execution_count": 1,
   "metadata": {},
   "outputs": [
    {
     "name": "stderr",
     "output_type": "stream",
     "text": [
      "2024-06-06 15:45:07.911836: I tensorflow/tsl/cuda/cudart_stub.cc:28] Could not find cuda drivers on your machine, GPU will not be used.\n",
      "2024-06-06 15:45:08.213327: I tensorflow/tsl/cuda/cudart_stub.cc:28] Could not find cuda drivers on your machine, GPU will not be used.\n",
      "2024-06-06 15:45:08.214482: I tensorflow/core/platform/cpu_feature_guard.cc:182] This TensorFlow binary is optimized to use available CPU instructions in performance-critical operations.\n",
      "To enable the following instructions: AVX2 FMA, in other operations, rebuild TensorFlow with the appropriate compiler flags.\n",
      "2024-06-06 15:45:09.143410: W tensorflow/compiler/tf2tensorrt/utils/py_utils.cc:38] TF-TRT Warning: Could not find TensorRT\n"
     ]
    }
   ],
   "source": [
    "import numpy as np\n",
    "import pandas as pd\n",
    "import tensorflow as tf\n",
    "from math import floor\n",
    "from scipy.stats import mode\n",
    "import matplotlib.pyplot as plt\n",
    "from sklearn.metrics import ConfusionMatrixDisplay\n",
    "\n",
    "from tensorflow.keras.layers import Dense, Dropout, Conv1D, Flatten, MaxPooling1D\n",
    "from tensorflow.keras.models import Sequential\n",
    "from sklearn.model_selection import train_test_split"
   ]
  },
  {
   "cell_type": "code",
   "execution_count": 2,
   "metadata": {},
   "outputs": [],
   "source": [
    "path_dataset = \"./Datasets/Dataset_Hand_Character_Recognition_EmpaElectronics.csv\""
   ]
  },
  {
   "cell_type": "markdown",
   "metadata": {},
   "source": [
    "## 2. Veri Ön-İşleme"
   ]
  },
  {
   "cell_type": "markdown",
   "metadata": {},
   "source": [
    "### 2.1. Ham Veri Eldesi"
   ]
  },
  {
   "cell_type": "code",
   "execution_count": 3,
   "metadata": {},
   "outputs": [
    {
     "data": {
      "text/html": [
       "<div>\n",
       "<style scoped>\n",
       "    .dataframe tbody tr th:only-of-type {\n",
       "        vertical-align: middle;\n",
       "    }\n",
       "\n",
       "    .dataframe tbody tr th {\n",
       "        vertical-align: top;\n",
       "    }\n",
       "\n",
       "    .dataframe thead th {\n",
       "        text-align: right;\n",
       "    }\n",
       "</style>\n",
       "<table border=\"1\" class=\"dataframe\">\n",
       "  <thead>\n",
       "    <tr style=\"text-align: right;\">\n",
       "      <th></th>\n",
       "      <th>acc_x</th>\n",
       "      <th>acc_y</th>\n",
       "      <th>acc_z</th>\n",
       "      <th>gyro_x</th>\n",
       "      <th>gyro_y</th>\n",
       "      <th>gyro_z</th>\n",
       "      <th>class</th>\n",
       "    </tr>\n",
       "  </thead>\n",
       "  <tbody>\n",
       "    <tr>\n",
       "      <th>0</th>\n",
       "      <td>68</td>\n",
       "      <td>1308</td>\n",
       "      <td>-151</td>\n",
       "      <td>-556</td>\n",
       "      <td>-308</td>\n",
       "      <td>-322</td>\n",
       "      <td>0</td>\n",
       "    </tr>\n",
       "    <tr>\n",
       "      <th>1</th>\n",
       "      <td>-153</td>\n",
       "      <td>1317</td>\n",
       "      <td>-167</td>\n",
       "      <td>-976</td>\n",
       "      <td>-56</td>\n",
       "      <td>-680</td>\n",
       "      <td>0</td>\n",
       "    </tr>\n",
       "    <tr>\n",
       "      <th>2</th>\n",
       "      <td>-446</td>\n",
       "      <td>1300</td>\n",
       "      <td>-78</td>\n",
       "      <td>-1376</td>\n",
       "      <td>227</td>\n",
       "      <td>-863</td>\n",
       "      <td>0</td>\n",
       "    </tr>\n",
       "    <tr>\n",
       "      <th>3</th>\n",
       "      <td>-597</td>\n",
       "      <td>1316</td>\n",
       "      <td>72</td>\n",
       "      <td>-1602</td>\n",
       "      <td>424</td>\n",
       "      <td>-781</td>\n",
       "      <td>0</td>\n",
       "    </tr>\n",
       "    <tr>\n",
       "      <th>4</th>\n",
       "      <td>-618</td>\n",
       "      <td>1377</td>\n",
       "      <td>246</td>\n",
       "      <td>-1558</td>\n",
       "      <td>477</td>\n",
       "      <td>-521</td>\n",
       "      <td>0</td>\n",
       "    </tr>\n",
       "    <tr>\n",
       "      <th>...</th>\n",
       "      <td>...</td>\n",
       "      <td>...</td>\n",
       "      <td>...</td>\n",
       "      <td>...</td>\n",
       "      <td>...</td>\n",
       "      <td>...</td>\n",
       "      <td>...</td>\n",
       "    </tr>\n",
       "    <tr>\n",
       "      <th>422139</th>\n",
       "      <td>74</td>\n",
       "      <td>-384</td>\n",
       "      <td>347</td>\n",
       "      <td>133</td>\n",
       "      <td>-482</td>\n",
       "      <td>-57</td>\n",
       "      <td>4</td>\n",
       "    </tr>\n",
       "    <tr>\n",
       "      <th>422140</th>\n",
       "      <td>142</td>\n",
       "      <td>-436</td>\n",
       "      <td>371</td>\n",
       "      <td>277</td>\n",
       "      <td>-461</td>\n",
       "      <td>-48</td>\n",
       "      <td>4</td>\n",
       "    </tr>\n",
       "    <tr>\n",
       "      <th>422141</th>\n",
       "      <td>154</td>\n",
       "      <td>-463</td>\n",
       "      <td>371</td>\n",
       "      <td>434</td>\n",
       "      <td>-427</td>\n",
       "      <td>-43</td>\n",
       "      <td>4</td>\n",
       "    </tr>\n",
       "    <tr>\n",
       "      <th>422142</th>\n",
       "      <td>162</td>\n",
       "      <td>-380</td>\n",
       "      <td>359</td>\n",
       "      <td>583</td>\n",
       "      <td>-365</td>\n",
       "      <td>-45</td>\n",
       "      <td>4</td>\n",
       "    </tr>\n",
       "    <tr>\n",
       "      <th>422143</th>\n",
       "      <td>152</td>\n",
       "      <td>-285</td>\n",
       "      <td>321</td>\n",
       "      <td>727</td>\n",
       "      <td>-280</td>\n",
       "      <td>-76</td>\n",
       "      <td>4</td>\n",
       "    </tr>\n",
       "  </tbody>\n",
       "</table>\n",
       "<p>422144 rows × 7 columns</p>\n",
       "</div>"
      ],
      "text/plain": [
       "        acc_x  acc_y  acc_z  gyro_x  gyro_y  gyro_z  class\n",
       "0          68   1308   -151    -556    -308    -322      0\n",
       "1        -153   1317   -167    -976     -56    -680      0\n",
       "2        -446   1300    -78   -1376     227    -863      0\n",
       "3        -597   1316     72   -1602     424    -781      0\n",
       "4        -618   1377    246   -1558     477    -521      0\n",
       "...       ...    ...    ...     ...     ...     ...    ...\n",
       "422139     74   -384    347     133    -482     -57      4\n",
       "422140    142   -436    371     277    -461     -48      4\n",
       "422141    154   -463    371     434    -427     -43      4\n",
       "422142    162   -380    359     583    -365     -45      4\n",
       "422143    152   -285    321     727    -280     -76      4\n",
       "\n",
       "[422144 rows x 7 columns]"
      ]
     },
     "execution_count": 3,
     "metadata": {},
     "output_type": "execute_result"
    }
   ],
   "source": [
    "df_dataset = pd.read_csv(path_dataset)\n",
    "df_dataset"
   ]
  },
  {
   "cell_type": "markdown",
   "metadata": {},
   "source": [
    "### 2.2. \"Feature\" & \"Labels\" Ayrıştırımı"
   ]
  },
  {
   "cell_type": "code",
   "execution_count": 4,
   "metadata": {},
   "outputs": [],
   "source": [
    "df_feats, df_labels = df_dataset.drop(columns=[\"class\"]), df_dataset[\"class\"]"
   ]
  },
  {
   "cell_type": "markdown",
   "metadata": {},
   "source": [
    "Veri seti \"feature\" sütunları:"
   ]
  },
  {
   "cell_type": "code",
   "execution_count": 5,
   "metadata": {},
   "outputs": [
    {
     "data": {
      "text/html": [
       "<div>\n",
       "<style scoped>\n",
       "    .dataframe tbody tr th:only-of-type {\n",
       "        vertical-align: middle;\n",
       "    }\n",
       "\n",
       "    .dataframe tbody tr th {\n",
       "        vertical-align: top;\n",
       "    }\n",
       "\n",
       "    .dataframe thead th {\n",
       "        text-align: right;\n",
       "    }\n",
       "</style>\n",
       "<table border=\"1\" class=\"dataframe\">\n",
       "  <thead>\n",
       "    <tr style=\"text-align: right;\">\n",
       "      <th></th>\n",
       "      <th>acc_x</th>\n",
       "      <th>acc_y</th>\n",
       "      <th>acc_z</th>\n",
       "      <th>gyro_x</th>\n",
       "      <th>gyro_y</th>\n",
       "      <th>gyro_z</th>\n",
       "    </tr>\n",
       "  </thead>\n",
       "  <tbody>\n",
       "    <tr>\n",
       "      <th>0</th>\n",
       "      <td>68</td>\n",
       "      <td>1308</td>\n",
       "      <td>-151</td>\n",
       "      <td>-556</td>\n",
       "      <td>-308</td>\n",
       "      <td>-322</td>\n",
       "    </tr>\n",
       "    <tr>\n",
       "      <th>1</th>\n",
       "      <td>-153</td>\n",
       "      <td>1317</td>\n",
       "      <td>-167</td>\n",
       "      <td>-976</td>\n",
       "      <td>-56</td>\n",
       "      <td>-680</td>\n",
       "    </tr>\n",
       "    <tr>\n",
       "      <th>2</th>\n",
       "      <td>-446</td>\n",
       "      <td>1300</td>\n",
       "      <td>-78</td>\n",
       "      <td>-1376</td>\n",
       "      <td>227</td>\n",
       "      <td>-863</td>\n",
       "    </tr>\n",
       "    <tr>\n",
       "      <th>3</th>\n",
       "      <td>-597</td>\n",
       "      <td>1316</td>\n",
       "      <td>72</td>\n",
       "      <td>-1602</td>\n",
       "      <td>424</td>\n",
       "      <td>-781</td>\n",
       "    </tr>\n",
       "    <tr>\n",
       "      <th>4</th>\n",
       "      <td>-618</td>\n",
       "      <td>1377</td>\n",
       "      <td>246</td>\n",
       "      <td>-1558</td>\n",
       "      <td>477</td>\n",
       "      <td>-521</td>\n",
       "    </tr>\n",
       "    <tr>\n",
       "      <th>...</th>\n",
       "      <td>...</td>\n",
       "      <td>...</td>\n",
       "      <td>...</td>\n",
       "      <td>...</td>\n",
       "      <td>...</td>\n",
       "      <td>...</td>\n",
       "    </tr>\n",
       "    <tr>\n",
       "      <th>422139</th>\n",
       "      <td>74</td>\n",
       "      <td>-384</td>\n",
       "      <td>347</td>\n",
       "      <td>133</td>\n",
       "      <td>-482</td>\n",
       "      <td>-57</td>\n",
       "    </tr>\n",
       "    <tr>\n",
       "      <th>422140</th>\n",
       "      <td>142</td>\n",
       "      <td>-436</td>\n",
       "      <td>371</td>\n",
       "      <td>277</td>\n",
       "      <td>-461</td>\n",
       "      <td>-48</td>\n",
       "    </tr>\n",
       "    <tr>\n",
       "      <th>422141</th>\n",
       "      <td>154</td>\n",
       "      <td>-463</td>\n",
       "      <td>371</td>\n",
       "      <td>434</td>\n",
       "      <td>-427</td>\n",
       "      <td>-43</td>\n",
       "    </tr>\n",
       "    <tr>\n",
       "      <th>422142</th>\n",
       "      <td>162</td>\n",
       "      <td>-380</td>\n",
       "      <td>359</td>\n",
       "      <td>583</td>\n",
       "      <td>-365</td>\n",
       "      <td>-45</td>\n",
       "    </tr>\n",
       "    <tr>\n",
       "      <th>422143</th>\n",
       "      <td>152</td>\n",
       "      <td>-285</td>\n",
       "      <td>321</td>\n",
       "      <td>727</td>\n",
       "      <td>-280</td>\n",
       "      <td>-76</td>\n",
       "    </tr>\n",
       "  </tbody>\n",
       "</table>\n",
       "<p>422144 rows × 6 columns</p>\n",
       "</div>"
      ],
      "text/plain": [
       "        acc_x  acc_y  acc_z  gyro_x  gyro_y  gyro_z\n",
       "0          68   1308   -151    -556    -308    -322\n",
       "1        -153   1317   -167    -976     -56    -680\n",
       "2        -446   1300    -78   -1376     227    -863\n",
       "3        -597   1316     72   -1602     424    -781\n",
       "4        -618   1377    246   -1558     477    -521\n",
       "...       ...    ...    ...     ...     ...     ...\n",
       "422139     74   -384    347     133    -482     -57\n",
       "422140    142   -436    371     277    -461     -48\n",
       "422141    154   -463    371     434    -427     -43\n",
       "422142    162   -380    359     583    -365     -45\n",
       "422143    152   -285    321     727    -280     -76\n",
       "\n",
       "[422144 rows x 6 columns]"
      ]
     },
     "execution_count": 5,
     "metadata": {},
     "output_type": "execute_result"
    }
   ],
   "source": [
    "df_feats"
   ]
  },
  {
   "cell_type": "markdown",
   "metadata": {},
   "source": [
    "Veri seti \"label\" sütunu:"
   ]
  },
  {
   "cell_type": "code",
   "execution_count": 6,
   "metadata": {},
   "outputs": [
    {
     "data": {
      "text/plain": [
       "0         0\n",
       "1         0\n",
       "2         0\n",
       "3         0\n",
       "4         0\n",
       "         ..\n",
       "422139    4\n",
       "422140    4\n",
       "422141    4\n",
       "422142    4\n",
       "422143    4\n",
       "Name: class, Length: 422144, dtype: int64"
      ]
     },
     "execution_count": 6,
     "metadata": {},
     "output_type": "execute_result"
    }
   ],
   "source": [
    "df_labels"
   ]
  },
  {
   "cell_type": "markdown",
   "metadata": {},
   "source": [
    "Feature ve Label dataframe yapıları için \"null\" değer kontrolü:"
   ]
  },
  {
   "cell_type": "code",
   "execution_count": 7,
   "metadata": {},
   "outputs": [
    {
     "name": "stdout",
     "output_type": "stream",
     "text": [
      "[features] Number of NAs: 0\n",
      "[features] Number of nulls: 0\n",
      "[labels] Number of NAs: 0\n",
      "[labels] Number of nulls: 0\n"
     ]
    }
   ],
   "source": [
    "print(f\"[features] Number of NAs: {df_feats.isna().sum().sum()}\")\n",
    "print(f\"[features] Number of nulls: {df_feats.isnull().sum().sum()}\")\n",
    "print(f\"[labels] Number of NAs: {df_labels.isna().sum().sum()}\")\n",
    "print(f\"[labels] Number of nulls: {df_labels.isnull().sum().item()}\")"
   ]
  },
  {
   "cell_type": "markdown",
   "metadata": {},
   "source": [
    "Veri seti sınıflarının listesi:"
   ]
  },
  {
   "cell_type": "code",
   "execution_count": 8,
   "metadata": {},
   "outputs": [
    {
     "data": {
      "text/plain": [
       "array([[0],\n",
       "       [1],\n",
       "       [2],\n",
       "       [3],\n",
       "       [4]])"
      ]
     },
     "execution_count": 8,
     "metadata": {},
     "output_type": "execute_result"
    }
   ],
   "source": [
    "list_categories = np.array(sorted(set(df_labels.to_numpy().flatten()))).reshape(-1, 1)\n",
    "list_categories"
   ]
  },
  {
   "cell_type": "markdown",
   "metadata": {},
   "source": [
    "### 2.3. \"Label Encoding\" Uygulanması "
   ]
  },
  {
   "cell_type": "markdown",
   "metadata": {},
   "source": [
    "Scitkit-learn içinden **One-Hot Encoder** çağrımı:"
   ]
  },
  {
   "cell_type": "code",
   "execution_count": 9,
   "metadata": {},
   "outputs": [],
   "source": [
    "from sklearn.preprocessing import OneHotEncoder\n",
    "encoder = OneHotEncoder(sparse_output=False)"
   ]
  },
  {
   "cell_type": "markdown",
   "metadata": {},
   "source": [
    "Encoder yapısının veri seti sınıfları için fit edilmesi: "
   ]
  },
  {
   "cell_type": "code",
   "execution_count": 10,
   "metadata": {},
   "outputs": [
    {
     "data": {
      "text/html": [
       "<style>#sk-container-id-1 {color: black;}#sk-container-id-1 pre{padding: 0;}#sk-container-id-1 div.sk-toggleable {background-color: white;}#sk-container-id-1 label.sk-toggleable__label {cursor: pointer;display: block;width: 100%;margin-bottom: 0;padding: 0.3em;box-sizing: border-box;text-align: center;}#sk-container-id-1 label.sk-toggleable__label-arrow:before {content: \"▸\";float: left;margin-right: 0.25em;color: #696969;}#sk-container-id-1 label.sk-toggleable__label-arrow:hover:before {color: black;}#sk-container-id-1 div.sk-estimator:hover label.sk-toggleable__label-arrow:before {color: black;}#sk-container-id-1 div.sk-toggleable__content {max-height: 0;max-width: 0;overflow: hidden;text-align: left;background-color: #f0f8ff;}#sk-container-id-1 div.sk-toggleable__content pre {margin: 0.2em;color: black;border-radius: 0.25em;background-color: #f0f8ff;}#sk-container-id-1 input.sk-toggleable__control:checked~div.sk-toggleable__content {max-height: 200px;max-width: 100%;overflow: auto;}#sk-container-id-1 input.sk-toggleable__control:checked~label.sk-toggleable__label-arrow:before {content: \"▾\";}#sk-container-id-1 div.sk-estimator input.sk-toggleable__control:checked~label.sk-toggleable__label {background-color: #d4ebff;}#sk-container-id-1 div.sk-label input.sk-toggleable__control:checked~label.sk-toggleable__label {background-color: #d4ebff;}#sk-container-id-1 input.sk-hidden--visually {border: 0;clip: rect(1px 1px 1px 1px);clip: rect(1px, 1px, 1px, 1px);height: 1px;margin: -1px;overflow: hidden;padding: 0;position: absolute;width: 1px;}#sk-container-id-1 div.sk-estimator {font-family: monospace;background-color: #f0f8ff;border: 1px dotted black;border-radius: 0.25em;box-sizing: border-box;margin-bottom: 0.5em;}#sk-container-id-1 div.sk-estimator:hover {background-color: #d4ebff;}#sk-container-id-1 div.sk-parallel-item::after {content: \"\";width: 100%;border-bottom: 1px solid gray;flex-grow: 1;}#sk-container-id-1 div.sk-label:hover label.sk-toggleable__label {background-color: #d4ebff;}#sk-container-id-1 div.sk-serial::before {content: \"\";position: absolute;border-left: 1px solid gray;box-sizing: border-box;top: 0;bottom: 0;left: 50%;z-index: 0;}#sk-container-id-1 div.sk-serial {display: flex;flex-direction: column;align-items: center;background-color: white;padding-right: 0.2em;padding-left: 0.2em;position: relative;}#sk-container-id-1 div.sk-item {position: relative;z-index: 1;}#sk-container-id-1 div.sk-parallel {display: flex;align-items: stretch;justify-content: center;background-color: white;position: relative;}#sk-container-id-1 div.sk-item::before, #sk-container-id-1 div.sk-parallel-item::before {content: \"\";position: absolute;border-left: 1px solid gray;box-sizing: border-box;top: 0;bottom: 0;left: 50%;z-index: -1;}#sk-container-id-1 div.sk-parallel-item {display: flex;flex-direction: column;z-index: 1;position: relative;background-color: white;}#sk-container-id-1 div.sk-parallel-item:first-child::after {align-self: flex-end;width: 50%;}#sk-container-id-1 div.sk-parallel-item:last-child::after {align-self: flex-start;width: 50%;}#sk-container-id-1 div.sk-parallel-item:only-child::after {width: 0;}#sk-container-id-1 div.sk-dashed-wrapped {border: 1px dashed gray;margin: 0 0.4em 0.5em 0.4em;box-sizing: border-box;padding-bottom: 0.4em;background-color: white;}#sk-container-id-1 div.sk-label label {font-family: monospace;font-weight: bold;display: inline-block;line-height: 1.2em;}#sk-container-id-1 div.sk-label-container {text-align: center;}#sk-container-id-1 div.sk-container {/* jupyter's `normalize.less` sets `[hidden] { display: none; }` but bootstrap.min.css set `[hidden] { display: none !important; }` so we also need the `!important` here to be able to override the default hidden behavior on the sphinx rendered scikit-learn.org. See: https://github.com/scikit-learn/scikit-learn/issues/21755 */display: inline-block !important;position: relative;}#sk-container-id-1 div.sk-text-repr-fallback {display: none;}</style><div id=\"sk-container-id-1\" class=\"sk-top-container\"><div class=\"sk-text-repr-fallback\"><pre>OneHotEncoder(sparse_output=False)</pre><b>In a Jupyter environment, please rerun this cell to show the HTML representation or trust the notebook. <br />On GitHub, the HTML representation is unable to render, please try loading this page with nbviewer.org.</b></div><div class=\"sk-container\" hidden><div class=\"sk-item\"><div class=\"sk-estimator sk-toggleable\"><input class=\"sk-toggleable__control sk-hidden--visually\" id=\"sk-estimator-id-1\" type=\"checkbox\" checked><label for=\"sk-estimator-id-1\" class=\"sk-toggleable__label sk-toggleable__label-arrow\">OneHotEncoder</label><div class=\"sk-toggleable__content\"><pre>OneHotEncoder(sparse_output=False)</pre></div></div></div></div></div>"
      ],
      "text/plain": [
       "OneHotEncoder(sparse_output=False)"
      ]
     },
     "execution_count": 10,
     "metadata": {},
     "output_type": "execute_result"
    }
   ],
   "source": [
    "encoder.fit(list_categories)"
   ]
  },
  {
   "cell_type": "markdown",
   "metadata": {},
   "source": [
    "One-Hot Encoder içerisinde listelenen veri seti sınıfları:"
   ]
  },
  {
   "cell_type": "code",
   "execution_count": 11,
   "metadata": {},
   "outputs": [
    {
     "data": {
      "text/plain": [
       "[array([0, 1, 2, 3, 4])]"
      ]
     },
     "execution_count": 11,
     "metadata": {},
     "output_type": "execute_result"
    }
   ],
   "source": [
    "encoder.categories_"
   ]
  },
  {
   "cell_type": "markdown",
   "metadata": {},
   "source": [
    "One-Hot dönüşümü uygulanmış label değerlerinin eldesi:"
   ]
  },
  {
   "cell_type": "code",
   "execution_count": 12,
   "metadata": {},
   "outputs": [
    {
     "data": {
      "text/html": [
       "<div>\n",
       "<style scoped>\n",
       "    .dataframe tbody tr th:only-of-type {\n",
       "        vertical-align: middle;\n",
       "    }\n",
       "\n",
       "    .dataframe tbody tr th {\n",
       "        vertical-align: top;\n",
       "    }\n",
       "\n",
       "    .dataframe thead th {\n",
       "        text-align: right;\n",
       "    }\n",
       "</style>\n",
       "<table border=\"1\" class=\"dataframe\">\n",
       "  <thead>\n",
       "    <tr style=\"text-align: right;\">\n",
       "      <th></th>\n",
       "      <th>0</th>\n",
       "      <th>1</th>\n",
       "      <th>2</th>\n",
       "      <th>3</th>\n",
       "      <th>4</th>\n",
       "    </tr>\n",
       "  </thead>\n",
       "  <tbody>\n",
       "    <tr>\n",
       "      <th>0</th>\n",
       "      <td>1.0</td>\n",
       "      <td>0.0</td>\n",
       "      <td>0.0</td>\n",
       "      <td>0.0</td>\n",
       "      <td>0.0</td>\n",
       "    </tr>\n",
       "    <tr>\n",
       "      <th>1</th>\n",
       "      <td>1.0</td>\n",
       "      <td>0.0</td>\n",
       "      <td>0.0</td>\n",
       "      <td>0.0</td>\n",
       "      <td>0.0</td>\n",
       "    </tr>\n",
       "    <tr>\n",
       "      <th>2</th>\n",
       "      <td>1.0</td>\n",
       "      <td>0.0</td>\n",
       "      <td>0.0</td>\n",
       "      <td>0.0</td>\n",
       "      <td>0.0</td>\n",
       "    </tr>\n",
       "    <tr>\n",
       "      <th>3</th>\n",
       "      <td>1.0</td>\n",
       "      <td>0.0</td>\n",
       "      <td>0.0</td>\n",
       "      <td>0.0</td>\n",
       "      <td>0.0</td>\n",
       "    </tr>\n",
       "    <tr>\n",
       "      <th>4</th>\n",
       "      <td>1.0</td>\n",
       "      <td>0.0</td>\n",
       "      <td>0.0</td>\n",
       "      <td>0.0</td>\n",
       "      <td>0.0</td>\n",
       "    </tr>\n",
       "    <tr>\n",
       "      <th>...</th>\n",
       "      <td>...</td>\n",
       "      <td>...</td>\n",
       "      <td>...</td>\n",
       "      <td>...</td>\n",
       "      <td>...</td>\n",
       "    </tr>\n",
       "    <tr>\n",
       "      <th>422139</th>\n",
       "      <td>0.0</td>\n",
       "      <td>0.0</td>\n",
       "      <td>0.0</td>\n",
       "      <td>0.0</td>\n",
       "      <td>1.0</td>\n",
       "    </tr>\n",
       "    <tr>\n",
       "      <th>422140</th>\n",
       "      <td>0.0</td>\n",
       "      <td>0.0</td>\n",
       "      <td>0.0</td>\n",
       "      <td>0.0</td>\n",
       "      <td>1.0</td>\n",
       "    </tr>\n",
       "    <tr>\n",
       "      <th>422141</th>\n",
       "      <td>0.0</td>\n",
       "      <td>0.0</td>\n",
       "      <td>0.0</td>\n",
       "      <td>0.0</td>\n",
       "      <td>1.0</td>\n",
       "    </tr>\n",
       "    <tr>\n",
       "      <th>422142</th>\n",
       "      <td>0.0</td>\n",
       "      <td>0.0</td>\n",
       "      <td>0.0</td>\n",
       "      <td>0.0</td>\n",
       "      <td>1.0</td>\n",
       "    </tr>\n",
       "    <tr>\n",
       "      <th>422143</th>\n",
       "      <td>0.0</td>\n",
       "      <td>0.0</td>\n",
       "      <td>0.0</td>\n",
       "      <td>0.0</td>\n",
       "      <td>1.0</td>\n",
       "    </tr>\n",
       "  </tbody>\n",
       "</table>\n",
       "<p>422144 rows × 5 columns</p>\n",
       "</div>"
      ],
      "text/plain": [
       "          0    1    2    3    4\n",
       "0       1.0  0.0  0.0  0.0  0.0\n",
       "1       1.0  0.0  0.0  0.0  0.0\n",
       "2       1.0  0.0  0.0  0.0  0.0\n",
       "3       1.0  0.0  0.0  0.0  0.0\n",
       "4       1.0  0.0  0.0  0.0  0.0\n",
       "...     ...  ...  ...  ...  ...\n",
       "422139  0.0  0.0  0.0  0.0  1.0\n",
       "422140  0.0  0.0  0.0  0.0  1.0\n",
       "422141  0.0  0.0  0.0  0.0  1.0\n",
       "422142  0.0  0.0  0.0  0.0  1.0\n",
       "422143  0.0  0.0  0.0  0.0  1.0\n",
       "\n",
       "[422144 rows x 5 columns]"
      ]
     },
     "execution_count": 12,
     "metadata": {},
     "output_type": "execute_result"
    }
   ],
   "source": [
    "df_labels_ohe = pd.DataFrame(encoder.transform(df_labels.to_numpy().reshape(-1, 1)))\n",
    "df_labels_ohe"
   ]
  },
  {
   "cell_type": "markdown",
   "metadata": {},
   "source": [
    "### 2.4. Veri Setinden Sekans Paketleri (Sequence Batchs) Oluşturulması"
   ]
  },
  {
   "cell_type": "markdown",
   "metadata": {},
   "source": [
    "Sabit bir sekans uzunluğu (sequence lenght) ve örtüşme oranı (overlapping ratio) tanımlaması:  \n",
    "  \n",
    "Sekans uzunluğu, bir tablo veri seti içerisindeki örneklerin (örneğin: sensör verisi kaydı) tekil olarak değerlendirilmesi yerine bir pencere/sekans örneği içerisinde veri kesitleri olarak ifade edilmesinde kullanılan bir sabittir.  \n",
    "  \n",
    "Örnek:   \n",
    "Başlangıçta 1000 veri örneği ve 6 feature'dan oluşan bir veri seti için (_veri seti boyutu: 1000 x 6_)  \n",
    "\"sekans uzunluğu = 200 örnek\" olarak seçilir ve veri setine uygulanırsa \n",
    "\n",
    "5 adet 200 örnekli sekans paketi elde edilmiş olur (_veri seti yeni boyutu: 5 x 200 x 6_).\n"
   ]
  },
  {
   "cell_type": "code",
   "execution_count": 13,
   "metadata": {},
   "outputs": [],
   "source": [
    "seq_length = 128\n",
    "overlapping_ratio = 0.33"
   ]
  },
  {
   "cell_type": "markdown",
   "metadata": {},
   "source": [
    "Sekans paketleri oluşturma fonksiyonunun tanımlanması"
   ]
  },
  {
   "cell_type": "code",
   "execution_count": 14,
   "metadata": {},
   "outputs": [],
   "source": [
    "def create_sequences(data, labels, num_samples=104, overlap=0.5):\n",
    "    \"\"\"Takes tabular data and creates times sequences with given sample width.\"\"\"\n",
    "\n",
    "    # create empty lists for stacking\n",
    "    data_sequences = []\n",
    "    data_labels = []\n",
    "    # get the number of examples\n",
    "    num_examples = data.shape[0]\n",
    "    # compute stride value\n",
    "    strides = num_samples - floor(num_samples * overlap)\n",
    "    # compute the number of sequences to use as iterator\n",
    "    num_sequences = floor((num_examples - num_samples) / strides) + 1\n",
    "\n",
    "    # iterate for sequence range\n",
    "    for ind in range(num_sequences):\n",
    "\n",
    "        # define start index\n",
    "        ind_start = ind * strides\n",
    "        # define end index\n",
    "        ind_end = ind_start + num_samples\n",
    "        # get the current data slice by using start and end indexes\n",
    "        slice_seq_acc = data.values[ind_start:ind_end]\n",
    "        # get the current labels slice by using start and end indexes\n",
    "        slice_seq_label = labels.values[ind_start:ind_end]\n",
    "\n",
    "        # take the modal value of label slice: (replace with .mode())\n",
    "        label_seq = mode(slice_seq_label, keepdims=True)[0][0]\n",
    "\n",
    "        # stack current slices\n",
    "        data_sequences.append(slice_seq_acc)\n",
    "        data_labels.append(label_seq)\n",
    "\n",
    "    # convert stacks to numpy array\n",
    "    data_sequences = np.array(data_sequences)\n",
    "    data_labels = np.array(data_labels)\n",
    "\n",
    "    # return sequence and label stacks as X and Y\n",
    "    return data_sequences, data_labels"
   ]
  },
  {
   "cell_type": "markdown",
   "metadata": {},
   "source": [
    "Orijinal veri setinden sekans paketleri içeren veri setinin eldesi:"
   ]
  },
  {
   "cell_type": "code",
   "execution_count": 15,
   "metadata": {},
   "outputs": [],
   "source": [
    "x_feats_seq, y_labels_seq = create_sequences(\n",
    "                                    data= df_feats,\n",
    "                                    labels= df_labels_ohe,\n",
    "                                    num_samples= seq_length,\n",
    "                                    overlap=overlapping_ratio)"
   ]
  },
  {
   "cell_type": "code",
   "execution_count": 16,
   "metadata": {},
   "outputs": [
    {
     "name": "stdout",
     "output_type": "stream",
     "text": [
      "Shape of Sequence Features: (4908, 128, 6)\n",
      "Shape of Sequence Labels: (4908, 5)\n"
     ]
    }
   ],
   "source": [
    "print(\"Shape of Sequence Features:\" , x_feats_seq.shape)\n",
    "print(\"Shape of Sequence Labels:\" , y_labels_seq.shape)"
   ]
  },
  {
   "cell_type": "markdown",
   "metadata": {},
   "source": [
    "### 2.5. Train and Test Veri Setlerinin Ayrımı"
   ]
  },
  {
   "cell_type": "markdown",
   "metadata": {},
   "source": [
    "Train/Test bölme oranı tanımlanması:"
   ]
  },
  {
   "cell_type": "code",
   "execution_count": 17,
   "metadata": {},
   "outputs": [],
   "source": [
    "test_split_ratio = 0.1"
   ]
  },
  {
   "cell_type": "markdown",
   "metadata": {},
   "source": [
    "Veri setinin bölünmesi:"
   ]
  },
  {
   "cell_type": "code",
   "execution_count": 18,
   "metadata": {},
   "outputs": [],
   "source": [
    "x_train_seq, x_test_seq, y_train_seq, y_test_seq = train_test_split(x_feats_seq, y_labels_seq, test_size=test_split_ratio, shuffle=True)"
   ]
  },
  {
   "cell_type": "code",
   "execution_count": 19,
   "metadata": {},
   "outputs": [
    {
     "name": "stdout",
     "output_type": "stream",
     "text": [
      "Shapes of Train Set - Features: (4417, 128, 6) - Labels: (4417, 5)\n",
      "Shapes of Test Set - Features: (491, 128, 6) - Labels: (491, 5) \n"
     ]
    }
   ],
   "source": [
    "print(f\"Shapes of Train Set - Features: {x_train_seq.shape} - Labels: {y_train_seq.shape}\")\n",
    "print(f\"Shapes of Test Set - Features: {x_test_seq.shape} - Labels: {y_test_seq.shape} \")"
   ]
  },
  {
   "cell_type": "markdown",
   "metadata": {},
   "source": [
    "## 3. Yapay Zeka Modelinin Oluşturulması"
   ]
  },
  {
   "cell_type": "markdown",
   "metadata": {},
   "source": [
    "### 3.1. Model Oluşturma"
   ]
  },
  {
   "cell_type": "markdown",
   "metadata": {},
   "source": [
    "1-D CNN modeli için model oluşturma fonksiyonunun tanımlanması:"
   ]
  },
  {
   "cell_type": "code",
   "execution_count": 20,
   "metadata": {},
   "outputs": [],
   "source": [
    "def create_cnn_model(input_shape, output_shape):\n",
    "\n",
    "        \"\"\"Creates 1D-CNN model for sequence processing.\n",
    "\n",
    "        Parameters:\n",
    "            - input_shape: model input shape\n",
    "            - output_shape: model output shape (number of classes)\n",
    "        returns:\n",
    "            - model: keras Sequential CNN model\n",
    "        \"\"\"\n",
    "\n",
    "        model_cnn = Sequential(name=\"model_CNN\")\n",
    "        # Layer-1: Conv1D\n",
    "        model_cnn.add(\n",
    "            Conv1D(\n",
    "                filters=64,\n",
    "                kernel_size=3,\n",
    "                activation=\"relu\",\n",
    "                padding=\"valid\",\n",
    "                strides=1,\n",
    "                input_shape=input_shape,\n",
    "            )\n",
    "        )\n",
    "        # Layer-2: Conv1D\n",
    "        model_cnn.add(\n",
    "            Conv1D(filters=32, kernel_size=3, activation=\"relu\", padding=\"valid\", strides=1)\n",
    "        )\n",
    "        # Layer-3: Dropout\n",
    "        model_cnn.add(Dropout(0.4))\n",
    "        # Layer-4: MaxPooling\n",
    "        model_cnn.add(MaxPooling1D(pool_size=2, strides=2))\n",
    "        # Layer-5: Flattening\n",
    "        model_cnn.add(Flatten())\n",
    "        # Layer-6: Fully-Connected\n",
    "        model_cnn.add(Dense(units=32, activation=\"relu\"))\n",
    "        # Layer-Output: Softmax\n",
    "        model_cnn.add(Dense(units=output_shape, activation=\"softmax\"))\n",
    "        # return CNN model object\n",
    "        return model_cnn"
   ]
  },
  {
   "cell_type": "markdown",
   "metadata": {},
   "source": [
    "Ardından, öncesinde tanımlanan model oluşturma fonksiyonunu kullanan model eğitim fonksiyonunun tanımlaması: "
   ]
  },
  {
   "cell_type": "code",
   "execution_count": 21,
   "metadata": {},
   "outputs": [],
   "source": [
    "def train_model(X, y, max_epochs=500, batch_size=128, lr=0.001, X_val=None, y_val=None):\n",
    "\n",
    "    # get seq lenght and num of features\n",
    "    seq_length, num_features = X.shape[1:]\n",
    "    # get number of features and define input shape\n",
    "    input_shape_cnn = seq_length, num_features\n",
    "    # define output shape\n",
    "    output_classes_cnn = y[0].size\n",
    "    print(\"model input shape:\", input_shape_cnn)\n",
    "    print(\"output input shape:\", output_classes_cnn)\n",
    "\n",
    "    # create CNN model instance\n",
    "    model = create_cnn_model(input_shape_cnn, output_classes_cnn)\n",
    "\n",
    "    # compile model\n",
    "    model.compile(\n",
    "        optimizer=tf.keras.optimizers.Adam(learning_rate=lr),\n",
    "        loss=\"categorical_crossentropy\",\n",
    "        metrics=[\"categorical_accuracy\"],\n",
    "    )\n",
    "    # define EarlyStopping callback\n",
    "    callback_early_stopping = tf.keras.callbacks.EarlyStopping(\n",
    "        monitor=\"loss\", min_delta=0, patience=10\n",
    "    )\n",
    "    # train a model for current param. combination\n",
    "    history = model.fit(\n",
    "        X,\n",
    "        y,\n",
    "        epochs=max_epochs,\n",
    "        batch_size=batch_size,\n",
    "        callbacks=[callback_early_stopping],\n",
    "        validation_data=(X_val, y_val), # if  isinstance(None, (type(X_val), type(y_val))) else None,\n",
    "    )\n",
    "\n",
    "    # return training history and trained model\n",
    "    return history, model"
   ]
  },
  {
   "cell_type": "markdown",
   "metadata": {},
   "source": [
    "### 3.2. Model Eğitimi"
   ]
  },
  {
   "cell_type": "code",
   "execution_count": 22,
   "metadata": {},
   "outputs": [
    {
     "name": "stdout",
     "output_type": "stream",
     "text": [
      "model input shape: (128, 6)\n",
      "output input shape: 5\n",
      "Epoch 1/500\n"
     ]
    },
    {
     "name": "stderr",
     "output_type": "stream",
     "text": [
      "2024-06-06 15:46:08.872265: I tensorflow/compiler/xla/stream_executor/cuda/cuda_gpu_executor.cc:995] successful NUMA node read from SysFS had negative value (-1), but there must be at least one NUMA node, so returning NUMA node zero. See more at https://github.com/torvalds/linux/blob/v6.0/Documentation/ABI/testing/sysfs-bus-pci#L344-L355\n",
      "2024-06-06 15:46:09.009667: W tensorflow/core/common_runtime/gpu/gpu_device.cc:1960] Cannot dlopen some GPU libraries. Please make sure the missing libraries mentioned above are installed properly if you would like to use GPU. Follow the guide at https://www.tensorflow.org/install/gpu for how to download and setup the required libraries for your platform.\n",
      "Skipping registering GPU devices...\n"
     ]
    },
    {
     "name": "stdout",
     "output_type": "stream",
     "text": [
      "35/35 [==============================] - 2s 30ms/step - loss: 115.7549 - categorical_accuracy: 0.3403 - val_loss: 27.2946 - val_categorical_accuracy: 0.4827\n",
      "Epoch 2/500\n",
      "35/35 [==============================] - 1s 24ms/step - loss: 30.2149 - categorical_accuracy: 0.5017 - val_loss: 7.8680 - val_categorical_accuracy: 0.5234\n",
      "Epoch 3/500\n",
      "35/35 [==============================] - 1s 24ms/step - loss: 8.0958 - categorical_accuracy: 0.4899 - val_loss: 1.7940 - val_categorical_accuracy: 0.4053\n",
      "Epoch 4/500\n",
      "35/35 [==============================] - 1s 22ms/step - loss: 2.2729 - categorical_accuracy: 0.4236 - val_loss: 1.4968 - val_categorical_accuracy: 0.3360\n",
      "Epoch 5/500\n",
      "35/35 [==============================] - 1s 23ms/step - loss: 1.7284 - categorical_accuracy: 0.3862 - val_loss: 1.4525 - val_categorical_accuracy: 0.3259\n",
      "Epoch 6/500\n",
      "35/35 [==============================] - 1s 24ms/step - loss: 1.6256 - categorical_accuracy: 0.3665 - val_loss: 1.4837 - val_categorical_accuracy: 0.3055\n",
      "Epoch 7/500\n",
      "35/35 [==============================] - 1s 23ms/step - loss: 1.5582 - categorical_accuracy: 0.3647 - val_loss: 1.4760 - val_categorical_accuracy: 0.3096\n",
      "Epoch 8/500\n",
      "35/35 [==============================] - 1s 22ms/step - loss: 1.5357 - categorical_accuracy: 0.3625 - val_loss: 1.4808 - val_categorical_accuracy: 0.3014\n",
      "Epoch 9/500\n",
      "35/35 [==============================] - 1s 21ms/step - loss: 1.4996 - categorical_accuracy: 0.3629 - val_loss: 1.4587 - val_categorical_accuracy: 0.3157\n",
      "Epoch 10/500\n",
      "35/35 [==============================] - 1s 23ms/step - loss: 1.5110 - categorical_accuracy: 0.3640 - val_loss: 1.4672 - val_categorical_accuracy: 0.3116\n",
      "Epoch 11/500\n",
      "35/35 [==============================] - 1s 22ms/step - loss: 1.4577 - categorical_accuracy: 0.3679 - val_loss: 1.4715 - val_categorical_accuracy: 0.3035\n",
      "Epoch 12/500\n",
      "35/35 [==============================] - 1s 22ms/step - loss: 1.4593 - categorical_accuracy: 0.3582 - val_loss: 1.4647 - val_categorical_accuracy: 0.3096\n",
      "Epoch 13/500\n",
      "35/35 [==============================] - 1s 21ms/step - loss: 1.4583 - categorical_accuracy: 0.3704 - val_loss: 1.4584 - val_categorical_accuracy: 0.3096\n",
      "Epoch 14/500\n",
      "35/35 [==============================] - 1s 23ms/step - loss: 1.4616 - categorical_accuracy: 0.3704 - val_loss: 1.4389 - val_categorical_accuracy: 0.3198\n",
      "Epoch 15/500\n",
      "35/35 [==============================] - 1s 23ms/step - loss: 1.4286 - categorical_accuracy: 0.3860 - val_loss: 1.4012 - val_categorical_accuracy: 0.3442\n",
      "Epoch 16/500\n",
      "35/35 [==============================] - 1s 22ms/step - loss: 1.3883 - categorical_accuracy: 0.4184 - val_loss: 1.4085 - val_categorical_accuracy: 0.3483\n",
      "Epoch 17/500\n",
      "35/35 [==============================] - 1s 23ms/step - loss: 1.4184 - categorical_accuracy: 0.3976 - val_loss: 1.4301 - val_categorical_accuracy: 0.3279\n",
      "Epoch 18/500\n",
      "35/35 [==============================] - 1s 23ms/step - loss: 1.3478 - categorical_accuracy: 0.4145 - val_loss: 1.3566 - val_categorical_accuracy: 0.3747\n",
      "Epoch 19/500\n",
      "35/35 [==============================] - 1s 24ms/step - loss: 1.3781 - categorical_accuracy: 0.4582 - val_loss: 1.3135 - val_categorical_accuracy: 0.4114\n",
      "Epoch 20/500\n",
      "35/35 [==============================] - 1s 22ms/step - loss: 1.3541 - categorical_accuracy: 0.4537 - val_loss: 1.3316 - val_categorical_accuracy: 0.3931\n",
      "Epoch 21/500\n",
      "35/35 [==============================] - 1s 22ms/step - loss: 1.3337 - categorical_accuracy: 0.4435 - val_loss: 1.3505 - val_categorical_accuracy: 0.3788\n",
      "Epoch 22/500\n",
      "35/35 [==============================] - 1s 23ms/step - loss: 1.3196 - categorical_accuracy: 0.4535 - val_loss: 1.2958 - val_categorical_accuracy: 0.4053\n",
      "Epoch 23/500\n",
      "35/35 [==============================] - 1s 23ms/step - loss: 1.3272 - categorical_accuracy: 0.4496 - val_loss: 1.2915 - val_categorical_accuracy: 0.4033\n",
      "Epoch 24/500\n",
      "35/35 [==============================] - 1s 24ms/step - loss: 1.2779 - categorical_accuracy: 0.4666 - val_loss: 1.2710 - val_categorical_accuracy: 0.4155\n",
      "Epoch 25/500\n",
      "35/35 [==============================] - 1s 24ms/step - loss: 1.3255 - categorical_accuracy: 0.4695 - val_loss: 1.2583 - val_categorical_accuracy: 0.4236\n",
      "Epoch 26/500\n",
      "35/35 [==============================] - 1s 24ms/step - loss: 1.2331 - categorical_accuracy: 0.5015 - val_loss: 1.1681 - val_categorical_accuracy: 0.4807\n",
      "Epoch 27/500\n",
      "35/35 [==============================] - 1s 23ms/step - loss: 1.2586 - categorical_accuracy: 0.4895 - val_loss: 1.2421 - val_categorical_accuracy: 0.4297\n",
      "Epoch 28/500\n",
      "35/35 [==============================] - 1s 22ms/step - loss: 1.2190 - categorical_accuracy: 0.5028 - val_loss: 1.1830 - val_categorical_accuracy: 0.4684\n",
      "Epoch 29/500\n",
      "35/35 [==============================] - 1s 21ms/step - loss: 1.1969 - categorical_accuracy: 0.5006 - val_loss: 1.1906 - val_categorical_accuracy: 0.4582\n",
      "Epoch 30/500\n",
      "35/35 [==============================] - 1s 21ms/step - loss: 1.1862 - categorical_accuracy: 0.5255 - val_loss: 1.1952 - val_categorical_accuracy: 0.4562\n",
      "Epoch 31/500\n",
      "35/35 [==============================] - 1s 20ms/step - loss: 1.1894 - categorical_accuracy: 0.5216 - val_loss: 1.1199 - val_categorical_accuracy: 0.5031\n",
      "Epoch 32/500\n",
      "35/35 [==============================] - 1s 20ms/step - loss: 1.1371 - categorical_accuracy: 0.5642 - val_loss: 1.1041 - val_categorical_accuracy: 0.5275\n",
      "Epoch 33/500\n",
      "35/35 [==============================] - 1s 21ms/step - loss: 1.1035 - categorical_accuracy: 0.5732 - val_loss: 1.0831 - val_categorical_accuracy: 0.5336\n",
      "Epoch 34/500\n",
      "35/35 [==============================] - 1s 20ms/step - loss: 1.1082 - categorical_accuracy: 0.5664 - val_loss: 1.1214 - val_categorical_accuracy: 0.4990\n",
      "Epoch 35/500\n",
      "35/35 [==============================] - 1s 20ms/step - loss: 1.1392 - categorical_accuracy: 0.5524 - val_loss: 1.1102 - val_categorical_accuracy: 0.4969\n",
      "Epoch 36/500\n",
      "35/35 [==============================] - 1s 21ms/step - loss: 1.1034 - categorical_accuracy: 0.5769 - val_loss: 1.0294 - val_categorical_accuracy: 0.5743\n",
      "Epoch 37/500\n",
      "35/35 [==============================] - 1s 21ms/step - loss: 1.0797 - categorical_accuracy: 0.5685 - val_loss: 1.0272 - val_categorical_accuracy: 0.5458\n",
      "Epoch 38/500\n",
      "35/35 [==============================] - 1s 21ms/step - loss: 1.0582 - categorical_accuracy: 0.5685 - val_loss: 1.0791 - val_categorical_accuracy: 0.5173\n",
      "Epoch 39/500\n",
      "35/35 [==============================] - 1s 20ms/step - loss: 1.0784 - categorical_accuracy: 0.5855 - val_loss: 1.0449 - val_categorical_accuracy: 0.5580\n",
      "Epoch 40/500\n",
      "35/35 [==============================] - 1s 22ms/step - loss: 1.0575 - categorical_accuracy: 0.5886 - val_loss: 1.0374 - val_categorical_accuracy: 0.5418\n",
      "Epoch 41/500\n",
      "35/35 [==============================] - 1s 22ms/step - loss: 1.0356 - categorical_accuracy: 0.6024 - val_loss: 1.0412 - val_categorical_accuracy: 0.5316\n",
      "Epoch 42/500\n",
      "35/35 [==============================] - 1s 21ms/step - loss: 0.9981 - categorical_accuracy: 0.6020 - val_loss: 0.9998 - val_categorical_accuracy: 0.5784\n",
      "Epoch 43/500\n",
      "35/35 [==============================] - 1s 21ms/step - loss: 0.9780 - categorical_accuracy: 0.6221 - val_loss: 0.9764 - val_categorical_accuracy: 0.5682\n",
      "Epoch 44/500\n",
      "35/35 [==============================] - 1s 21ms/step - loss: 1.0134 - categorical_accuracy: 0.6255 - val_loss: 0.9525 - val_categorical_accuracy: 0.5804\n",
      "Epoch 45/500\n",
      "35/35 [==============================] - 1s 21ms/step - loss: 1.0294 - categorical_accuracy: 0.6049 - val_loss: 1.0328 - val_categorical_accuracy: 0.5336\n",
      "Epoch 46/500\n",
      "35/35 [==============================] - 1s 22ms/step - loss: 0.9673 - categorical_accuracy: 0.6115 - val_loss: 0.9382 - val_categorical_accuracy: 0.5927\n",
      "Epoch 47/500\n",
      "35/35 [==============================] - 1s 20ms/step - loss: 0.9762 - categorical_accuracy: 0.6344 - val_loss: 0.9054 - val_categorical_accuracy: 0.6090\n",
      "Epoch 48/500\n",
      "35/35 [==============================] - 1s 20ms/step - loss: 0.9107 - categorical_accuracy: 0.6534 - val_loss: 0.9330 - val_categorical_accuracy: 0.6069\n",
      "Epoch 49/500\n",
      "35/35 [==============================] - 1s 21ms/step - loss: 0.9086 - categorical_accuracy: 0.6543 - val_loss: 0.9263 - val_categorical_accuracy: 0.5947\n",
      "Epoch 50/500\n",
      "35/35 [==============================] - 1s 21ms/step - loss: 0.9822 - categorical_accuracy: 0.6262 - val_loss: 0.9802 - val_categorical_accuracy: 0.5580\n",
      "Epoch 51/500\n",
      "35/35 [==============================] - 1s 19ms/step - loss: 0.9035 - categorical_accuracy: 0.6409 - val_loss: 0.8643 - val_categorical_accuracy: 0.6273\n",
      "Epoch 52/500\n",
      "35/35 [==============================] - 1s 21ms/step - loss: 0.9056 - categorical_accuracy: 0.6541 - val_loss: 0.8652 - val_categorical_accuracy: 0.6273\n",
      "Epoch 53/500\n",
      "35/35 [==============================] - 1s 21ms/step - loss: 0.9464 - categorical_accuracy: 0.6303 - val_loss: 0.9142 - val_categorical_accuracy: 0.5927\n",
      "Epoch 54/500\n",
      "35/35 [==============================] - 1s 21ms/step - loss: 0.8939 - categorical_accuracy: 0.6375 - val_loss: 0.8848 - val_categorical_accuracy: 0.6110\n",
      "Epoch 55/500\n",
      "35/35 [==============================] - 1s 23ms/step - loss: 0.8660 - categorical_accuracy: 0.6695 - val_loss: 0.9189 - val_categorical_accuracy: 0.5947\n",
      "Epoch 56/500\n",
      "35/35 [==============================] - 1s 20ms/step - loss: 0.8484 - categorical_accuracy: 0.6817 - val_loss: 0.7893 - val_categorical_accuracy: 0.6640\n",
      "Epoch 57/500\n",
      "35/35 [==============================] - 1s 20ms/step - loss: 0.8707 - categorical_accuracy: 0.6538 - val_loss: 0.9111 - val_categorical_accuracy: 0.5947\n",
      "Epoch 58/500\n",
      "35/35 [==============================] - 1s 21ms/step - loss: 0.8624 - categorical_accuracy: 0.6627 - val_loss: 0.8555 - val_categorical_accuracy: 0.6314\n",
      "Epoch 59/500\n",
      "35/35 [==============================] - 1s 20ms/step - loss: 0.7970 - categorical_accuracy: 0.6792 - val_loss: 0.7589 - val_categorical_accuracy: 0.6762\n",
      "Epoch 60/500\n",
      "35/35 [==============================] - 1s 21ms/step - loss: 0.8299 - categorical_accuracy: 0.6815 - val_loss: 0.8554 - val_categorical_accuracy: 0.6293\n",
      "Epoch 61/500\n",
      "35/35 [==============================] - 1s 21ms/step - loss: 0.8098 - categorical_accuracy: 0.6722 - val_loss: 0.8540 - val_categorical_accuracy: 0.6191\n",
      "Epoch 62/500\n",
      "35/35 [==============================] - 1s 19ms/step - loss: 0.8178 - categorical_accuracy: 0.6774 - val_loss: 0.7749 - val_categorical_accuracy: 0.6782\n",
      "Epoch 63/500\n",
      "35/35 [==============================] - 1s 20ms/step - loss: 0.8476 - categorical_accuracy: 0.6876 - val_loss: 0.8774 - val_categorical_accuracy: 0.6212\n",
      "Epoch 64/500\n",
      "35/35 [==============================] - 1s 20ms/step - loss: 0.7878 - categorical_accuracy: 0.6941 - val_loss: 0.7593 - val_categorical_accuracy: 0.6925\n",
      "Epoch 65/500\n",
      "35/35 [==============================] - 1s 23ms/step - loss: 0.8124 - categorical_accuracy: 0.7036 - val_loss: 0.8678 - val_categorical_accuracy: 0.6253\n",
      "Epoch 66/500\n",
      "35/35 [==============================] - 1s 20ms/step - loss: 0.8157 - categorical_accuracy: 0.6740 - val_loss: 0.8293 - val_categorical_accuracy: 0.6456\n",
      "Epoch 67/500\n",
      "35/35 [==============================] - 1s 20ms/step - loss: 0.8146 - categorical_accuracy: 0.7007 - val_loss: 0.7835 - val_categorical_accuracy: 0.6762\n",
      "Epoch 68/500\n",
      "35/35 [==============================] - 1s 21ms/step - loss: 0.7680 - categorical_accuracy: 0.7283 - val_loss: 0.7229 - val_categorical_accuracy: 0.7067\n",
      "Epoch 69/500\n",
      "35/35 [==============================] - 1s 20ms/step - loss: 0.7276 - categorical_accuracy: 0.7256 - val_loss: 0.7181 - val_categorical_accuracy: 0.7088\n",
      "Epoch 70/500\n",
      "35/35 [==============================] - 1s 21ms/step - loss: 0.7949 - categorical_accuracy: 0.7224 - val_loss: 0.7979 - val_categorical_accuracy: 0.6741\n",
      "Epoch 71/500\n",
      "35/35 [==============================] - 1s 20ms/step - loss: 0.8584 - categorical_accuracy: 0.6885 - val_loss: 0.8495 - val_categorical_accuracy: 0.6477\n",
      "Epoch 72/500\n",
      "35/35 [==============================] - 1s 20ms/step - loss: 0.7551 - categorical_accuracy: 0.7292 - val_loss: 0.7449 - val_categorical_accuracy: 0.7128\n",
      "Epoch 73/500\n",
      "35/35 [==============================] - 1s 22ms/step - loss: 0.7646 - categorical_accuracy: 0.7242 - val_loss: 0.8427 - val_categorical_accuracy: 0.7026\n",
      "Epoch 74/500\n",
      "35/35 [==============================] - 1s 22ms/step - loss: 0.7259 - categorical_accuracy: 0.7396 - val_loss: 0.7326 - val_categorical_accuracy: 0.7026\n",
      "Epoch 75/500\n",
      "35/35 [==============================] - 1s 21ms/step - loss: 0.6764 - categorical_accuracy: 0.7439 - val_loss: 0.6788 - val_categorical_accuracy: 0.7230\n",
      "Epoch 76/500\n",
      "35/35 [==============================] - 1s 21ms/step - loss: 0.6793 - categorical_accuracy: 0.7641 - val_loss: 0.7125 - val_categorical_accuracy: 0.7149\n",
      "Epoch 77/500\n",
      "35/35 [==============================] - 1s 21ms/step - loss: 0.6818 - categorical_accuracy: 0.7673 - val_loss: 0.7088 - val_categorical_accuracy: 0.7210\n",
      "Epoch 78/500\n",
      "35/35 [==============================] - 1s 21ms/step - loss: 0.6353 - categorical_accuracy: 0.7784 - val_loss: 0.6282 - val_categorical_accuracy: 0.7637\n",
      "Epoch 79/500\n",
      "35/35 [==============================] - 1s 21ms/step - loss: 0.6353 - categorical_accuracy: 0.7947 - val_loss: 0.6362 - val_categorical_accuracy: 0.7882\n",
      "Epoch 80/500\n",
      "35/35 [==============================] - 1s 21ms/step - loss: 0.6488 - categorical_accuracy: 0.7985 - val_loss: 0.6077 - val_categorical_accuracy: 0.7882\n",
      "Epoch 81/500\n",
      "35/35 [==============================] - 1s 21ms/step - loss: 0.6366 - categorical_accuracy: 0.8177 - val_loss: 0.6142 - val_categorical_accuracy: 0.7739\n",
      "Epoch 82/500\n",
      "35/35 [==============================] - 1s 22ms/step - loss: 0.6482 - categorical_accuracy: 0.7858 - val_loss: 0.6520 - val_categorical_accuracy: 0.7576\n",
      "Epoch 83/500\n",
      "35/35 [==============================] - 1s 20ms/step - loss: 0.6188 - categorical_accuracy: 0.7981 - val_loss: 0.6097 - val_categorical_accuracy: 0.8024\n",
      "Epoch 84/500\n",
      "35/35 [==============================] - 1s 20ms/step - loss: 0.5725 - categorical_accuracy: 0.8350 - val_loss: 0.5620 - val_categorical_accuracy: 0.8045\n",
      "Epoch 85/500\n",
      "35/35 [==============================] - 1s 21ms/step - loss: 0.5619 - categorical_accuracy: 0.8361 - val_loss: 0.5235 - val_categorical_accuracy: 0.8452\n",
      "Epoch 86/500\n",
      "35/35 [==============================] - 1s 21ms/step - loss: 0.5727 - categorical_accuracy: 0.8440 - val_loss: 0.5334 - val_categorical_accuracy: 0.8289\n",
      "Epoch 87/500\n",
      "35/35 [==============================] - 1s 20ms/step - loss: 0.5595 - categorical_accuracy: 0.8417 - val_loss: 0.5317 - val_categorical_accuracy: 0.8228\n",
      "Epoch 88/500\n",
      "35/35 [==============================] - 1s 21ms/step - loss: 0.5393 - categorical_accuracy: 0.8497 - val_loss: 0.5637 - val_categorical_accuracy: 0.8187\n",
      "Epoch 89/500\n",
      "35/35 [==============================] - 1s 21ms/step - loss: 0.5576 - categorical_accuracy: 0.8580 - val_loss: 0.5539 - val_categorical_accuracy: 0.8269\n",
      "Epoch 90/500\n",
      "35/35 [==============================] - 1s 19ms/step - loss: 0.5310 - categorical_accuracy: 0.8619 - val_loss: 0.5138 - val_categorical_accuracy: 0.8371\n",
      "Epoch 91/500\n",
      "35/35 [==============================] - 1s 20ms/step - loss: 0.5011 - categorical_accuracy: 0.8716 - val_loss: 0.4928 - val_categorical_accuracy: 0.8432\n",
      "Epoch 92/500\n",
      "35/35 [==============================] - 1s 21ms/step - loss: 0.5117 - categorical_accuracy: 0.8698 - val_loss: 0.5584 - val_categorical_accuracy: 0.8289\n",
      "Epoch 93/500\n",
      "35/35 [==============================] - 1s 19ms/step - loss: 0.5061 - categorical_accuracy: 0.8673 - val_loss: 0.5969 - val_categorical_accuracy: 0.8289\n",
      "Epoch 94/500\n",
      "35/35 [==============================] - 1s 21ms/step - loss: 0.4708 - categorical_accuracy: 0.8766 - val_loss: 0.5295 - val_categorical_accuracy: 0.8656\n",
      "Epoch 95/500\n",
      "35/35 [==============================] - 1s 21ms/step - loss: 0.4382 - categorical_accuracy: 0.8938 - val_loss: 0.4694 - val_categorical_accuracy: 0.8595\n",
      "Epoch 96/500\n",
      "35/35 [==============================] - 1s 21ms/step - loss: 0.4596 - categorical_accuracy: 0.8920 - val_loss: 0.4893 - val_categorical_accuracy: 0.8452\n",
      "Epoch 97/500\n",
      "35/35 [==============================] - 1s 22ms/step - loss: 0.4557 - categorical_accuracy: 0.8809 - val_loss: 0.4764 - val_categorical_accuracy: 0.8615\n",
      "Epoch 98/500\n",
      "35/35 [==============================] - 1s 20ms/step - loss: 0.4386 - categorical_accuracy: 0.8884 - val_loss: 0.5088 - val_categorical_accuracy: 0.8330\n",
      "Epoch 99/500\n",
      "35/35 [==============================] - 1s 19ms/step - loss: 0.4384 - categorical_accuracy: 0.8954 - val_loss: 0.5154 - val_categorical_accuracy: 0.8697\n",
      "Epoch 100/500\n",
      "35/35 [==============================] - 1s 21ms/step - loss: 0.4117 - categorical_accuracy: 0.8997 - val_loss: 0.4528 - val_categorical_accuracy: 0.8758\n",
      "Epoch 101/500\n",
      "35/35 [==============================] - 1s 20ms/step - loss: 0.4360 - categorical_accuracy: 0.9013 - val_loss: 0.4767 - val_categorical_accuracy: 0.8615\n",
      "Epoch 102/500\n",
      "35/35 [==============================] - 1s 20ms/step - loss: 0.4293 - categorical_accuracy: 0.9074 - val_loss: 0.5138 - val_categorical_accuracy: 0.8554\n",
      "Epoch 103/500\n",
      "35/35 [==============================] - 1s 21ms/step - loss: 0.4059 - categorical_accuracy: 0.8999 - val_loss: 0.4302 - val_categorical_accuracy: 0.8758\n",
      "Epoch 104/500\n",
      "35/35 [==============================] - 1s 21ms/step - loss: 0.4231 - categorical_accuracy: 0.9015 - val_loss: 0.4275 - val_categorical_accuracy: 0.8859\n",
      "Epoch 105/500\n",
      "35/35 [==============================] - 1s 20ms/step - loss: 0.3928 - categorical_accuracy: 0.9108 - val_loss: 0.4315 - val_categorical_accuracy: 0.8961\n",
      "Epoch 106/500\n",
      "35/35 [==============================] - 1s 20ms/step - loss: 0.3865 - categorical_accuracy: 0.9088 - val_loss: 0.4023 - val_categorical_accuracy: 0.8900\n",
      "Epoch 107/500\n",
      "35/35 [==============================] - 1s 21ms/step - loss: 0.3826 - categorical_accuracy: 0.9133 - val_loss: 0.4455 - val_categorical_accuracy: 0.8778\n",
      "Epoch 108/500\n",
      "35/35 [==============================] - 1s 21ms/step - loss: 0.3699 - categorical_accuracy: 0.9151 - val_loss: 0.4886 - val_categorical_accuracy: 0.8819\n",
      "Epoch 109/500\n",
      "35/35 [==============================] - 1s 20ms/step - loss: 0.3611 - categorical_accuracy: 0.9171 - val_loss: 0.4868 - val_categorical_accuracy: 0.8880\n",
      "Epoch 110/500\n",
      "35/35 [==============================] - 1s 21ms/step - loss: 0.3715 - categorical_accuracy: 0.9199 - val_loss: 0.4728 - val_categorical_accuracy: 0.8900\n",
      "Epoch 111/500\n",
      "35/35 [==============================] - 1s 21ms/step - loss: 0.3836 - categorical_accuracy: 0.9137 - val_loss: 0.5433 - val_categorical_accuracy: 0.8534\n",
      "Epoch 112/500\n",
      "35/35 [==============================] - 1s 20ms/step - loss: 0.3830 - categorical_accuracy: 0.9051 - val_loss: 0.4946 - val_categorical_accuracy: 0.8819\n",
      "Epoch 113/500\n",
      "35/35 [==============================] - 1s 20ms/step - loss: 0.3631 - categorical_accuracy: 0.9194 - val_loss: 0.4502 - val_categorical_accuracy: 0.8900\n",
      "Epoch 114/500\n",
      "35/35 [==============================] - 1s 20ms/step - loss: 0.3851 - categorical_accuracy: 0.9151 - val_loss: 0.4941 - val_categorical_accuracy: 0.8778\n",
      "Epoch 115/500\n",
      "35/35 [==============================] - 1s 21ms/step - loss: 0.3749 - categorical_accuracy: 0.9149 - val_loss: 0.4670 - val_categorical_accuracy: 0.8982\n",
      "Epoch 116/500\n",
      "35/35 [==============================] - 1s 20ms/step - loss: 0.3450 - categorical_accuracy: 0.9253 - val_loss: 0.3982 - val_categorical_accuracy: 0.8982\n",
      "Epoch 117/500\n",
      "35/35 [==============================] - 1s 21ms/step - loss: 0.3368 - categorical_accuracy: 0.9244 - val_loss: 0.3991 - val_categorical_accuracy: 0.9043\n",
      "Epoch 118/500\n",
      "35/35 [==============================] - 1s 21ms/step - loss: 0.3541 - categorical_accuracy: 0.9233 - val_loss: 0.4155 - val_categorical_accuracy: 0.8798\n",
      "Epoch 119/500\n",
      "35/35 [==============================] - 1s 19ms/step - loss: 0.3236 - categorical_accuracy: 0.9278 - val_loss: 0.4436 - val_categorical_accuracy: 0.8941\n",
      "Epoch 120/500\n",
      "35/35 [==============================] - 1s 19ms/step - loss: 0.3331 - categorical_accuracy: 0.9309 - val_loss: 0.5482 - val_categorical_accuracy: 0.8961\n",
      "Epoch 121/500\n",
      "35/35 [==============================] - 1s 20ms/step - loss: 0.3268 - categorical_accuracy: 0.9266 - val_loss: 0.4427 - val_categorical_accuracy: 0.9002\n",
      "Epoch 122/500\n",
      "35/35 [==============================] - 1s 20ms/step - loss: 0.3267 - categorical_accuracy: 0.9264 - val_loss: 0.4259 - val_categorical_accuracy: 0.8961\n",
      "Epoch 123/500\n",
      "35/35 [==============================] - 1s 21ms/step - loss: 0.3172 - categorical_accuracy: 0.9285 - val_loss: 0.4857 - val_categorical_accuracy: 0.8880\n",
      "Epoch 124/500\n",
      "35/35 [==============================] - 1s 22ms/step - loss: 0.3337 - categorical_accuracy: 0.9285 - val_loss: 0.3670 - val_categorical_accuracy: 0.9043\n",
      "Epoch 125/500\n",
      "35/35 [==============================] - 1s 20ms/step - loss: 0.3329 - categorical_accuracy: 0.9219 - val_loss: 0.3548 - val_categorical_accuracy: 0.9022\n",
      "Epoch 126/500\n",
      "35/35 [==============================] - 1s 19ms/step - loss: 0.3070 - categorical_accuracy: 0.9298 - val_loss: 0.3722 - val_categorical_accuracy: 0.9002\n",
      "Epoch 127/500\n",
      "35/35 [==============================] - 1s 20ms/step - loss: 0.3108 - categorical_accuracy: 0.9316 - val_loss: 0.3684 - val_categorical_accuracy: 0.9124\n",
      "Epoch 128/500\n",
      "35/35 [==============================] - 1s 21ms/step - loss: 0.3183 - categorical_accuracy: 0.9285 - val_loss: 0.3947 - val_categorical_accuracy: 0.8941\n",
      "Epoch 129/500\n",
      "35/35 [==============================] - 1s 21ms/step - loss: 0.3234 - categorical_accuracy: 0.9233 - val_loss: 0.3599 - val_categorical_accuracy: 0.9063\n",
      "Epoch 130/500\n",
      "35/35 [==============================] - 1s 24ms/step - loss: 0.3258 - categorical_accuracy: 0.9278 - val_loss: 0.3815 - val_categorical_accuracy: 0.8941\n",
      "Epoch 131/500\n",
      "35/35 [==============================] - 1s 21ms/step - loss: 0.3179 - categorical_accuracy: 0.9269 - val_loss: 0.3572 - val_categorical_accuracy: 0.9124\n",
      "Epoch 132/500\n",
      "35/35 [==============================] - 1s 20ms/step - loss: 0.3079 - categorical_accuracy: 0.9289 - val_loss: 0.3568 - val_categorical_accuracy: 0.9084\n",
      "Epoch 133/500\n",
      "35/35 [==============================] - 1s 20ms/step - loss: 0.2939 - categorical_accuracy: 0.9321 - val_loss: 0.3628 - val_categorical_accuracy: 0.9104\n",
      "Epoch 134/500\n",
      "35/35 [==============================] - 1s 21ms/step - loss: 0.2985 - categorical_accuracy: 0.9321 - val_loss: 0.4238 - val_categorical_accuracy: 0.8921\n",
      "Epoch 135/500\n",
      "35/35 [==============================] - 1s 21ms/step - loss: 0.3014 - categorical_accuracy: 0.9312 - val_loss: 0.3970 - val_categorical_accuracy: 0.9022\n",
      "Epoch 136/500\n",
      "35/35 [==============================] - 1s 22ms/step - loss: 0.2882 - categorical_accuracy: 0.9343 - val_loss: 0.4056 - val_categorical_accuracy: 0.9104\n",
      "Epoch 137/500\n",
      "35/35 [==============================] - 1s 21ms/step - loss: 0.2729 - categorical_accuracy: 0.9382 - val_loss: 0.3463 - val_categorical_accuracy: 0.9084\n",
      "Epoch 138/500\n",
      "35/35 [==============================] - 1s 20ms/step - loss: 0.3034 - categorical_accuracy: 0.9291 - val_loss: 0.3504 - val_categorical_accuracy: 0.8982\n",
      "Epoch 139/500\n",
      "35/35 [==============================] - 1s 26ms/step - loss: 0.2644 - categorical_accuracy: 0.9407 - val_loss: 0.3563 - val_categorical_accuracy: 0.9063\n",
      "Epoch 140/500\n",
      "35/35 [==============================] - 1s 26ms/step - loss: 0.2968 - categorical_accuracy: 0.9321 - val_loss: 0.3540 - val_categorical_accuracy: 0.8961\n",
      "Epoch 141/500\n",
      "35/35 [==============================] - 1s 28ms/step - loss: 0.2872 - categorical_accuracy: 0.9343 - val_loss: 0.3475 - val_categorical_accuracy: 0.9145\n",
      "Epoch 142/500\n",
      "35/35 [==============================] - 1s 25ms/step - loss: 0.2702 - categorical_accuracy: 0.9391 - val_loss: 0.3314 - val_categorical_accuracy: 0.9084\n",
      "Epoch 143/500\n",
      "35/35 [==============================] - 1s 21ms/step - loss: 0.2795 - categorical_accuracy: 0.9366 - val_loss: 0.3179 - val_categorical_accuracy: 0.9185\n",
      "Epoch 144/500\n",
      "35/35 [==============================] - 1s 21ms/step - loss: 0.2708 - categorical_accuracy: 0.9377 - val_loss: 0.3687 - val_categorical_accuracy: 0.9104\n",
      "Epoch 145/500\n",
      "35/35 [==============================] - 1s 20ms/step - loss: 0.2743 - categorical_accuracy: 0.9371 - val_loss: 0.3585 - val_categorical_accuracy: 0.9063\n",
      "Epoch 146/500\n",
      "35/35 [==============================] - 1s 20ms/step - loss: 0.2805 - categorical_accuracy: 0.9371 - val_loss: 0.3491 - val_categorical_accuracy: 0.9043\n",
      "Epoch 147/500\n",
      "35/35 [==============================] - 1s 21ms/step - loss: 0.2693 - categorical_accuracy: 0.9371 - val_loss: 0.3543 - val_categorical_accuracy: 0.9185\n",
      "Epoch 148/500\n",
      "35/35 [==============================] - 1s 20ms/step - loss: 0.2681 - categorical_accuracy: 0.9389 - val_loss: 0.3637 - val_categorical_accuracy: 0.9063\n",
      "Epoch 149/500\n",
      "35/35 [==============================] - 1s 21ms/step - loss: 0.2580 - categorical_accuracy: 0.9423 - val_loss: 0.3545 - val_categorical_accuracy: 0.9165\n",
      "Epoch 150/500\n",
      "35/35 [==============================] - 1s 21ms/step - loss: 0.2535 - categorical_accuracy: 0.9402 - val_loss: 0.3455 - val_categorical_accuracy: 0.9165\n",
      "Epoch 151/500\n",
      "35/35 [==============================] - 1s 19ms/step - loss: 0.2477 - categorical_accuracy: 0.9429 - val_loss: 0.3400 - val_categorical_accuracy: 0.9145\n",
      "Epoch 152/500\n",
      "35/35 [==============================] - 1s 21ms/step - loss: 0.2522 - categorical_accuracy: 0.9434 - val_loss: 0.3649 - val_categorical_accuracy: 0.9063\n",
      "Epoch 153/500\n",
      "35/35 [==============================] - 1s 21ms/step - loss: 0.2555 - categorical_accuracy: 0.9400 - val_loss: 0.3237 - val_categorical_accuracy: 0.9145\n",
      "Epoch 154/500\n",
      "35/35 [==============================] - 1s 21ms/step - loss: 0.2409 - categorical_accuracy: 0.9466 - val_loss: 0.3060 - val_categorical_accuracy: 0.9206\n",
      "Epoch 155/500\n",
      "35/35 [==============================] - 1s 21ms/step - loss: 0.2515 - categorical_accuracy: 0.9429 - val_loss: 0.3241 - val_categorical_accuracy: 0.9206\n",
      "Epoch 156/500\n",
      "35/35 [==============================] - 1s 20ms/step - loss: 0.2369 - categorical_accuracy: 0.9450 - val_loss: 0.2934 - val_categorical_accuracy: 0.9185\n",
      "Epoch 157/500\n",
      "35/35 [==============================] - 1s 21ms/step - loss: 0.2390 - categorical_accuracy: 0.9450 - val_loss: 0.3296 - val_categorical_accuracy: 0.9145\n",
      "Epoch 158/500\n",
      "35/35 [==============================] - 1s 21ms/step - loss: 0.2511 - categorical_accuracy: 0.9436 - val_loss: 0.3372 - val_categorical_accuracy: 0.9104\n",
      "Epoch 159/500\n",
      "35/35 [==============================] - 1s 22ms/step - loss: 0.2365 - categorical_accuracy: 0.9450 - val_loss: 0.3147 - val_categorical_accuracy: 0.9206\n",
      "Epoch 160/500\n",
      "35/35 [==============================] - 1s 21ms/step - loss: 0.2497 - categorical_accuracy: 0.9461 - val_loss: 0.3051 - val_categorical_accuracy: 0.9124\n",
      "Epoch 161/500\n",
      "35/35 [==============================] - 1s 21ms/step - loss: 0.2516 - categorical_accuracy: 0.9420 - val_loss: 0.3268 - val_categorical_accuracy: 0.9206\n",
      "Epoch 162/500\n",
      "35/35 [==============================] - 1s 21ms/step - loss: 0.2745 - categorical_accuracy: 0.9373 - val_loss: 0.3168 - val_categorical_accuracy: 0.9084\n",
      "Epoch 163/500\n",
      "35/35 [==============================] - 1s 21ms/step - loss: 0.2419 - categorical_accuracy: 0.9443 - val_loss: 0.3149 - val_categorical_accuracy: 0.9145\n",
      "Epoch 164/500\n",
      "35/35 [==============================] - 1s 22ms/step - loss: 0.2323 - categorical_accuracy: 0.9452 - val_loss: 0.2902 - val_categorical_accuracy: 0.9246\n",
      "Epoch 165/500\n",
      "35/35 [==============================] - 1s 21ms/step - loss: 0.2584 - categorical_accuracy: 0.9432 - val_loss: 0.3512 - val_categorical_accuracy: 0.9022\n",
      "Epoch 166/500\n",
      "35/35 [==============================] - 1s 22ms/step - loss: 0.2461 - categorical_accuracy: 0.9436 - val_loss: 0.3656 - val_categorical_accuracy: 0.9124\n",
      "Epoch 167/500\n",
      "35/35 [==============================] - 1s 20ms/step - loss: 0.2654 - categorical_accuracy: 0.9359 - val_loss: 0.4190 - val_categorical_accuracy: 0.8941\n",
      "Epoch 168/500\n",
      "35/35 [==============================] - 1s 20ms/step - loss: 0.2607 - categorical_accuracy: 0.9427 - val_loss: 0.3169 - val_categorical_accuracy: 0.9165\n",
      "Epoch 169/500\n",
      "35/35 [==============================] - 1s 21ms/step - loss: 0.2721 - categorical_accuracy: 0.9386 - val_loss: 0.3251 - val_categorical_accuracy: 0.9226\n",
      "Epoch 170/500\n",
      "35/35 [==============================] - 1s 21ms/step - loss: 0.2343 - categorical_accuracy: 0.9479 - val_loss: 0.3248 - val_categorical_accuracy: 0.9145\n",
      "Epoch 171/500\n",
      "35/35 [==============================] - 1s 19ms/step - loss: 0.2291 - categorical_accuracy: 0.9445 - val_loss: 0.3227 - val_categorical_accuracy: 0.9145\n",
      "Epoch 172/500\n",
      "35/35 [==============================] - 1s 20ms/step - loss: 0.2255 - categorical_accuracy: 0.9488 - val_loss: 0.3041 - val_categorical_accuracy: 0.9206\n",
      "Epoch 173/500\n",
      "35/35 [==============================] - 1s 21ms/step - loss: 0.2279 - categorical_accuracy: 0.9445 - val_loss: 0.3086 - val_categorical_accuracy: 0.9145\n",
      "Epoch 174/500\n",
      "35/35 [==============================] - 1s 20ms/step - loss: 0.2279 - categorical_accuracy: 0.9470 - val_loss: 0.3092 - val_categorical_accuracy: 0.9043\n",
      "Epoch 175/500\n",
      "35/35 [==============================] - 1s 21ms/step - loss: 0.2300 - categorical_accuracy: 0.9457 - val_loss: 0.2988 - val_categorical_accuracy: 0.9084\n",
      "Epoch 176/500\n",
      "35/35 [==============================] - 1s 18ms/step - loss: 0.2245 - categorical_accuracy: 0.9463 - val_loss: 0.2856 - val_categorical_accuracy: 0.9226\n",
      "Epoch 177/500\n",
      "35/35 [==============================] - 1s 20ms/step - loss: 0.2088 - categorical_accuracy: 0.9509 - val_loss: 0.2618 - val_categorical_accuracy: 0.9246\n",
      "Epoch 178/500\n",
      "35/35 [==============================] - 1s 20ms/step - loss: 0.2165 - categorical_accuracy: 0.9497 - val_loss: 0.3104 - val_categorical_accuracy: 0.9165\n",
      "Epoch 179/500\n",
      "35/35 [==============================] - 1s 20ms/step - loss: 0.2176 - categorical_accuracy: 0.9477 - val_loss: 0.3652 - val_categorical_accuracy: 0.9043\n",
      "Epoch 180/500\n",
      "35/35 [==============================] - 1s 20ms/step - loss: 0.2231 - categorical_accuracy: 0.9450 - val_loss: 0.3206 - val_categorical_accuracy: 0.9084\n",
      "Epoch 181/500\n",
      "35/35 [==============================] - 1s 19ms/step - loss: 0.2115 - categorical_accuracy: 0.9506 - val_loss: 0.3204 - val_categorical_accuracy: 0.9226\n",
      "Epoch 182/500\n",
      "35/35 [==============================] - 1s 21ms/step - loss: 0.2003 - categorical_accuracy: 0.9518 - val_loss: 0.2954 - val_categorical_accuracy: 0.9328\n",
      "Epoch 183/500\n",
      "35/35 [==============================] - 1s 20ms/step - loss: 0.2027 - categorical_accuracy: 0.9506 - val_loss: 0.2765 - val_categorical_accuracy: 0.9206\n",
      "Epoch 184/500\n",
      "35/35 [==============================] - 1s 21ms/step - loss: 0.2049 - categorical_accuracy: 0.9520 - val_loss: 0.3526 - val_categorical_accuracy: 0.9002\n",
      "Epoch 185/500\n",
      "35/35 [==============================] - 1s 20ms/step - loss: 0.2154 - categorical_accuracy: 0.9516 - val_loss: 0.2649 - val_categorical_accuracy: 0.9206\n",
      "Epoch 186/500\n",
      "35/35 [==============================] - 1s 20ms/step - loss: 0.2020 - categorical_accuracy: 0.9509 - val_loss: 0.2655 - val_categorical_accuracy: 0.9308\n",
      "Epoch 187/500\n",
      "35/35 [==============================] - 1s 21ms/step - loss: 0.2039 - categorical_accuracy: 0.9500 - val_loss: 0.3075 - val_categorical_accuracy: 0.9287\n",
      "Epoch 188/500\n",
      "35/35 [==============================] - 1s 20ms/step - loss: 0.2185 - categorical_accuracy: 0.9479 - val_loss: 0.3644 - val_categorical_accuracy: 0.9124\n",
      "Epoch 189/500\n",
      "35/35 [==============================] - 1s 20ms/step - loss: 0.2033 - categorical_accuracy: 0.9529 - val_loss: 0.3475 - val_categorical_accuracy: 0.9226\n",
      "Epoch 190/500\n",
      "35/35 [==============================] - 1s 20ms/step - loss: 0.1980 - categorical_accuracy: 0.9511 - val_loss: 0.2923 - val_categorical_accuracy: 0.9124\n",
      "Epoch 191/500\n",
      "35/35 [==============================] - 1s 20ms/step - loss: 0.2132 - categorical_accuracy: 0.9513 - val_loss: 0.2948 - val_categorical_accuracy: 0.9145\n",
      "Epoch 192/500\n",
      "35/35 [==============================] - 1s 21ms/step - loss: 0.2034 - categorical_accuracy: 0.9486 - val_loss: 0.2628 - val_categorical_accuracy: 0.9226\n",
      "Epoch 193/500\n",
      "35/35 [==============================] - 1s 19ms/step - loss: 0.2435 - categorical_accuracy: 0.9495 - val_loss: 0.3071 - val_categorical_accuracy: 0.9145\n",
      "Epoch 194/500\n",
      "35/35 [==============================] - 1s 19ms/step - loss: 0.2045 - categorical_accuracy: 0.9497 - val_loss: 0.2853 - val_categorical_accuracy: 0.9226\n",
      "Epoch 195/500\n",
      "35/35 [==============================] - 1s 20ms/step - loss: 0.1966 - categorical_accuracy: 0.9522 - val_loss: 0.3385 - val_categorical_accuracy: 0.9084\n",
      "Epoch 196/500\n",
      "35/35 [==============================] - 1s 22ms/step - loss: 0.1886 - categorical_accuracy: 0.9540 - val_loss: 0.3565 - val_categorical_accuracy: 0.9226\n",
      "Epoch 197/500\n",
      "35/35 [==============================] - 1s 20ms/step - loss: 0.1937 - categorical_accuracy: 0.9529 - val_loss: 0.2894 - val_categorical_accuracy: 0.9206\n",
      "Epoch 198/500\n",
      "35/35 [==============================] - 1s 22ms/step - loss: 0.1845 - categorical_accuracy: 0.9559 - val_loss: 0.2553 - val_categorical_accuracy: 0.9308\n",
      "Epoch 199/500\n",
      "35/35 [==============================] - 1s 20ms/step - loss: 0.2004 - categorical_accuracy: 0.9522 - val_loss: 0.2771 - val_categorical_accuracy: 0.9226\n",
      "Epoch 200/500\n",
      "35/35 [==============================] - 1s 21ms/step - loss: 0.1881 - categorical_accuracy: 0.9527 - val_loss: 0.2994 - val_categorical_accuracy: 0.9308\n",
      "Epoch 201/500\n",
      "35/35 [==============================] - 1s 22ms/step - loss: 0.1790 - categorical_accuracy: 0.9556 - val_loss: 0.3257 - val_categorical_accuracy: 0.9226\n",
      "Epoch 202/500\n",
      "35/35 [==============================] - 1s 19ms/step - loss: 0.2046 - categorical_accuracy: 0.9520 - val_loss: 0.3126 - val_categorical_accuracy: 0.9124\n",
      "Epoch 203/500\n",
      "35/35 [==============================] - 1s 20ms/step - loss: 0.2175 - categorical_accuracy: 0.9472 - val_loss: 0.2562 - val_categorical_accuracy: 0.9246\n",
      "Epoch 204/500\n",
      "35/35 [==============================] - 1s 21ms/step - loss: 0.1859 - categorical_accuracy: 0.9536 - val_loss: 0.2510 - val_categorical_accuracy: 0.9287\n",
      "Epoch 205/500\n",
      "35/35 [==============================] - 1s 19ms/step - loss: 0.1735 - categorical_accuracy: 0.9565 - val_loss: 0.2683 - val_categorical_accuracy: 0.9287\n",
      "Epoch 206/500\n",
      "35/35 [==============================] - 1s 21ms/step - loss: 0.1908 - categorical_accuracy: 0.9540 - val_loss: 0.2764 - val_categorical_accuracy: 0.9165\n",
      "Epoch 207/500\n",
      "35/35 [==============================] - 1s 22ms/step - loss: 0.2240 - categorical_accuracy: 0.9502 - val_loss: 0.3165 - val_categorical_accuracy: 0.9104\n",
      "Epoch 208/500\n",
      "35/35 [==============================] - 1s 23ms/step - loss: 0.2720 - categorical_accuracy: 0.9398 - val_loss: 0.2936 - val_categorical_accuracy: 0.9124\n",
      "Epoch 209/500\n",
      "35/35 [==============================] - 1s 19ms/step - loss: 0.2756 - categorical_accuracy: 0.9307 - val_loss: 0.3177 - val_categorical_accuracy: 0.9124\n",
      "Epoch 210/500\n",
      "35/35 [==============================] - 1s 20ms/step - loss: 0.1924 - categorical_accuracy: 0.9516 - val_loss: 0.2946 - val_categorical_accuracy: 0.9246\n",
      "Epoch 211/500\n",
      "35/35 [==============================] - 1s 21ms/step - loss: 0.1753 - categorical_accuracy: 0.9554 - val_loss: 0.2784 - val_categorical_accuracy: 0.9206\n",
      "Epoch 212/500\n",
      "35/35 [==============================] - 1s 19ms/step - loss: 0.1921 - categorical_accuracy: 0.9516 - val_loss: 0.3053 - val_categorical_accuracy: 0.9124\n",
      "Epoch 213/500\n",
      "35/35 [==============================] - 1s 22ms/step - loss: 0.1838 - categorical_accuracy: 0.9531 - val_loss: 0.2946 - val_categorical_accuracy: 0.9246\n",
      "Epoch 214/500\n",
      "35/35 [==============================] - 1s 20ms/step - loss: 0.2076 - categorical_accuracy: 0.9511 - val_loss: 0.3065 - val_categorical_accuracy: 0.9246\n",
      "Epoch 215/500\n",
      "35/35 [==============================] - 1s 20ms/step - loss: 0.1801 - categorical_accuracy: 0.9554 - val_loss: 0.2917 - val_categorical_accuracy: 0.9185\n"
     ]
    }
   ],
   "source": [
    "history_cnn, model_cnn = train_model(X=x_train_seq,\n",
    "                                     y=y_train_seq,\n",
    "                                     X_val=x_test_seq,\n",
    "                                     y_val=y_test_seq,\n",
    "                                     lr=0.0003,\n",
    ")"
   ]
  },
  {
   "cell_type": "markdown",
   "metadata": {},
   "source": [
    "### 3.3. Sonuçların Değerlendirilmesi"
   ]
  },
  {
   "cell_type": "markdown",
   "metadata": {},
   "source": [
    "Eğitim performans grafiğinin incelenmesi:"
   ]
  },
  {
   "cell_type": "code",
   "execution_count": 23,
   "metadata": {},
   "outputs": [
    {
     "data": {
      "image/png": "[encoded data removed]",
      "text/plain": [
       "<Figure size 640x480 with 1 Axes>"
      ]
     },
     "metadata": {},
     "output_type": "display_data"
    }
   ],
   "source": [
    "plt.style.use(\"ggplot\")\n",
    "plt.plot(history_cnn.history[\"categorical_accuracy\"], label=\"Train Accuracy\")\n",
    "plt.plot(history_cnn.history[\"val_categorical_accuracy\"], label=\"Validation Accuracy\")\n",
    "plt.title(\"Learning Curves\")\n",
    "plt.xlabel(\"Epoch\")\n",
    "plt.ylabel(\"Accuracy\")\n",
    "plt.legend(loc=\"lower right\")\n",
    "plt.show()"
   ]
  },
  {
   "cell_type": "markdown",
   "metadata": {},
   "source": [
    "Confusion Matrix'in incelenmesi:"
   ]
  },
  {
   "cell_type": "code",
   "execution_count": 24,
   "metadata": {},
   "outputs": [
    {
     "data": {
      "image/png": "[encoded data removed]",
      "text/plain": [
       "<Figure size 640x480 with 2 Axes>"
      ]
     },
     "metadata": {},
     "output_type": "display_data"
    }
   ],
   "source": [
    "# class ID to class name mapping\n",
    "classes = {0: \"CIRCLE\",\n",
    "           1: \"HORIZONTAL\",\n",
    "           2: \"STANDBY\",\n",
    "           3: \"TRIANGLE\",\n",
    "           4: \"VERTICAL\"}\n",
    "\n",
    "# plotting the confusion matrix\n",
    "plt.style.use(\"default\")\n",
    "y_pred = model_cnn(x_test_seq)\n",
    "y_pred_argmaxed = np.argmax(y_pred, axis=1)\n",
    "y_test_argmaxed = np.argmax(y_test_seq.astype(int), axis=1)\n",
    "y_pred_named = np.vectorize(classes.get)(y_pred_argmaxed)\n",
    "y_test_named = np.vectorize(classes.get)(y_test_argmaxed)\n",
    "ConfusionMatrixDisplay.from_predictions(y_test_named, y_pred_named)\n",
    "plt.xticks(rotation=90)\n",
    "plt.show()"
   ]
  },
  {
   "cell_type": "markdown",
   "metadata": {},
   "source": [
    "## 4. Eğitilmiş Modelin Dışa Aktarımı"
   ]
  },
  {
   "cell_type": "markdown",
   "metadata": {},
   "source": [
    "Geliştirme ortamı belleğinde tutulan yapay zeka modelinin (mimari + öğrenilmiş parametreler) çözüme dönüştürülmesi için statik bir dosya halinde saklanması gerekmektedir."
   ]
  },
  {
   "cell_type": "markdown",
   "metadata": {},
   "source": [
    "Model eğitim tarihçesi içerisinden model doğruluk değerinin eldesi: "
   ]
  },
  {
   "cell_type": "code",
   "execution_count": 25,
   "metadata": {},
   "outputs": [
    {
     "data": {
      "text/plain": [
       "0.9185"
      ]
     },
     "execution_count": 25,
     "metadata": {},
     "output_type": "execute_result"
    }
   ],
   "source": [
    "accuracy = history_cnn.history[\"val_categorical_accuracy\"][-1]\n",
    "accuracy = round(accuracy, 4)\n",
    "accuracy_for_naming = str(accuracy).replace(\".\", \"_\")\n",
    "accuracy"
   ]
  },
  {
   "cell_type": "markdown",
   "metadata": {},
   "source": [
    "### 4.1. Dışa Aktarma: H5 File ve/veya Keras"
   ]
  },
  {
   "cell_type": "code",
   "execution_count": null,
   "metadata": {},
   "outputs": [],
   "source": [
    "model_cnn.save(f\"Models/Model_CNN_Hand_Character_Recognition_{accuracy_for_naming}.h5\")"
   ]
  },
  {
   "cell_type": "code",
   "execution_count": null,
   "metadata": {},
   "outputs": [],
   "source": [
    "model_cnn.save(f\"Models/Model_CNN_Hand_Character_Recognition_{accuracy_for_naming}.keras\")"
   ]
  },
  {
   "cell_type": "markdown",
   "metadata": {},
   "source": [
    "### 4.2. Dışa Aktarma: TFLite"
   ]
  },
  {
   "cell_type": "code",
   "execution_count": null,
   "metadata": {},
   "outputs": [],
   "source": [
    "# Convert the model.\n",
    "converter = tf.lite.TFLiteConverter.from_keras_model(model_cnn)\n",
    "tflite_model = converter.convert()\n",
    "\n",
    "# Save the model.\n",
    "with open(f'Models/Model_CNN_Hand_Character_Recognition_{accuracy_for_naming}.tflite', 'wb') as f:\n",
    "  f.write(tflite_model)"
   ]
  },
  {
   "cell_type": "markdown",
   "metadata": {},
   "source": [
    "### 4.3. Dışa Aktarma: ONNX"
   ]
  },
  {
   "cell_type": "code",
   "execution_count": null,
   "metadata": {},
   "outputs": [],
   "source": [
    "import tf2onnx\n",
    "import onnx\n",
    "import onnxruntime as ort"
   ]
  },
  {
   "cell_type": "code",
   "execution_count": null,
   "metadata": {},
   "outputs": [],
   "source": [
    "x_val = np.ones((1, 128, 6), np.float32)\n",
    "input_signature = [tf.TensorSpec([None, 128, 6], tf.float32, name='x')]\n",
    "onnx_model, _ = tf2onnx.convert.from_keras(model_cnn, input_signature, opset=13)\n",
    "\n",
    "print(\"Keras result\")\n",
    "print(model_cnn(x_val).numpy())\n",
    "\n",
    "print(\"ONNX RunTime result\")\n",
    "sess = ort.InferenceSession(onnx_model.SerializeToString())\n",
    "res = sess.run(None, {'x': x_val})\n",
    "print(res[0])"
   ]
  },
  {
   "cell_type": "code",
   "execution_count": null,
   "metadata": {},
   "outputs": [],
   "source": [
    "onnx.save(onnx_model, f\"Models/Model_CNN_Hand_Character_Recognition_{accuracy_for_naming}.onnx\")"
   ]
  },
  {
   "cell_type": "markdown",
   "metadata": {},
   "source": [
    "## 5. Kaydedilen Modelin Test Edilmesi"
   ]
  },
  {
   "cell_type": "code",
   "execution_count": null,
   "metadata": {},
   "outputs": [],
   "source": [
    "import tensorflow as tf\n",
    "model_loaded = tf.keras.models.load_model(f\"Models/Model_CNN_Hand_Character_Recognition_{accuracy_for_naming}.keras\")"
   ]
  },
  {
   "cell_type": "code",
   "execution_count": null,
   "metadata": {},
   "outputs": [],
   "source": [
    "model_loaded.summary()"
   ]
  },
  {
   "cell_type": "markdown",
   "metadata": {},
   "source": [
    "## 6. Eğitilen Model İle Uçta Yapay Zeka Çözümü"
   ]
  },
  {
   "cell_type": "markdown",
   "metadata": {},
   "source": [
    "_Eğilen modelin ST platformlarında çözüm olarak dağıtılması adımı için STM32CubeAI aracı ile devam ediniz._"
   ]
  }
 ],
 "metadata": {
  "kernelspec": {
   "display_name": "tiremo_env",
   "language": "python",
   "name": "python3"
  },
  "language_info": {
   "codemirror_mode": {
    "name": "ipython",
    "version": 3
   },
   "file_extension": ".py",
   "mimetype": "text/x-python",
   "name": "python",
   "nbconvert_exporter": "python",
   "pygments_lexer": "ipython3",
   "version": "3.8.10"
  }
 },
 "nbformat": 4,
 "nbformat_minor": 2
}
