{
 "cells": [
  {
   "cell_type": "code",
   "execution_count": 1,
   "metadata": {},
   "outputs": [
    {
     "name": "stdout",
     "output_type": "stream",
     "text": [
      "Requirement already satisfied: numpy in /home/mertyilmaz/VENV/workshop_env/lib/python3.8/site-packages (1.24.3)\n",
      "Requirement already satisfied: pandas in /home/mertyilmaz/VENV/workshop_env/lib/python3.8/site-packages (2.0.3)\n",
      "Requirement already satisfied: pytz>=2020.1 in /home/mertyilmaz/VENV/workshop_env/lib/python3.8/site-packages (from pandas) (2024.1)\n",
      "Requirement already satisfied: python-dateutil>=2.8.2 in /home/mertyilmaz/VENV/workshop_env/lib/python3.8/site-packages (from pandas) (2.9.0.post0)\n",
      "Requirement already satisfied: numpy>=1.20.3; python_version < \"3.10\" in /home/mertyilmaz/VENV/workshop_env/lib/python3.8/site-packages (from pandas) (1.24.3)\n",
      "Requirement already satisfied: tzdata>=2022.1 in /home/mertyilmaz/VENV/workshop_env/lib/python3.8/site-packages (from pandas) (2024.1)\n",
      "Requirement already satisfied: six>=1.5 in /home/mertyilmaz/VENV/workshop_env/lib/python3.8/site-packages (from python-dateutil>=2.8.2->pandas) (1.16.0)\n",
      "Requirement already satisfied: tensorflow in /home/mertyilmaz/VENV/workshop_env/lib/python3.8/site-packages (2.13.1)\n",
      "Requirement already satisfied: keras<2.14,>=2.13.1 in /home/mertyilmaz/VENV/workshop_env/lib/python3.8/site-packages (from tensorflow) (2.13.1)\n",
      "Requirement already satisfied: tensorboard<2.14,>=2.13 in /home/mertyilmaz/VENV/workshop_env/lib/python3.8/site-packages (from tensorflow) (2.13.0)\n",
      "Requirement already satisfied: h5py>=2.9.0 in /home/mertyilmaz/VENV/workshop_env/lib/python3.8/site-packages (from tensorflow) (3.11.0)\n",
      "Requirement already satisfied: absl-py>=1.0.0 in /home/mertyilmaz/VENV/workshop_env/lib/python3.8/site-packages (from tensorflow) (2.1.0)\n",
      "Requirement already satisfied: protobuf!=4.21.0,!=4.21.1,!=4.21.2,!=4.21.3,!=4.21.4,!=4.21.5,<5.0.0dev,>=3.20.3 in /home/mertyilmaz/VENV/workshop_env/lib/python3.8/site-packages (from tensorflow) (3.20.3)\n",
      "Requirement already satisfied: google-pasta>=0.1.1 in /home/mertyilmaz/VENV/workshop_env/lib/python3.8/site-packages (from tensorflow) (0.2.0)\n",
      "Requirement already satisfied: numpy<=1.24.3,>=1.22 in /home/mertyilmaz/VENV/workshop_env/lib/python3.8/site-packages (from tensorflow) (1.24.3)\n",
      "Requirement already satisfied: typing-extensions<4.6.0,>=3.6.6 in /home/mertyilmaz/VENV/workshop_env/lib/python3.8/site-packages (from tensorflow) (4.5.0)\n",
      "Requirement already satisfied: astunparse>=1.6.0 in /home/mertyilmaz/VENV/workshop_env/lib/python3.8/site-packages (from tensorflow) (1.6.3)\n",
      "Requirement already satisfied: gast<=0.4.0,>=0.2.1 in /home/mertyilmaz/VENV/workshop_env/lib/python3.8/site-packages (from tensorflow) (0.4.0)\n",
      "Requirement already satisfied: six>=1.12.0 in /home/mertyilmaz/VENV/workshop_env/lib/python3.8/site-packages (from tensorflow) (1.16.0)\n",
      "Requirement already satisfied: flatbuffers>=23.1.21 in /home/mertyilmaz/VENV/workshop_env/lib/python3.8/site-packages (from tensorflow) (24.3.25)\n",
      "Requirement already satisfied: libclang>=13.0.0 in /home/mertyilmaz/VENV/workshop_env/lib/python3.8/site-packages (from tensorflow) (18.1.1)\n",
      "Requirement already satisfied: opt-einsum>=2.3.2 in /home/mertyilmaz/VENV/workshop_env/lib/python3.8/site-packages (from tensorflow) (3.3.0)\n",
      "Requirement already satisfied: wrapt>=1.11.0 in /home/mertyilmaz/VENV/workshop_env/lib/python3.8/site-packages (from tensorflow) (1.16.0)\n",
      "Requirement already satisfied: tensorflow-estimator<2.14,>=2.13.0 in /home/mertyilmaz/VENV/workshop_env/lib/python3.8/site-packages (from tensorflow) (2.13.0)\n",
      "Requirement already satisfied: packaging in /home/mertyilmaz/VENV/workshop_env/lib/python3.8/site-packages (from tensorflow) (24.0)\n",
      "Requirement already satisfied: termcolor>=1.1.0 in /home/mertyilmaz/VENV/workshop_env/lib/python3.8/site-packages (from tensorflow) (2.4.0)\n",
      "Requirement already satisfied: grpcio<2.0,>=1.24.3 in /home/mertyilmaz/VENV/workshop_env/lib/python3.8/site-packages (from tensorflow) (1.64.0)\n",
      "Requirement already satisfied: tensorflow-io-gcs-filesystem>=0.23.1; platform_machine != \"arm64\" or platform_system != \"Darwin\" in /home/mertyilmaz/VENV/workshop_env/lib/python3.8/site-packages (from tensorflow) (0.34.0)\n",
      "Requirement already satisfied: setuptools in /home/mertyilmaz/VENV/workshop_env/lib/python3.8/site-packages (from tensorflow) (44.0.0)\n",
      "Requirement already satisfied: wheel>=0.26 in /home/mertyilmaz/VENV/workshop_env/lib/python3.8/site-packages (from tensorboard<2.14,>=2.13->tensorflow) (0.34.2)\n",
      "Requirement already satisfied: google-auth<3,>=1.6.3 in /home/mertyilmaz/VENV/workshop_env/lib/python3.8/site-packages (from tensorboard<2.14,>=2.13->tensorflow) (2.29.0)\n",
      "Requirement already satisfied: werkzeug>=1.0.1 in /home/mertyilmaz/VENV/workshop_env/lib/python3.8/site-packages (from tensorboard<2.14,>=2.13->tensorflow) (3.0.3)\n",
      "Requirement already satisfied: tensorboard-data-server<0.8.0,>=0.7.0 in /home/mertyilmaz/VENV/workshop_env/lib/python3.8/site-packages (from tensorboard<2.14,>=2.13->tensorflow) (0.7.2)\n",
      "Requirement already satisfied: markdown>=2.6.8 in /home/mertyilmaz/VENV/workshop_env/lib/python3.8/site-packages (from tensorboard<2.14,>=2.13->tensorflow) (3.6)\n",
      "Requirement already satisfied: google-auth-oauthlib<1.1,>=0.5 in /home/mertyilmaz/VENV/workshop_env/lib/python3.8/site-packages (from tensorboard<2.14,>=2.13->tensorflow) (1.0.0)\n",
      "Requirement already satisfied: requests<3,>=2.21.0 in /home/mertyilmaz/VENV/workshop_env/lib/python3.8/site-packages (from tensorboard<2.14,>=2.13->tensorflow) (2.32.3)\n",
      "Requirement already satisfied: cachetools<6.0,>=2.0.0 in /home/mertyilmaz/VENV/workshop_env/lib/python3.8/site-packages (from google-auth<3,>=1.6.3->tensorboard<2.14,>=2.13->tensorflow) (5.3.3)\n",
      "Requirement already satisfied: rsa<5,>=3.1.4 in /home/mertyilmaz/VENV/workshop_env/lib/python3.8/site-packages (from google-auth<3,>=1.6.3->tensorboard<2.14,>=2.13->tensorflow) (4.9)\n",
      "Requirement already satisfied: pyasn1-modules>=0.2.1 in /home/mertyilmaz/VENV/workshop_env/lib/python3.8/site-packages (from google-auth<3,>=1.6.3->tensorboard<2.14,>=2.13->tensorflow) (0.4.0)\n",
      "Requirement already satisfied: MarkupSafe>=2.1.1 in /home/mertyilmaz/VENV/workshop_env/lib/python3.8/site-packages (from werkzeug>=1.0.1->tensorboard<2.14,>=2.13->tensorflow) (2.1.5)\n",
      "Requirement already satisfied: importlib-metadata>=4.4; python_version < \"3.10\" in /home/mertyilmaz/VENV/workshop_env/lib/python3.8/site-packages (from markdown>=2.6.8->tensorboard<2.14,>=2.13->tensorflow) (7.1.0)\n",
      "Requirement already satisfied: requests-oauthlib>=0.7.0 in /home/mertyilmaz/VENV/workshop_env/lib/python3.8/site-packages (from google-auth-oauthlib<1.1,>=0.5->tensorboard<2.14,>=2.13->tensorflow) (2.0.0)\n",
      "Requirement already satisfied: idna<4,>=2.5 in /home/mertyilmaz/VENV/workshop_env/lib/python3.8/site-packages (from requests<3,>=2.21.0->tensorboard<2.14,>=2.13->tensorflow) (3.7)\n",
      "Requirement already satisfied: certifi>=2017.4.17 in /home/mertyilmaz/VENV/workshop_env/lib/python3.8/site-packages (from requests<3,>=2.21.0->tensorboard<2.14,>=2.13->tensorflow) (2024.2.2)\n",
      "Requirement already satisfied: charset-normalizer<4,>=2 in /home/mertyilmaz/VENV/workshop_env/lib/python3.8/site-packages (from requests<3,>=2.21.0->tensorboard<2.14,>=2.13->tensorflow) (3.3.2)\n",
      "Requirement already satisfied: urllib3<3,>=1.21.1 in /home/mertyilmaz/VENV/workshop_env/lib/python3.8/site-packages (from requests<3,>=2.21.0->tensorboard<2.14,>=2.13->tensorflow) (2.2.1)\n",
      "Requirement already satisfied: pyasn1>=0.1.3 in /home/mertyilmaz/VENV/workshop_env/lib/python3.8/site-packages (from rsa<5,>=3.1.4->google-auth<3,>=1.6.3->tensorboard<2.14,>=2.13->tensorflow) (0.6.0)\n",
      "Requirement already satisfied: zipp>=0.5 in /home/mertyilmaz/VENV/workshop_env/lib/python3.8/site-packages (from importlib-metadata>=4.4; python_version < \"3.10\"->markdown>=2.6.8->tensorboard<2.14,>=2.13->tensorflow) (3.19.0)\n",
      "Requirement already satisfied: oauthlib>=3.0.0 in /home/mertyilmaz/VENV/workshop_env/lib/python3.8/site-packages (from requests-oauthlib>=0.7.0->google-auth-oauthlib<1.1,>=0.5->tensorboard<2.14,>=2.13->tensorflow) (3.2.2)\n",
      "Requirement already satisfied: scipy in /home/mertyilmaz/VENV/workshop_env/lib/python3.8/site-packages (1.10.1)\n",
      "Requirement already satisfied: numpy<1.27.0,>=1.19.5 in /home/mertyilmaz/VENV/workshop_env/lib/python3.8/site-packages (from scipy) (1.24.3)\n",
      "Requirement already satisfied: scikit-learn in /home/mertyilmaz/VENV/workshop_env/lib/python3.8/site-packages (1.3.2)\n",
      "Requirement already satisfied: threadpoolctl>=2.0.0 in /home/mertyilmaz/VENV/workshop_env/lib/python3.8/site-packages (from scikit-learn) (3.5.0)\n",
      "Requirement already satisfied: joblib>=1.1.1 in /home/mertyilmaz/VENV/workshop_env/lib/python3.8/site-packages (from scikit-learn) (1.4.2)\n",
      "Requirement already satisfied: scipy>=1.5.0 in /home/mertyilmaz/VENV/workshop_env/lib/python3.8/site-packages (from scikit-learn) (1.10.1)\n",
      "Requirement already satisfied: numpy<2.0,>=1.17.3 in /home/mertyilmaz/VENV/workshop_env/lib/python3.8/site-packages (from scikit-learn) (1.24.3)\n"
     ]
    }
   ],
   "source": [
    "# !pip install numpy\n",
    "# !pip install pandas\n",
    "# !pip install tensorflow\n",
    "# !pip install scipy\n",
    "# !pip install scikit-learn\n",
    "# !pip install tf2onnx\n",
    "# !pip install onnx\n",
    "# !pip install onnxruntime"
   ]
  },
  {
   "cell_type": "markdown",
   "metadata": {},
   "source": [
    "<p align=\"center\"><img src=\"../Additionals/Empa-Workshops-Template-Banner2.png\" alt=\"University Workshops\" style=\"display: block; margin: 0 auto\" height=/></p>"
   ]
  },
  {
   "cell_type": "markdown",
   "metadata": {},
   "source": [
    "# Accelerator Workshops'a Hoşgeldiniz!\n",
    "\n",
    "Empa Electronics tarafından düzenlenen Accelerators Workshops etkinlikleri serimizin Uçta Yapay Zeka adımına hoşgeldiniz. Bu açık-kaynak repository, workshop etkiliğimizde deneyimleyeceğiniz \"ST Platformları İçin Edge-AI Çözümleri Geliştirme\" uygulaması çalışma ortamını edinebilmeniz ve aktivitelere kolaylıkla eşlik edebilmeniz için sizinle paylaşılmıştır.\n",
    "\n",
    "Bu script, bir uçta yapay zeka çözümünün geliştirilme adımlarının gösterimi için oluşturulmuştur.\n",
    "\n",
    "**Uygulama Adımları:**\n",
    "\n",
    "1. Gereksinimlerin Dahil Edilmesi (Requirements)\n",
    "\n",
    "2. Veri Ön-İşleme\n",
    "\n",
    "3. Yapay Zeka Modeli Oluşturma\n",
    "\n",
    "4. Model Eğitimi Çözüm Geliştirme (Development)\n",
    "\n",
    "5. Modeli Dışa Aktarma & Dağıtım (Deployment)"
   ]
  },
  {
   "cell_type": "markdown",
   "metadata": {},
   "source": [
    "## 1. Gereksinimlerin Dahil Edilmesi "
   ]
  },
  {
   "cell_type": "code",
   "execution_count": 3,
   "metadata": {},
   "outputs": [
    {
     "name": "stderr",
     "output_type": "stream",
     "text": [
      "2024-06-02 10:57:52.278807: I tensorflow/core/platform/cpu_feature_guard.cc:182] This TensorFlow binary is optimized to use available CPU instructions in performance-critical operations.\n",
      "To enable the following instructions: AVX2 FMA, in other operations, rebuild TensorFlow with the appropriate compiler flags.\n"
     ]
    }
   ],
   "source": [
    "import numpy as np\n",
    "import pandas as pd\n",
    "import tensorflow as tf\n",
    "from math import floor\n",
    "from scipy.stats import mode\n",
    "\n",
    "from tensorflow.keras.layers import Dense, Dropout, Conv1D, Flatten, MaxPooling1D\n",
    "from tensorflow.keras.models import Sequential\n",
    "from sklearn.model_selection import train_test_split"
   ]
  },
  {
   "cell_type": "code",
   "execution_count": 4,
   "metadata": {},
   "outputs": [],
   "source": [
    "path_dataset = \"./Datasets/Dataset_Hand_Character_Recognition_EmpaElectronics.csv\""
   ]
  },
  {
   "cell_type": "markdown",
   "metadata": {},
   "source": [
    "## 2. Veri Ön-İşleme"
   ]
  },
  {
   "cell_type": "markdown",
   "metadata": {},
   "source": [
    "### 2.1. Ham Veri Eldesi"
   ]
  },
  {
   "cell_type": "code",
   "execution_count": 5,
   "metadata": {},
   "outputs": [
    {
     "data": {
      "text/html": [
       "<div>\n",
       "<style scoped>\n",
       "    .dataframe tbody tr th:only-of-type {\n",
       "        vertical-align: middle;\n",
       "    }\n",
       "\n",
       "    .dataframe tbody tr th {\n",
       "        vertical-align: top;\n",
       "    }\n",
       "\n",
       "    .dataframe thead th {\n",
       "        text-align: right;\n",
       "    }\n",
       "</style>\n",
       "<table border=\"1\" class=\"dataframe\">\n",
       "  <thead>\n",
       "    <tr style=\"text-align: right;\">\n",
       "      <th></th>\n",
       "      <th>acc_x</th>\n",
       "      <th>acc_y</th>\n",
       "      <th>acc_z</th>\n",
       "      <th>gyro_x</th>\n",
       "      <th>gyro_y</th>\n",
       "      <th>gyro_z</th>\n",
       "      <th>class</th>\n",
       "    </tr>\n",
       "  </thead>\n",
       "  <tbody>\n",
       "    <tr>\n",
       "      <th>0</th>\n",
       "      <td>68</td>\n",
       "      <td>1308</td>\n",
       "      <td>-151</td>\n",
       "      <td>-556</td>\n",
       "      <td>-308</td>\n",
       "      <td>-322</td>\n",
       "      <td>0</td>\n",
       "    </tr>\n",
       "    <tr>\n",
       "      <th>1</th>\n",
       "      <td>-153</td>\n",
       "      <td>1317</td>\n",
       "      <td>-167</td>\n",
       "      <td>-976</td>\n",
       "      <td>-56</td>\n",
       "      <td>-680</td>\n",
       "      <td>0</td>\n",
       "    </tr>\n",
       "    <tr>\n",
       "      <th>2</th>\n",
       "      <td>-446</td>\n",
       "      <td>1300</td>\n",
       "      <td>-78</td>\n",
       "      <td>-1376</td>\n",
       "      <td>227</td>\n",
       "      <td>-863</td>\n",
       "      <td>0</td>\n",
       "    </tr>\n",
       "    <tr>\n",
       "      <th>3</th>\n",
       "      <td>-597</td>\n",
       "      <td>1316</td>\n",
       "      <td>72</td>\n",
       "      <td>-1602</td>\n",
       "      <td>424</td>\n",
       "      <td>-781</td>\n",
       "      <td>0</td>\n",
       "    </tr>\n",
       "    <tr>\n",
       "      <th>4</th>\n",
       "      <td>-618</td>\n",
       "      <td>1377</td>\n",
       "      <td>246</td>\n",
       "      <td>-1558</td>\n",
       "      <td>477</td>\n",
       "      <td>-521</td>\n",
       "      <td>0</td>\n",
       "    </tr>\n",
       "    <tr>\n",
       "      <th>...</th>\n",
       "      <td>...</td>\n",
       "      <td>...</td>\n",
       "      <td>...</td>\n",
       "      <td>...</td>\n",
       "      <td>...</td>\n",
       "      <td>...</td>\n",
       "      <td>...</td>\n",
       "    </tr>\n",
       "    <tr>\n",
       "      <th>339963</th>\n",
       "      <td>74</td>\n",
       "      <td>-384</td>\n",
       "      <td>347</td>\n",
       "      <td>133</td>\n",
       "      <td>-482</td>\n",
       "      <td>-57</td>\n",
       "      <td>4</td>\n",
       "    </tr>\n",
       "    <tr>\n",
       "      <th>339964</th>\n",
       "      <td>142</td>\n",
       "      <td>-436</td>\n",
       "      <td>371</td>\n",
       "      <td>277</td>\n",
       "      <td>-461</td>\n",
       "      <td>-48</td>\n",
       "      <td>4</td>\n",
       "    </tr>\n",
       "    <tr>\n",
       "      <th>339965</th>\n",
       "      <td>154</td>\n",
       "      <td>-463</td>\n",
       "      <td>371</td>\n",
       "      <td>434</td>\n",
       "      <td>-427</td>\n",
       "      <td>-43</td>\n",
       "      <td>4</td>\n",
       "    </tr>\n",
       "    <tr>\n",
       "      <th>339966</th>\n",
       "      <td>162</td>\n",
       "      <td>-380</td>\n",
       "      <td>359</td>\n",
       "      <td>583</td>\n",
       "      <td>-365</td>\n",
       "      <td>-45</td>\n",
       "      <td>4</td>\n",
       "    </tr>\n",
       "    <tr>\n",
       "      <th>339967</th>\n",
       "      <td>152</td>\n",
       "      <td>-285</td>\n",
       "      <td>321</td>\n",
       "      <td>727</td>\n",
       "      <td>-280</td>\n",
       "      <td>-76</td>\n",
       "      <td>4</td>\n",
       "    </tr>\n",
       "  </tbody>\n",
       "</table>\n",
       "<p>339968 rows × 7 columns</p>\n",
       "</div>"
      ],
      "text/plain": [
       "        acc_x  acc_y  acc_z  gyro_x  gyro_y  gyro_z  class\n",
       "0          68   1308   -151    -556    -308    -322      0\n",
       "1        -153   1317   -167    -976     -56    -680      0\n",
       "2        -446   1300    -78   -1376     227    -863      0\n",
       "3        -597   1316     72   -1602     424    -781      0\n",
       "4        -618   1377    246   -1558     477    -521      0\n",
       "...       ...    ...    ...     ...     ...     ...    ...\n",
       "339963     74   -384    347     133    -482     -57      4\n",
       "339964    142   -436    371     277    -461     -48      4\n",
       "339965    154   -463    371     434    -427     -43      4\n",
       "339966    162   -380    359     583    -365     -45      4\n",
       "339967    152   -285    321     727    -280     -76      4\n",
       "\n",
       "[339968 rows x 7 columns]"
      ]
     },
     "execution_count": 5,
     "metadata": {},
     "output_type": "execute_result"
    }
   ],
   "source": [
    "df_dataset = pd.read_csv(path_dataset)\n",
    "df_dataset"
   ]
  },
  {
   "cell_type": "markdown",
   "metadata": {},
   "source": [
    "### 2.2. \"Feature\" & \"Labels\" Ayrıştırımı"
   ]
  },
  {
   "cell_type": "code",
   "execution_count": 13,
   "metadata": {},
   "outputs": [],
   "source": [
    "df_feats, df_labels = df_dataset.drop(columns=[\"class\"]), df_dataset[\"class\"]"
   ]
  },
  {
   "cell_type": "markdown",
   "metadata": {},
   "source": [
    "Veri seti \"feature\" sütunları:"
   ]
  },
  {
   "cell_type": "code",
   "execution_count": 14,
   "metadata": {},
   "outputs": [
    {
     "data": {
      "text/html": [
       "<div>\n",
       "<style scoped>\n",
       "    .dataframe tbody tr th:only-of-type {\n",
       "        vertical-align: middle;\n",
       "    }\n",
       "\n",
       "    .dataframe tbody tr th {\n",
       "        vertical-align: top;\n",
       "    }\n",
       "\n",
       "    .dataframe thead th {\n",
       "        text-align: right;\n",
       "    }\n",
       "</style>\n",
       "<table border=\"1\" class=\"dataframe\">\n",
       "  <thead>\n",
       "    <tr style=\"text-align: right;\">\n",
       "      <th></th>\n",
       "      <th>acc_x</th>\n",
       "      <th>acc_y</th>\n",
       "      <th>acc_z</th>\n",
       "      <th>gyro_x</th>\n",
       "      <th>gyro_y</th>\n",
       "      <th>gyro_z</th>\n",
       "    </tr>\n",
       "  </thead>\n",
       "  <tbody>\n",
       "    <tr>\n",
       "      <th>0</th>\n",
       "      <td>68</td>\n",
       "      <td>1308</td>\n",
       "      <td>-151</td>\n",
       "      <td>-556</td>\n",
       "      <td>-308</td>\n",
       "      <td>-322</td>\n",
       "    </tr>\n",
       "    <tr>\n",
       "      <th>1</th>\n",
       "      <td>-153</td>\n",
       "      <td>1317</td>\n",
       "      <td>-167</td>\n",
       "      <td>-976</td>\n",
       "      <td>-56</td>\n",
       "      <td>-680</td>\n",
       "    </tr>\n",
       "    <tr>\n",
       "      <th>2</th>\n",
       "      <td>-446</td>\n",
       "      <td>1300</td>\n",
       "      <td>-78</td>\n",
       "      <td>-1376</td>\n",
       "      <td>227</td>\n",
       "      <td>-863</td>\n",
       "    </tr>\n",
       "    <tr>\n",
       "      <th>3</th>\n",
       "      <td>-597</td>\n",
       "      <td>1316</td>\n",
       "      <td>72</td>\n",
       "      <td>-1602</td>\n",
       "      <td>424</td>\n",
       "      <td>-781</td>\n",
       "    </tr>\n",
       "    <tr>\n",
       "      <th>4</th>\n",
       "      <td>-618</td>\n",
       "      <td>1377</td>\n",
       "      <td>246</td>\n",
       "      <td>-1558</td>\n",
       "      <td>477</td>\n",
       "      <td>-521</td>\n",
       "    </tr>\n",
       "    <tr>\n",
       "      <th>...</th>\n",
       "      <td>...</td>\n",
       "      <td>...</td>\n",
       "      <td>...</td>\n",
       "      <td>...</td>\n",
       "      <td>...</td>\n",
       "      <td>...</td>\n",
       "    </tr>\n",
       "    <tr>\n",
       "      <th>339963</th>\n",
       "      <td>74</td>\n",
       "      <td>-384</td>\n",
       "      <td>347</td>\n",
       "      <td>133</td>\n",
       "      <td>-482</td>\n",
       "      <td>-57</td>\n",
       "    </tr>\n",
       "    <tr>\n",
       "      <th>339964</th>\n",
       "      <td>142</td>\n",
       "      <td>-436</td>\n",
       "      <td>371</td>\n",
       "      <td>277</td>\n",
       "      <td>-461</td>\n",
       "      <td>-48</td>\n",
       "    </tr>\n",
       "    <tr>\n",
       "      <th>339965</th>\n",
       "      <td>154</td>\n",
       "      <td>-463</td>\n",
       "      <td>371</td>\n",
       "      <td>434</td>\n",
       "      <td>-427</td>\n",
       "      <td>-43</td>\n",
       "    </tr>\n",
       "    <tr>\n",
       "      <th>339966</th>\n",
       "      <td>162</td>\n",
       "      <td>-380</td>\n",
       "      <td>359</td>\n",
       "      <td>583</td>\n",
       "      <td>-365</td>\n",
       "      <td>-45</td>\n",
       "    </tr>\n",
       "    <tr>\n",
       "      <th>339967</th>\n",
       "      <td>152</td>\n",
       "      <td>-285</td>\n",
       "      <td>321</td>\n",
       "      <td>727</td>\n",
       "      <td>-280</td>\n",
       "      <td>-76</td>\n",
       "    </tr>\n",
       "  </tbody>\n",
       "</table>\n",
       "<p>339968 rows × 6 columns</p>\n",
       "</div>"
      ],
      "text/plain": [
       "        acc_x  acc_y  acc_z  gyro_x  gyro_y  gyro_z\n",
       "0          68   1308   -151    -556    -308    -322\n",
       "1        -153   1317   -167    -976     -56    -680\n",
       "2        -446   1300    -78   -1376     227    -863\n",
       "3        -597   1316     72   -1602     424    -781\n",
       "4        -618   1377    246   -1558     477    -521\n",
       "...       ...    ...    ...     ...     ...     ...\n",
       "339963     74   -384    347     133    -482     -57\n",
       "339964    142   -436    371     277    -461     -48\n",
       "339965    154   -463    371     434    -427     -43\n",
       "339966    162   -380    359     583    -365     -45\n",
       "339967    152   -285    321     727    -280     -76\n",
       "\n",
       "[339968 rows x 6 columns]"
      ]
     },
     "execution_count": 14,
     "metadata": {},
     "output_type": "execute_result"
    }
   ],
   "source": [
    "df_feats"
   ]
  },
  {
   "cell_type": "markdown",
   "metadata": {},
   "source": [
    "Veri seti \"label\" sütunu:"
   ]
  },
  {
   "cell_type": "code",
   "execution_count": 15,
   "metadata": {},
   "outputs": [
    {
     "data": {
      "text/plain": [
       "0         0\n",
       "1         0\n",
       "2         0\n",
       "3         0\n",
       "4         0\n",
       "         ..\n",
       "339963    4\n",
       "339964    4\n",
       "339965    4\n",
       "339966    4\n",
       "339967    4\n",
       "Name: class, Length: 339968, dtype: int64"
      ]
     },
     "execution_count": 15,
     "metadata": {},
     "output_type": "execute_result"
    }
   ],
   "source": [
    "df_labels"
   ]
  },
  {
   "cell_type": "markdown",
   "metadata": {},
   "source": [
    "Feature ve Label dataframe yapıları için \"null\" değer kontrolü:"
   ]
  },
  {
   "cell_type": "code",
   "execution_count": 9,
   "metadata": {},
   "outputs": [
    {
     "name": "stdout",
     "output_type": "stream",
     "text": [
      "[features] Number of NAs: 0\n",
      "[features] Number of nulls: 0\n",
      "[labels] Number of NAs: 0\n",
      "[labels] Number of nulls: 0\n"
     ]
    }
   ],
   "source": [
    "print(f\"[features] Number of NAs: {df_feats.isna().sum().sum()}\")\n",
    "print(f\"[features] Number of nulls: {df_feats.isnull().sum().sum()}\")\n",
    "print(f\"[labels] Number of NAs: {df_labels.isna().sum().sum()}\")\n",
    "print(f\"[labels] Number of nulls: {df_labels.isnull().sum().item()}\")"
   ]
  },
  {
   "cell_type": "markdown",
   "metadata": {},
   "source": [
    "Veri seti sınıflarının listesi:"
   ]
  },
  {
   "cell_type": "code",
   "execution_count": 10,
   "metadata": {},
   "outputs": [
    {
     "data": {
      "text/plain": [
       "array([[0],\n",
       "       [1],\n",
       "       [2],\n",
       "       [3],\n",
       "       [4]])"
      ]
     },
     "execution_count": 10,
     "metadata": {},
     "output_type": "execute_result"
    }
   ],
   "source": [
    "list_categories = np.array(sorted(set(df_labels.to_numpy().flatten()))).reshape(-1, 1)\n",
    "list_categories"
   ]
  },
  {
   "cell_type": "markdown",
   "metadata": {},
   "source": [
    "### 2.3. \"Label Encoding\" Uygulanması "
   ]
  },
  {
   "cell_type": "markdown",
   "metadata": {},
   "source": [
    "Scitkit-learn içinden **One-Hot Encoder** çağrımı:"
   ]
  },
  {
   "cell_type": "code",
   "execution_count": 20,
   "metadata": {},
   "outputs": [],
   "source": [
    "from sklearn.preprocessing import OneHotEncoder\n",
    "encoder = OneHotEncoder(sparse_output=False)"
   ]
  },
  {
   "cell_type": "markdown",
   "metadata": {},
   "source": [
    "Encoder yapısının veri seti sınıfları için fit edilmesi: "
   ]
  },
  {
   "cell_type": "code",
   "execution_count": 17,
   "metadata": {},
   "outputs": [
    {
     "data": {
      "text/html": [
       "<style>#sk-container-id-2 {color: black;}#sk-container-id-2 pre{padding: 0;}#sk-container-id-2 div.sk-toggleable {background-color: white;}#sk-container-id-2 label.sk-toggleable__label {cursor: pointer;display: block;width: 100%;margin-bottom: 0;padding: 0.3em;box-sizing: border-box;text-align: center;}#sk-container-id-2 label.sk-toggleable__label-arrow:before {content: \"▸\";float: left;margin-right: 0.25em;color: #696969;}#sk-container-id-2 label.sk-toggleable__label-arrow:hover:before {color: black;}#sk-container-id-2 div.sk-estimator:hover label.sk-toggleable__label-arrow:before {color: black;}#sk-container-id-2 div.sk-toggleable__content {max-height: 0;max-width: 0;overflow: hidden;text-align: left;background-color: #f0f8ff;}#sk-container-id-2 div.sk-toggleable__content pre {margin: 0.2em;color: black;border-radius: 0.25em;background-color: #f0f8ff;}#sk-container-id-2 input.sk-toggleable__control:checked~div.sk-toggleable__content {max-height: 200px;max-width: 100%;overflow: auto;}#sk-container-id-2 input.sk-toggleable__control:checked~label.sk-toggleable__label-arrow:before {content: \"▾\";}#sk-container-id-2 div.sk-estimator input.sk-toggleable__control:checked~label.sk-toggleable__label {background-color: #d4ebff;}#sk-container-id-2 div.sk-label input.sk-toggleable__control:checked~label.sk-toggleable__label {background-color: #d4ebff;}#sk-container-id-2 input.sk-hidden--visually {border: 0;clip: rect(1px 1px 1px 1px);clip: rect(1px, 1px, 1px, 1px);height: 1px;margin: -1px;overflow: hidden;padding: 0;position: absolute;width: 1px;}#sk-container-id-2 div.sk-estimator {font-family: monospace;background-color: #f0f8ff;border: 1px dotted black;border-radius: 0.25em;box-sizing: border-box;margin-bottom: 0.5em;}#sk-container-id-2 div.sk-estimator:hover {background-color: #d4ebff;}#sk-container-id-2 div.sk-parallel-item::after {content: \"\";width: 100%;border-bottom: 1px solid gray;flex-grow: 1;}#sk-container-id-2 div.sk-label:hover label.sk-toggleable__label {background-color: #d4ebff;}#sk-container-id-2 div.sk-serial::before {content: \"\";position: absolute;border-left: 1px solid gray;box-sizing: border-box;top: 0;bottom: 0;left: 50%;z-index: 0;}#sk-container-id-2 div.sk-serial {display: flex;flex-direction: column;align-items: center;background-color: white;padding-right: 0.2em;padding-left: 0.2em;position: relative;}#sk-container-id-2 div.sk-item {position: relative;z-index: 1;}#sk-container-id-2 div.sk-parallel {display: flex;align-items: stretch;justify-content: center;background-color: white;position: relative;}#sk-container-id-2 div.sk-item::before, #sk-container-id-2 div.sk-parallel-item::before {content: \"\";position: absolute;border-left: 1px solid gray;box-sizing: border-box;top: 0;bottom: 0;left: 50%;z-index: -1;}#sk-container-id-2 div.sk-parallel-item {display: flex;flex-direction: column;z-index: 1;position: relative;background-color: white;}#sk-container-id-2 div.sk-parallel-item:first-child::after {align-self: flex-end;width: 50%;}#sk-container-id-2 div.sk-parallel-item:last-child::after {align-self: flex-start;width: 50%;}#sk-container-id-2 div.sk-parallel-item:only-child::after {width: 0;}#sk-container-id-2 div.sk-dashed-wrapped {border: 1px dashed gray;margin: 0 0.4em 0.5em 0.4em;box-sizing: border-box;padding-bottom: 0.4em;background-color: white;}#sk-container-id-2 div.sk-label label {font-family: monospace;font-weight: bold;display: inline-block;line-height: 1.2em;}#sk-container-id-2 div.sk-label-container {text-align: center;}#sk-container-id-2 div.sk-container {/* jupyter's `normalize.less` sets `[hidden] { display: none; }` but bootstrap.min.css set `[hidden] { display: none !important; }` so we also need the `!important` here to be able to override the default hidden behavior on the sphinx rendered scikit-learn.org. See: https://github.com/scikit-learn/scikit-learn/issues/21755 */display: inline-block !important;position: relative;}#sk-container-id-2 div.sk-text-repr-fallback {display: none;}</style><div id=\"sk-container-id-2\" class=\"sk-top-container\"><div class=\"sk-text-repr-fallback\"><pre>OneHotEncoder(sparse_output=False)</pre><b>In a Jupyter environment, please rerun this cell to show the HTML representation or trust the notebook. <br />On GitHub, the HTML representation is unable to render, please try loading this page with nbviewer.org.</b></div><div class=\"sk-container\" hidden><div class=\"sk-item\"><div class=\"sk-estimator sk-toggleable\"><input class=\"sk-toggleable__control sk-hidden--visually\" id=\"sk-estimator-id-2\" type=\"checkbox\" checked><label for=\"sk-estimator-id-2\" class=\"sk-toggleable__label sk-toggleable__label-arrow\">OneHotEncoder</label><div class=\"sk-toggleable__content\"><pre>OneHotEncoder(sparse_output=False)</pre></div></div></div></div></div>"
      ],
      "text/plain": [
       "OneHotEncoder(sparse_output=False)"
      ]
     },
     "execution_count": 17,
     "metadata": {},
     "output_type": "execute_result"
    }
   ],
   "source": [
    "encoder.fit(list_categories)"
   ]
  },
  {
   "cell_type": "markdown",
   "metadata": {},
   "source": [
    "One-Hot Encoder içerisinde listelenen veri seti sınıfları:"
   ]
  },
  {
   "cell_type": "code",
   "execution_count": 18,
   "metadata": {},
   "outputs": [
    {
     "data": {
      "text/plain": [
       "[array([0, 1, 2, 3, 4])]"
      ]
     },
     "execution_count": 18,
     "metadata": {},
     "output_type": "execute_result"
    }
   ],
   "source": [
    "encoder.categories_"
   ]
  },
  {
   "cell_type": "markdown",
   "metadata": {},
   "source": [
    "One-Hot dönüşümü uygulanmış label değerlerinin eldesi:"
   ]
  },
  {
   "cell_type": "code",
   "execution_count": 19,
   "metadata": {},
   "outputs": [
    {
     "data": {
      "text/html": [
       "<div>\n",
       "<style scoped>\n",
       "    .dataframe tbody tr th:only-of-type {\n",
       "        vertical-align: middle;\n",
       "    }\n",
       "\n",
       "    .dataframe tbody tr th {\n",
       "        vertical-align: top;\n",
       "    }\n",
       "\n",
       "    .dataframe thead th {\n",
       "        text-align: right;\n",
       "    }\n",
       "</style>\n",
       "<table border=\"1\" class=\"dataframe\">\n",
       "  <thead>\n",
       "    <tr style=\"text-align: right;\">\n",
       "      <th></th>\n",
       "      <th>0</th>\n",
       "      <th>1</th>\n",
       "      <th>2</th>\n",
       "      <th>3</th>\n",
       "      <th>4</th>\n",
       "    </tr>\n",
       "  </thead>\n",
       "  <tbody>\n",
       "    <tr>\n",
       "      <th>0</th>\n",
       "      <td>1.0</td>\n",
       "      <td>0.0</td>\n",
       "      <td>0.0</td>\n",
       "      <td>0.0</td>\n",
       "      <td>0.0</td>\n",
       "    </tr>\n",
       "    <tr>\n",
       "      <th>1</th>\n",
       "      <td>1.0</td>\n",
       "      <td>0.0</td>\n",
       "      <td>0.0</td>\n",
       "      <td>0.0</td>\n",
       "      <td>0.0</td>\n",
       "    </tr>\n",
       "    <tr>\n",
       "      <th>2</th>\n",
       "      <td>1.0</td>\n",
       "      <td>0.0</td>\n",
       "      <td>0.0</td>\n",
       "      <td>0.0</td>\n",
       "      <td>0.0</td>\n",
       "    </tr>\n",
       "    <tr>\n",
       "      <th>3</th>\n",
       "      <td>1.0</td>\n",
       "      <td>0.0</td>\n",
       "      <td>0.0</td>\n",
       "      <td>0.0</td>\n",
       "      <td>0.0</td>\n",
       "    </tr>\n",
       "    <tr>\n",
       "      <th>4</th>\n",
       "      <td>1.0</td>\n",
       "      <td>0.0</td>\n",
       "      <td>0.0</td>\n",
       "      <td>0.0</td>\n",
       "      <td>0.0</td>\n",
       "    </tr>\n",
       "    <tr>\n",
       "      <th>...</th>\n",
       "      <td>...</td>\n",
       "      <td>...</td>\n",
       "      <td>...</td>\n",
       "      <td>...</td>\n",
       "      <td>...</td>\n",
       "    </tr>\n",
       "    <tr>\n",
       "      <th>339963</th>\n",
       "      <td>0.0</td>\n",
       "      <td>0.0</td>\n",
       "      <td>0.0</td>\n",
       "      <td>0.0</td>\n",
       "      <td>1.0</td>\n",
       "    </tr>\n",
       "    <tr>\n",
       "      <th>339964</th>\n",
       "      <td>0.0</td>\n",
       "      <td>0.0</td>\n",
       "      <td>0.0</td>\n",
       "      <td>0.0</td>\n",
       "      <td>1.0</td>\n",
       "    </tr>\n",
       "    <tr>\n",
       "      <th>339965</th>\n",
       "      <td>0.0</td>\n",
       "      <td>0.0</td>\n",
       "      <td>0.0</td>\n",
       "      <td>0.0</td>\n",
       "      <td>1.0</td>\n",
       "    </tr>\n",
       "    <tr>\n",
       "      <th>339966</th>\n",
       "      <td>0.0</td>\n",
       "      <td>0.0</td>\n",
       "      <td>0.0</td>\n",
       "      <td>0.0</td>\n",
       "      <td>1.0</td>\n",
       "    </tr>\n",
       "    <tr>\n",
       "      <th>339967</th>\n",
       "      <td>0.0</td>\n",
       "      <td>0.0</td>\n",
       "      <td>0.0</td>\n",
       "      <td>0.0</td>\n",
       "      <td>1.0</td>\n",
       "    </tr>\n",
       "  </tbody>\n",
       "</table>\n",
       "<p>339968 rows × 5 columns</p>\n",
       "</div>"
      ],
      "text/plain": [
       "          0    1    2    3    4\n",
       "0       1.0  0.0  0.0  0.0  0.0\n",
       "1       1.0  0.0  0.0  0.0  0.0\n",
       "2       1.0  0.0  0.0  0.0  0.0\n",
       "3       1.0  0.0  0.0  0.0  0.0\n",
       "4       1.0  0.0  0.0  0.0  0.0\n",
       "...     ...  ...  ...  ...  ...\n",
       "339963  0.0  0.0  0.0  0.0  1.0\n",
       "339964  0.0  0.0  0.0  0.0  1.0\n",
       "339965  0.0  0.0  0.0  0.0  1.0\n",
       "339966  0.0  0.0  0.0  0.0  1.0\n",
       "339967  0.0  0.0  0.0  0.0  1.0\n",
       "\n",
       "[339968 rows x 5 columns]"
      ]
     },
     "execution_count": 19,
     "metadata": {},
     "output_type": "execute_result"
    }
   ],
   "source": [
    "df_labels_ohe = pd.DataFrame(encoder.transform(df_labels.to_numpy().reshape(-1, 1)))\n",
    "df_labels_ohe"
   ]
  },
  {
   "cell_type": "markdown",
   "metadata": {},
   "source": [
    "### 2.4. Veri Setinden Sekans Paketleri (Sequence Batchs) Oluşturulması"
   ]
  },
  {
   "cell_type": "markdown",
   "metadata": {},
   "source": [
    "Sabit bir sekans uzunluğu (sequence lenght) ve örtüşme oranı (overlapping ratio) tanımlaması:  \n",
    "  \n",
    "Sekans uzunluğu, bir tablo veri seti içerisindeki örneklerin (örneğin: sensör verisi kaydı) tekil olarak değerlendirilmesi yerine bir pencere/sekans örneği içerisinde veri kesitleri olarak ifade edilmesinde kullanılan bir sabittir.  \n",
    "  \n",
    "Örnek:   \n",
    "Başlangıçta 1000 veri örneği ve 6 feature'dan oluşan bir veri seti için (_veri seti boyutu: 1000 x 6_)  \n",
    "\"sekans uzunluğu = 200 örnek\" olarak seçilir ve veri setine uygulanırsa \n",
    "\n",
    "5 adet 200 örnekli sekans paketi elde edilmiş olur (_veri seti yeni boyutu: 5 x 200 x 6_).\n"
   ]
  },
  {
   "cell_type": "code",
   "execution_count": 21,
   "metadata": {},
   "outputs": [],
   "source": [
    "seq_length = 128\n",
    "overlapping_ratio = 0.33"
   ]
  },
  {
   "cell_type": "markdown",
   "metadata": {},
   "source": [
    "Sekans paketleri oluşturma fonksiyonunun tanımlanması"
   ]
  },
  {
   "cell_type": "code",
   "execution_count": 22,
   "metadata": {},
   "outputs": [],
   "source": [
    "def create_sequences(data, labels, num_samples=104, overlap=0.5):\n",
    "    \"\"\"Takes tabular data and creates times sequences with given sample width.\"\"\"\n",
    "\n",
    "    # create empty lists for stacking\n",
    "    data_sequences = []\n",
    "    data_labels = []\n",
    "    # get the number of examples\n",
    "    num_examples = data.shape[0]\n",
    "    # compute stride value\n",
    "    strides = num_samples - floor(num_samples * overlap)\n",
    "    # compute the number of sequences to use as iterator\n",
    "    num_sequences = floor((num_examples - num_samples) / strides) + 1\n",
    "\n",
    "    # iterate for sequence range\n",
    "    for ind in range(num_sequences):\n",
    "\n",
    "        # define start index\n",
    "        ind_start = ind * strides\n",
    "        # define end index\n",
    "        ind_end = ind_start + num_samples\n",
    "        # get the current data slice by using start and end indexes\n",
    "        slice_seq_acc = data.values[ind_start:ind_end]\n",
    "        # get the current labels slice by using start and end indexes\n",
    "        slice_seq_label = labels.values[ind_start:ind_end]\n",
    "\n",
    "        # take the modal value of label slice: (replace with .mode())\n",
    "        label_seq = mode(slice_seq_label, keepdims=True)[0][0]\n",
    "\n",
    "        # stack current slices\n",
    "        data_sequences.append(slice_seq_acc)\n",
    "        data_labels.append(label_seq)\n",
    "\n",
    "    # convert stacks to numpy array\n",
    "    data_sequences = np.array(data_sequences)\n",
    "    data_labels = np.array(data_labels)\n",
    "\n",
    "    # return sequence and label stacks as X and Y\n",
    "    return data_sequences, data_labels"
   ]
  },
  {
   "cell_type": "markdown",
   "metadata": {},
   "source": [
    "Orijinal veri setinden sekans paketleri içeren veri setinin eldesi:"
   ]
  },
  {
   "cell_type": "code",
   "execution_count": 23,
   "metadata": {},
   "outputs": [],
   "source": [
    "x_feats_seq, y_labels_seq = create_sequences(\n",
    "                                    data= df_feats,\n",
    "                                    labels= df_labels_ohe,\n",
    "                                    num_samples= seq_length,\n",
    "                                    overlap=overlapping_ratio)"
   ]
  },
  {
   "cell_type": "code",
   "execution_count": 24,
   "metadata": {},
   "outputs": [
    {
     "name": "stdout",
     "output_type": "stream",
     "text": [
      "Shape of Sequence Features: (3952, 128, 6)\n",
      "Shape of Sequence Labels: (3952, 5)\n"
     ]
    }
   ],
   "source": [
    "print(\"Shape of Sequence Features:\" , x_feats_seq.shape)\n",
    "print(\"Shape of Sequence Labels:\" , y_labels_seq.shape)"
   ]
  },
  {
   "cell_type": "markdown",
   "metadata": {},
   "source": [
    "### 2.5. Train and Test Veri Setlerinin Ayrımı"
   ]
  },
  {
   "cell_type": "markdown",
   "metadata": {},
   "source": [
    "Train/Test bölme oranı tanımlanması:"
   ]
  },
  {
   "cell_type": "code",
   "execution_count": 25,
   "metadata": {},
   "outputs": [],
   "source": [
    "test_split_ratio = 0.1"
   ]
  },
  {
   "cell_type": "markdown",
   "metadata": {},
   "source": [
    "Veri setinin bölünmesi:"
   ]
  },
  {
   "cell_type": "code",
   "execution_count": 29,
   "metadata": {},
   "outputs": [],
   "source": [
    "x_train_seq, x_test_seq, y_train_seq, y_test_seq = train_test_split(x_feats_seq, y_labels_seq, test_size=test_split_ratio, shuffle=True)"
   ]
  },
  {
   "cell_type": "code",
   "execution_count": 30,
   "metadata": {},
   "outputs": [
    {
     "name": "stdout",
     "output_type": "stream",
     "text": [
      "Shapes of Train Set - Features: (3556, 128, 6) - Labels: (3556, 5)\n",
      "Shapes of Test Set - Features: (396, 128, 6) - Labels: (396, 5) \n"
     ]
    }
   ],
   "source": [
    "print(f\"Shapes of Train Set - Features: {x_train_seq.shape} - Labels: {y_train_seq.shape}\")\n",
    "print(f\"Shapes of Test Set - Features: {x_test_seq.shape} - Labels: {y_test_seq.shape} \")"
   ]
  },
  {
   "cell_type": "markdown",
   "metadata": {},
   "source": [
    "## 3. Yapay Zeka Modelinin Oluşturulması"
   ]
  },
  {
   "cell_type": "markdown",
   "metadata": {},
   "source": [
    "### 3.1. Model Oluşturma"
   ]
  },
  {
   "cell_type": "markdown",
   "metadata": {},
   "source": [
    "1-D CNN modeli için model oluşturma fonksiyonunun tanımlanması:"
   ]
  },
  {
   "cell_type": "code",
   "execution_count": 31,
   "metadata": {},
   "outputs": [],
   "source": [
    "def create_cnn_model(input_shape, output_shape):\n",
    "\n",
    "        \"\"\"Creates 1D-CNN model for sequence processing.\n",
    "\n",
    "        Parameters:\n",
    "            - input_shape: model input shape\n",
    "            - output_shape: model output shape (number of classes)\n",
    "        returns:\n",
    "            - model: keras Sequential CNN model\n",
    "        \"\"\"\n",
    "\n",
    "        model_cnn = Sequential(name=\"model_CNN\")\n",
    "        # Layer-1: Conv1D\n",
    "        model_cnn.add(\n",
    "            Conv1D(\n",
    "                filters=64,\n",
    "                kernel_size=3,\n",
    "                activation=\"relu\",\n",
    "                padding=\"valid\",\n",
    "                strides=1,\n",
    "                input_shape=input_shape,\n",
    "            )\n",
    "        )\n",
    "        # Layer-2: Conv1D\n",
    "        model_cnn.add(\n",
    "            Conv1D(filters=32, kernel_size=3, activation=\"relu\", padding=\"valid\", strides=1)\n",
    "        )\n",
    "        # Layer-3: Dropout\n",
    "        model_cnn.add(Dropout(0.4))\n",
    "        # Layer-4: MaxPooling\n",
    "        model_cnn.add(MaxPooling1D(pool_size=2, strides=2))\n",
    "        # Layer-5: Flattening\n",
    "        model_cnn.add(Flatten())\n",
    "        # Layer-6: Fully-Connected\n",
    "        model_cnn.add(Dense(units=32, activation=\"relu\"))\n",
    "        # Layer-Output: Softmax\n",
    "        model_cnn.add(Dense(units=output_shape, activation=\"softmax\"))\n",
    "        # return CNN model object\n",
    "        return model_cnn"
   ]
  },
  {
   "cell_type": "markdown",
   "metadata": {},
   "source": [
    "Ardından, öncesinde tanımlanan model oluşturma fonksiyonunu kullanan model eğitim fonksiyonunun tanımlaması: "
   ]
  },
  {
   "cell_type": "code",
   "execution_count": 32,
   "metadata": {},
   "outputs": [],
   "source": [
    "def train_model(X, y, max_epochs=500, batch_size=128, lr=0.001, X_val=None, y_val=None):\n",
    "\n",
    "    # get seq lenght and num of features\n",
    "    seq_length, num_features = X.shape[1:]\n",
    "    # get number of features and define input shape\n",
    "    input_shape_cnn = seq_length, num_features\n",
    "    # define output shape\n",
    "    output_classes_cnn = y[0].size\n",
    "    print(\"model input shape:\", input_shape_cnn)\n",
    "    print(\"output input shape:\", output_classes_cnn)\n",
    "\n",
    "    # create CNN model instance\n",
    "    model = create_cnn_model(input_shape_cnn, output_classes_cnn)\n",
    "\n",
    "    # compile model\n",
    "    model.compile(\n",
    "        optimizer=tf.keras.optimizers.Adam(learning_rate=lr),\n",
    "        loss=\"categorical_crossentropy\",\n",
    "        metrics=[\"categorical_accuracy\"],\n",
    "    )\n",
    "    # define EarlyStopping callback\n",
    "    callback_early_stopping = tf.keras.callbacks.EarlyStopping(\n",
    "        monitor=\"loss\", min_delta=0, patience=10\n",
    "    )\n",
    "    # train a model for current param. combination\n",
    "    history = model.fit(\n",
    "        X,\n",
    "        y,\n",
    "        epochs=max_epochs,\n",
    "        batch_size=batch_size,\n",
    "        callbacks=[callback_early_stopping],\n",
    "        validation_data=(X_val, y_val), # if  isinstance(None, (type(X_val), type(y_val))) else None,\n",
    "    )\n",
    "\n",
    "    # return training history and trained model\n",
    "    return history, model"
   ]
  },
  {
   "cell_type": "markdown",
   "metadata": {},
   "source": [
    "### 3.2. Model Eğitimi"
   ]
  },
  {
   "cell_type": "code",
   "execution_count": 34,
   "metadata": {},
   "outputs": [
    {
     "name": "stdout",
     "output_type": "stream",
     "text": [
      "model input shape: (128, 6)\n",
      "output input shape: 5\n"
     ]
    },
    {
     "name": "stderr",
     "output_type": "stream",
     "text": [
      "2024-06-02 12:12:12.552176: W tensorflow/core/common_runtime/gpu/gpu_device.cc:1960] Cannot dlopen some GPU libraries. Please make sure the missing libraries mentioned above are installed properly if you would like to use GPU. Follow the guide at https://www.tensorflow.org/install/gpu for how to download and setup the required libraries for your platform.\n",
      "Skipping registering GPU devices...\n"
     ]
    },
    {
     "name": "stdout",
     "output_type": "stream",
     "text": [
      "Epoch 1/500\n",
      "28/28 [==============================] - 2s 37ms/step - loss: 91.3639 - categorical_accuracy: 0.3436 - val_loss: 7.1973 - val_categorical_accuracy: 0.3838\n",
      "Epoch 2/500\n",
      "28/28 [==============================] - 1s 27ms/step - loss: 5.8057 - categorical_accuracy: 0.3206 - val_loss: 1.5653 - val_categorical_accuracy: 0.2778\n",
      "Epoch 3/500\n",
      "28/28 [==============================] - 1s 32ms/step - loss: 1.8289 - categorical_accuracy: 0.2725 - val_loss: 1.5466 - val_categorical_accuracy: 0.2727\n",
      "Epoch 4/500\n",
      "28/28 [==============================] - 1s 28ms/step - loss: 1.6624 - categorical_accuracy: 0.2635 - val_loss: 1.5473 - val_categorical_accuracy: 0.2702\n",
      "Epoch 5/500\n",
      "28/28 [==============================] - 1s 30ms/step - loss: 1.6494 - categorical_accuracy: 0.2610 - val_loss: 1.5452 - val_categorical_accuracy: 0.2702\n",
      "Epoch 6/500\n",
      "28/28 [==============================] - 1s 29ms/step - loss: 1.5891 - categorical_accuracy: 0.2601 - val_loss: 1.5434 - val_categorical_accuracy: 0.2702\n",
      "Epoch 7/500\n",
      "28/28 [==============================] - 1s 29ms/step - loss: 1.5906 - categorical_accuracy: 0.2621 - val_loss: 1.5418 - val_categorical_accuracy: 0.2702\n",
      "Epoch 8/500\n",
      "28/28 [==============================] - 1s 31ms/step - loss: 1.5789 - categorical_accuracy: 0.2629 - val_loss: 1.5403 - val_categorical_accuracy: 0.2702\n",
      "Epoch 9/500\n",
      "28/28 [==============================] - 1s 29ms/step - loss: 1.6011 - categorical_accuracy: 0.2618 - val_loss: 1.5387 - val_categorical_accuracy: 0.2702\n",
      "Epoch 10/500\n",
      "28/28 [==============================] - 1s 29ms/step - loss: 1.5497 - categorical_accuracy: 0.2618 - val_loss: 1.5372 - val_categorical_accuracy: 0.2702\n",
      "Epoch 11/500\n",
      "28/28 [==============================] - 1s 30ms/step - loss: 1.5600 - categorical_accuracy: 0.2618 - val_loss: 1.5342 - val_categorical_accuracy: 0.2727\n",
      "Epoch 12/500\n",
      "28/28 [==============================] - 1s 31ms/step - loss: 1.5449 - categorical_accuracy: 0.2643 - val_loss: 1.5339 - val_categorical_accuracy: 0.2753\n",
      "Epoch 13/500\n",
      "28/28 [==============================] - 1s 36ms/step - loss: 1.5522 - categorical_accuracy: 0.2638 - val_loss: 1.5331 - val_categorical_accuracy: 0.2727\n",
      "Epoch 14/500\n",
      "28/28 [==============================] - 1s 32ms/step - loss: 1.5536 - categorical_accuracy: 0.2652 - val_loss: 1.5319 - val_categorical_accuracy: 0.2727\n",
      "Epoch 15/500\n",
      "28/28 [==============================] - 1s 28ms/step - loss: 1.5531 - categorical_accuracy: 0.2652 - val_loss: 1.5308 - val_categorical_accuracy: 0.2727\n",
      "Epoch 16/500\n",
      "28/28 [==============================] - 1s 32ms/step - loss: 1.5331 - categorical_accuracy: 0.2657 - val_loss: 1.5265 - val_categorical_accuracy: 0.2753\n",
      "Epoch 17/500\n",
      "28/28 [==============================] - 1s 31ms/step - loss: 1.5465 - categorical_accuracy: 0.2641 - val_loss: 1.5286 - val_categorical_accuracy: 0.2727\n",
      "Epoch 18/500\n",
      "28/28 [==============================] - 1s 32ms/step - loss: 1.5348 - categorical_accuracy: 0.2615 - val_loss: 1.5275 - val_categorical_accuracy: 0.2727\n",
      "Epoch 19/500\n",
      "28/28 [==============================] - 1s 31ms/step - loss: 1.5261 - categorical_accuracy: 0.2663 - val_loss: 1.5264 - val_categorical_accuracy: 0.2727\n",
      "Epoch 20/500\n",
      "28/28 [==============================] - 1s 31ms/step - loss: 1.5143 - categorical_accuracy: 0.2686 - val_loss: 1.5168 - val_categorical_accuracy: 0.2778\n",
      "Epoch 21/500\n",
      "28/28 [==============================] - 1s 35ms/step - loss: 1.5181 - categorical_accuracy: 0.2686 - val_loss: 1.5144 - val_categorical_accuracy: 0.2753\n",
      "Epoch 22/500\n",
      "28/28 [==============================] - 1s 30ms/step - loss: 1.5826 - categorical_accuracy: 0.2790 - val_loss: 1.5128 - val_categorical_accuracy: 0.2677\n",
      "Epoch 23/500\n",
      "28/28 [==============================] - 1s 38ms/step - loss: 1.5418 - categorical_accuracy: 0.2787 - val_loss: 1.5136 - val_categorical_accuracy: 0.2677\n",
      "Epoch 24/500\n",
      "28/28 [==============================] - 1s 39ms/step - loss: 1.5164 - categorical_accuracy: 0.2750 - val_loss: 1.5108 - val_categorical_accuracy: 0.2702\n",
      "Epoch 25/500\n",
      "28/28 [==============================] - 1s 33ms/step - loss: 1.5073 - categorical_accuracy: 0.2790 - val_loss: 1.5029 - val_categorical_accuracy: 0.2753\n",
      "Epoch 26/500\n",
      "28/28 [==============================] - 1s 30ms/step - loss: 1.5553 - categorical_accuracy: 0.2815 - val_loss: 1.5147 - val_categorical_accuracy: 0.2652\n",
      "Epoch 27/500\n",
      "28/28 [==============================] - 1s 36ms/step - loss: 1.5136 - categorical_accuracy: 0.2714 - val_loss: 1.5134 - val_categorical_accuracy: 0.2652\n",
      "Epoch 28/500\n",
      "28/28 [==============================] - 1s 26ms/step - loss: 1.5058 - categorical_accuracy: 0.2823 - val_loss: 1.4984 - val_categorical_accuracy: 0.2778\n",
      "Epoch 29/500\n",
      "28/28 [==============================] - 1s 27ms/step - loss: 1.5195 - categorical_accuracy: 0.3029 - val_loss: 1.4899 - val_categorical_accuracy: 0.2828\n",
      "Epoch 30/500\n",
      "28/28 [==============================] - 1s 27ms/step - loss: 1.4899 - categorical_accuracy: 0.2880 - val_loss: 1.5008 - val_categorical_accuracy: 0.2727\n",
      "Epoch 31/500\n",
      "28/28 [==============================] - 1s 28ms/step - loss: 1.4741 - categorical_accuracy: 0.2942 - val_loss: 1.4648 - val_categorical_accuracy: 0.2980\n",
      "Epoch 32/500\n",
      "28/28 [==============================] - 1s 27ms/step - loss: 1.5303 - categorical_accuracy: 0.3107 - val_loss: 1.4662 - val_categorical_accuracy: 0.2980\n",
      "Epoch 33/500\n",
      "28/28 [==============================] - 1s 27ms/step - loss: 1.4859 - categorical_accuracy: 0.3079 - val_loss: 1.4557 - val_categorical_accuracy: 0.3056\n",
      "Epoch 34/500\n",
      "28/28 [==============================] - 1s 36ms/step - loss: 1.4684 - categorical_accuracy: 0.3169 - val_loss: 1.4526 - val_categorical_accuracy: 0.3056\n",
      "Epoch 35/500\n",
      "28/28 [==============================] - 1s 36ms/step - loss: 1.4843 - categorical_accuracy: 0.3186 - val_loss: 1.4237 - val_categorical_accuracy: 0.3258\n",
      "Epoch 36/500\n",
      "28/28 [==============================] - 1s 29ms/step - loss: 1.4491 - categorical_accuracy: 0.3304 - val_loss: 1.4530 - val_categorical_accuracy: 0.3081\n",
      "Epoch 37/500\n",
      "28/28 [==============================] - 1s 30ms/step - loss: 1.4607 - categorical_accuracy: 0.3214 - val_loss: 1.4186 - val_categorical_accuracy: 0.3308\n",
      "Epoch 38/500\n",
      "28/28 [==============================] - 1s 24ms/step - loss: 1.4553 - categorical_accuracy: 0.3453 - val_loss: 1.4256 - val_categorical_accuracy: 0.3258\n",
      "Epoch 39/500\n",
      "28/28 [==============================] - 1s 30ms/step - loss: 1.4528 - categorical_accuracy: 0.3341 - val_loss: 1.4238 - val_categorical_accuracy: 0.3258\n",
      "Epoch 40/500\n",
      "28/28 [==============================] - 1s 26ms/step - loss: 1.4181 - categorical_accuracy: 0.3414 - val_loss: 1.3619 - val_categorical_accuracy: 0.3636\n",
      "Epoch 41/500\n",
      "28/28 [==============================] - 1s 26ms/step - loss: 1.4442 - categorical_accuracy: 0.3594 - val_loss: 1.3870 - val_categorical_accuracy: 0.3460\n",
      "Epoch 42/500\n",
      "28/28 [==============================] - 1s 27ms/step - loss: 1.3974 - categorical_accuracy: 0.3650 - val_loss: 1.3991 - val_categorical_accuracy: 0.3359\n",
      "Epoch 43/500\n",
      "28/28 [==============================] - 1s 29ms/step - loss: 1.4126 - categorical_accuracy: 0.3439 - val_loss: 1.4004 - val_categorical_accuracy: 0.3485\n",
      "Epoch 44/500\n",
      "28/28 [==============================] - 1s 26ms/step - loss: 1.3650 - categorical_accuracy: 0.3746 - val_loss: 1.3306 - val_categorical_accuracy: 0.3838\n",
      "Epoch 45/500\n",
      "28/28 [==============================] - 1s 26ms/step - loss: 1.4227 - categorical_accuracy: 0.3903 - val_loss: 1.3559 - val_categorical_accuracy: 0.3636\n",
      "Epoch 46/500\n",
      "28/28 [==============================] - 1s 27ms/step - loss: 1.3270 - categorical_accuracy: 0.3996 - val_loss: 1.2587 - val_categorical_accuracy: 0.4343\n",
      "Epoch 47/500\n",
      "28/28 [==============================] - 1s 28ms/step - loss: 1.3513 - categorical_accuracy: 0.4246 - val_loss: 1.3472 - val_categorical_accuracy: 0.3737\n",
      "Epoch 48/500\n",
      "28/28 [==============================] - 1s 27ms/step - loss: 1.3108 - categorical_accuracy: 0.4162 - val_loss: 1.2133 - val_categorical_accuracy: 0.4697\n",
      "Epoch 49/500\n",
      "28/28 [==============================] - 1s 28ms/step - loss: 1.3013 - categorical_accuracy: 0.4305 - val_loss: 1.2452 - val_categorical_accuracy: 0.4318\n",
      "Epoch 50/500\n",
      "28/28 [==============================] - 1s 27ms/step - loss: 1.3067 - categorical_accuracy: 0.4336 - val_loss: 1.2584 - val_categorical_accuracy: 0.4242\n",
      "Epoch 51/500\n",
      "28/28 [==============================] - 1s 25ms/step - loss: 1.2753 - categorical_accuracy: 0.4471 - val_loss: 1.1885 - val_categorical_accuracy: 0.4646\n",
      "Epoch 52/500\n",
      "28/28 [==============================] - 1s 26ms/step - loss: 1.2538 - categorical_accuracy: 0.4269 - val_loss: 1.2585 - val_categorical_accuracy: 0.4318\n",
      "Epoch 53/500\n",
      "28/28 [==============================] - 1s 33ms/step - loss: 1.2609 - categorical_accuracy: 0.4443 - val_loss: 1.2013 - val_categorical_accuracy: 0.4596\n",
      "Epoch 54/500\n",
      "28/28 [==============================] - 1s 35ms/step - loss: 1.2188 - categorical_accuracy: 0.4609 - val_loss: 1.1947 - val_categorical_accuracy: 0.4722\n",
      "Epoch 55/500\n",
      "28/28 [==============================] - 1s 27ms/step - loss: 1.2181 - categorical_accuracy: 0.4685 - val_loss: 1.2010 - val_categorical_accuracy: 0.4646\n",
      "Epoch 56/500\n",
      "28/28 [==============================] - 1s 25ms/step - loss: 1.1954 - categorical_accuracy: 0.4786 - val_loss: 1.1749 - val_categorical_accuracy: 0.4798\n",
      "Epoch 57/500\n",
      "28/28 [==============================] - 1s 30ms/step - loss: 1.2347 - categorical_accuracy: 0.4722 - val_loss: 1.2708 - val_categorical_accuracy: 0.4293\n",
      "Epoch 58/500\n",
      "28/28 [==============================] - 1s 26ms/step - loss: 1.2060 - categorical_accuracy: 0.4758 - val_loss: 1.1219 - val_categorical_accuracy: 0.5051\n",
      "Epoch 59/500\n",
      "28/28 [==============================] - 1s 28ms/step - loss: 1.2064 - categorical_accuracy: 0.4865 - val_loss: 1.2105 - val_categorical_accuracy: 0.4545\n",
      "Epoch 60/500\n",
      "28/28 [==============================] - 1s 28ms/step - loss: 1.1609 - categorical_accuracy: 0.4921 - val_loss: 1.1133 - val_categorical_accuracy: 0.5227\n",
      "Epoch 61/500\n",
      "28/28 [==============================] - 1s 28ms/step - loss: 1.1248 - categorical_accuracy: 0.5157 - val_loss: 1.0634 - val_categorical_accuracy: 0.5530\n",
      "Epoch 62/500\n",
      "28/28 [==============================] - 1s 27ms/step - loss: 1.1614 - categorical_accuracy: 0.5250 - val_loss: 1.1270 - val_categorical_accuracy: 0.5025\n",
      "Epoch 63/500\n",
      "28/28 [==============================] - 1s 27ms/step - loss: 1.0800 - categorical_accuracy: 0.5337 - val_loss: 1.0377 - val_categorical_accuracy: 0.5758\n",
      "Epoch 64/500\n",
      "28/28 [==============================] - 1s 30ms/step - loss: 1.1117 - categorical_accuracy: 0.5503 - val_loss: 1.0522 - val_categorical_accuracy: 0.5556\n",
      "Epoch 65/500\n",
      "28/28 [==============================] - 1s 25ms/step - loss: 1.0743 - categorical_accuracy: 0.5467 - val_loss: 1.0555 - val_categorical_accuracy: 0.5505\n",
      "Epoch 66/500\n",
      "28/28 [==============================] - 1s 28ms/step - loss: 1.0371 - categorical_accuracy: 0.5686 - val_loss: 0.9688 - val_categorical_accuracy: 0.6086\n",
      "Epoch 67/500\n",
      "28/28 [==============================] - 1s 27ms/step - loss: 1.0377 - categorical_accuracy: 0.5740 - val_loss: 1.0323 - val_categorical_accuracy: 0.5808\n",
      "Epoch 68/500\n",
      "28/28 [==============================] - 1s 26ms/step - loss: 1.0584 - categorical_accuracy: 0.5616 - val_loss: 1.0336 - val_categorical_accuracy: 0.5808\n",
      "Epoch 69/500\n",
      "28/28 [==============================] - 1s 26ms/step - loss: 1.0510 - categorical_accuracy: 0.5723 - val_loss: 1.0004 - val_categorical_accuracy: 0.5833\n",
      "Epoch 70/500\n",
      "28/28 [==============================] - 1s 27ms/step - loss: 0.9926 - categorical_accuracy: 0.5742 - val_loss: 0.9077 - val_categorical_accuracy: 0.6465\n",
      "Epoch 71/500\n",
      "28/28 [==============================] - 1s 27ms/step - loss: 0.9319 - categorical_accuracy: 0.6209 - val_loss: 0.9379 - val_categorical_accuracy: 0.6263\n",
      "Epoch 72/500\n",
      "28/28 [==============================] - 1s 28ms/step - loss: 0.9832 - categorical_accuracy: 0.5914 - val_loss: 0.9167 - val_categorical_accuracy: 0.6389\n",
      "Epoch 73/500\n",
      "28/28 [==============================] - 1s 27ms/step - loss: 0.9329 - categorical_accuracy: 0.6209 - val_loss: 0.9674 - val_categorical_accuracy: 0.6490\n",
      "Epoch 74/500\n",
      "28/28 [==============================] - 1s 26ms/step - loss: 0.9598 - categorical_accuracy: 0.6032 - val_loss: 0.9537 - val_categorical_accuracy: 0.6162\n",
      "Epoch 75/500\n",
      "28/28 [==============================] - 1s 36ms/step - loss: 0.9207 - categorical_accuracy: 0.6159 - val_loss: 0.8887 - val_categorical_accuracy: 0.6566\n",
      "Epoch 76/500\n",
      "28/28 [==============================] - 1s 36ms/step - loss: 0.9202 - categorical_accuracy: 0.6291 - val_loss: 0.8769 - val_categorical_accuracy: 0.6641\n",
      "Epoch 77/500\n",
      "28/28 [==============================] - 1s 36ms/step - loss: 0.8751 - categorical_accuracy: 0.6443 - val_loss: 1.0087 - val_categorical_accuracy: 0.6768\n",
      "Epoch 78/500\n",
      "28/28 [==============================] - 1s 31ms/step - loss: 0.8532 - categorical_accuracy: 0.6493 - val_loss: 0.8722 - val_categorical_accuracy: 0.6641\n",
      "Epoch 79/500\n",
      "28/28 [==============================] - 1s 27ms/step - loss: 0.8843 - categorical_accuracy: 0.6403 - val_loss: 0.8429 - val_categorical_accuracy: 0.6692\n",
      "Epoch 80/500\n",
      "28/28 [==============================] - 1s 26ms/step - loss: 0.8719 - categorical_accuracy: 0.6445 - val_loss: 0.8546 - val_categorical_accuracy: 0.6869\n",
      "Epoch 81/500\n",
      "28/28 [==============================] - 1s 29ms/step - loss: 0.8674 - categorical_accuracy: 0.6465 - val_loss: 0.8513 - val_categorical_accuracy: 0.6717\n",
      "Epoch 82/500\n",
      "28/28 [==============================] - 1s 25ms/step - loss: 0.8418 - categorical_accuracy: 0.6597 - val_loss: 0.8315 - val_categorical_accuracy: 0.6995\n",
      "Epoch 83/500\n",
      "28/28 [==============================] - 1s 26ms/step - loss: 0.8382 - categorical_accuracy: 0.6648 - val_loss: 0.8274 - val_categorical_accuracy: 0.6970\n",
      "Epoch 84/500\n",
      "28/28 [==============================] - 1s 27ms/step - loss: 0.8453 - categorical_accuracy: 0.6569 - val_loss: 0.8230 - val_categorical_accuracy: 0.6667\n",
      "Epoch 85/500\n",
      "28/28 [==============================] - 1s 26ms/step - loss: 0.8316 - categorical_accuracy: 0.6597 - val_loss: 0.8044 - val_categorical_accuracy: 0.6768\n",
      "Epoch 86/500\n",
      "28/28 [==============================] - 1s 27ms/step - loss: 0.8357 - categorical_accuracy: 0.6552 - val_loss: 0.8288 - val_categorical_accuracy: 0.6793\n",
      "Epoch 87/500\n",
      "28/28 [==============================] - 1s 27ms/step - loss: 0.8229 - categorical_accuracy: 0.6572 - val_loss: 0.8180 - val_categorical_accuracy: 0.6843\n",
      "Epoch 88/500\n",
      "28/28 [==============================] - 1s 27ms/step - loss: 0.8121 - categorical_accuracy: 0.6654 - val_loss: 0.7877 - val_categorical_accuracy: 0.6995\n",
      "Epoch 89/500\n",
      "28/28 [==============================] - 1s 36ms/step - loss: 0.7979 - categorical_accuracy: 0.6766 - val_loss: 0.8009 - val_categorical_accuracy: 0.6970\n",
      "Epoch 90/500\n",
      "28/28 [==============================] - 1s 36ms/step - loss: 0.8285 - categorical_accuracy: 0.6654 - val_loss: 0.8250 - val_categorical_accuracy: 0.6591\n",
      "Epoch 91/500\n",
      "28/28 [==============================] - 1s 32ms/step - loss: 0.8129 - categorical_accuracy: 0.6578 - val_loss: 0.7985 - val_categorical_accuracy: 0.7020\n",
      "Epoch 92/500\n",
      "28/28 [==============================] - 1s 27ms/step - loss: 0.7685 - categorical_accuracy: 0.6839 - val_loss: 0.7933 - val_categorical_accuracy: 0.7071\n",
      "Epoch 93/500\n",
      "28/28 [==============================] - 1s 28ms/step - loss: 0.7706 - categorical_accuracy: 0.7002 - val_loss: 0.7949 - val_categorical_accuracy: 0.7045\n",
      "Epoch 94/500\n",
      "28/28 [==============================] - 1s 27ms/step - loss: 0.7744 - categorical_accuracy: 0.6971 - val_loss: 0.7989 - val_categorical_accuracy: 0.7323\n",
      "Epoch 95/500\n",
      "28/28 [==============================] - 1s 26ms/step - loss: 0.7419 - categorical_accuracy: 0.7177 - val_loss: 0.7733 - val_categorical_accuracy: 0.7071\n",
      "Epoch 96/500\n",
      "28/28 [==============================] - 1s 28ms/step - loss: 0.7405 - categorical_accuracy: 0.7174 - val_loss: 0.7774 - val_categorical_accuracy: 0.7045\n",
      "Epoch 97/500\n",
      "28/28 [==============================] - 1s 27ms/step - loss: 0.7352 - categorical_accuracy: 0.7177 - val_loss: 0.7661 - val_categorical_accuracy: 0.7121\n",
      "Epoch 98/500\n",
      "28/28 [==============================] - 1s 25ms/step - loss: 0.7309 - categorical_accuracy: 0.7095 - val_loss: 0.7576 - val_categorical_accuracy: 0.7298\n",
      "Epoch 99/500\n",
      "28/28 [==============================] - 1s 36ms/step - loss: 0.7228 - categorical_accuracy: 0.7317 - val_loss: 0.7345 - val_categorical_accuracy: 0.7374\n",
      "Epoch 100/500\n",
      "28/28 [==============================] - 1s 38ms/step - loss: 0.7747 - categorical_accuracy: 0.7309 - val_loss: 0.7339 - val_categorical_accuracy: 0.7247\n",
      "Epoch 101/500\n",
      "28/28 [==============================] - 1s 37ms/step - loss: 0.7544 - categorical_accuracy: 0.6988 - val_loss: 0.7209 - val_categorical_accuracy: 0.7500\n",
      "Epoch 102/500\n",
      "28/28 [==============================] - 1s 31ms/step - loss: 0.7007 - categorical_accuracy: 0.7433 - val_loss: 0.6815 - val_categorical_accuracy: 0.7449\n",
      "Epoch 103/500\n",
      "28/28 [==============================] - 1s 25ms/step - loss: 0.6837 - categorical_accuracy: 0.7463 - val_loss: 0.6605 - val_categorical_accuracy: 0.7854\n",
      "Epoch 104/500\n",
      "28/28 [==============================] - 1s 26ms/step - loss: 0.6569 - categorical_accuracy: 0.7663 - val_loss: 0.7262 - val_categorical_accuracy: 0.7399\n",
      "Epoch 105/500\n",
      "28/28 [==============================] - 1s 26ms/step - loss: 0.6923 - categorical_accuracy: 0.7303 - val_loss: 0.6746 - val_categorical_accuracy: 0.7449\n",
      "Epoch 106/500\n",
      "28/28 [==============================] - 1s 27ms/step - loss: 0.6348 - categorical_accuracy: 0.7674 - val_loss: 0.6581 - val_categorical_accuracy: 0.7803\n",
      "Epoch 107/500\n",
      "28/28 [==============================] - 1s 27ms/step - loss: 0.7992 - categorical_accuracy: 0.7011 - val_loss: 0.7522 - val_categorical_accuracy: 0.7096\n",
      "Epoch 108/500\n",
      "28/28 [==============================] - 1s 27ms/step - loss: 0.6457 - categorical_accuracy: 0.7604 - val_loss: 0.6719 - val_categorical_accuracy: 0.7778\n",
      "Epoch 109/500\n",
      "28/28 [==============================] - 1s 27ms/step - loss: 0.6003 - categorical_accuracy: 0.7756 - val_loss: 0.6335 - val_categorical_accuracy: 0.7803\n",
      "Epoch 110/500\n",
      "28/28 [==============================] - 1s 25ms/step - loss: 0.6662 - categorical_accuracy: 0.7525 - val_loss: 0.6404 - val_categorical_accuracy: 0.7677\n",
      "Epoch 111/500\n",
      "28/28 [==============================] - 1s 26ms/step - loss: 0.5835 - categorical_accuracy: 0.7728 - val_loss: 0.6211 - val_categorical_accuracy: 0.8030\n",
      "Epoch 112/500\n",
      "28/28 [==============================] - 1s 27ms/step - loss: 0.5517 - categorical_accuracy: 0.7984 - val_loss: 0.6564 - val_categorical_accuracy: 0.8030\n",
      "Epoch 113/500\n",
      "28/28 [==============================] - 1s 28ms/step - loss: 0.5602 - categorical_accuracy: 0.8026 - val_loss: 0.6618 - val_categorical_accuracy: 0.8056\n",
      "Epoch 114/500\n",
      "28/28 [==============================] - 1s 26ms/step - loss: 0.5188 - categorical_accuracy: 0.8102 - val_loss: 0.5831 - val_categorical_accuracy: 0.8081\n",
      "Epoch 115/500\n",
      "28/28 [==============================] - 1s 26ms/step - loss: 0.5577 - categorical_accuracy: 0.8079 - val_loss: 0.6050 - val_categorical_accuracy: 0.8005\n",
      "Epoch 116/500\n",
      "28/28 [==============================] - 1s 27ms/step - loss: 0.6078 - categorical_accuracy: 0.7852 - val_loss: 0.5902 - val_categorical_accuracy: 0.8030\n",
      "Epoch 117/500\n",
      "28/28 [==============================] - 1s 25ms/step - loss: 0.5670 - categorical_accuracy: 0.8051 - val_loss: 0.6696 - val_categorical_accuracy: 0.7854\n",
      "Epoch 118/500\n",
      "28/28 [==============================] - 1s 26ms/step - loss: 0.6128 - categorical_accuracy: 0.7880 - val_loss: 0.5778 - val_categorical_accuracy: 0.7879\n",
      "Epoch 119/500\n",
      "28/28 [==============================] - 1s 25ms/step - loss: 0.6118 - categorical_accuracy: 0.8189 - val_loss: 0.5537 - val_categorical_accuracy: 0.8131\n",
      "Epoch 120/500\n",
      "28/28 [==============================] - 1s 28ms/step - loss: 0.5198 - categorical_accuracy: 0.7992 - val_loss: 0.5994 - val_categorical_accuracy: 0.8131\n",
      "Epoch 121/500\n",
      "28/28 [==============================] - 1s 26ms/step - loss: 0.5333 - categorical_accuracy: 0.8175 - val_loss: 0.6294 - val_categorical_accuracy: 0.8131\n",
      "Epoch 122/500\n",
      "28/28 [==============================] - 1s 27ms/step - loss: 0.5375 - categorical_accuracy: 0.8031 - val_loss: 0.6276 - val_categorical_accuracy: 0.8005\n",
      "Epoch 123/500\n",
      "28/28 [==============================] - 1s 26ms/step - loss: 0.4856 - categorical_accuracy: 0.8228 - val_loss: 0.5894 - val_categorical_accuracy: 0.8283\n",
      "Epoch 124/500\n",
      "28/28 [==============================] - 1s 26ms/step - loss: 0.5016 - categorical_accuracy: 0.8273 - val_loss: 0.5581 - val_categorical_accuracy: 0.8030\n",
      "Epoch 125/500\n",
      "28/28 [==============================] - 1s 26ms/step - loss: 0.4918 - categorical_accuracy: 0.8299 - val_loss: 0.5478 - val_categorical_accuracy: 0.8308\n",
      "Epoch 126/500\n",
      "28/28 [==============================] - 1s 32ms/step - loss: 0.5171 - categorical_accuracy: 0.8287 - val_loss: 0.5787 - val_categorical_accuracy: 0.8384\n",
      "Epoch 127/500\n",
      "28/28 [==============================] - 1s 27ms/step - loss: 0.4678 - categorical_accuracy: 0.8265 - val_loss: 0.5191 - val_categorical_accuracy: 0.8258\n",
      "Epoch 128/500\n",
      "28/28 [==============================] - 1s 26ms/step - loss: 0.4353 - categorical_accuracy: 0.8375 - val_loss: 0.5469 - val_categorical_accuracy: 0.8283\n",
      "Epoch 129/500\n",
      "28/28 [==============================] - 1s 26ms/step - loss: 0.4802 - categorical_accuracy: 0.8406 - val_loss: 0.6398 - val_categorical_accuracy: 0.8283\n",
      "Epoch 130/500\n",
      "28/28 [==============================] - 1s 36ms/step - loss: 0.4621 - categorical_accuracy: 0.8344 - val_loss: 0.7397 - val_categorical_accuracy: 0.8232\n",
      "Epoch 131/500\n",
      "28/28 [==============================] - 1s 31ms/step - loss: 0.4533 - categorical_accuracy: 0.8383 - val_loss: 0.6947 - val_categorical_accuracy: 0.8384\n",
      "Epoch 132/500\n",
      "28/28 [==============================] - 1s 27ms/step - loss: 0.4328 - categorical_accuracy: 0.8445 - val_loss: 0.5751 - val_categorical_accuracy: 0.8359\n",
      "Epoch 133/500\n",
      "28/28 [==============================] - 1s 28ms/step - loss: 0.4201 - categorical_accuracy: 0.8543 - val_loss: 0.6152 - val_categorical_accuracy: 0.8333\n",
      "Epoch 134/500\n",
      "28/28 [==============================] - 1s 26ms/step - loss: 0.4300 - categorical_accuracy: 0.8414 - val_loss: 0.6705 - val_categorical_accuracy: 0.8258\n",
      "Epoch 135/500\n",
      "28/28 [==============================] - 1s 27ms/step - loss: 0.4043 - categorical_accuracy: 0.8487 - val_loss: 0.6818 - val_categorical_accuracy: 0.8333\n",
      "Epoch 136/500\n",
      "28/28 [==============================] - 1s 26ms/step - loss: 0.3921 - categorical_accuracy: 0.8600 - val_loss: 0.8215 - val_categorical_accuracy: 0.8409\n",
      "Epoch 137/500\n",
      "28/28 [==============================] - 1s 28ms/step - loss: 0.4124 - categorical_accuracy: 0.8521 - val_loss: 0.7520 - val_categorical_accuracy: 0.8434\n",
      "Epoch 138/500\n",
      "28/28 [==============================] - 1s 26ms/step - loss: 0.4088 - categorical_accuracy: 0.8487 - val_loss: 0.6380 - val_categorical_accuracy: 0.8283\n",
      "Epoch 139/500\n",
      "28/28 [==============================] - 1s 27ms/step - loss: 0.4146 - categorical_accuracy: 0.8574 - val_loss: 0.7911 - val_categorical_accuracy: 0.8182\n",
      "Epoch 140/500\n",
      "28/28 [==============================] - 1s 28ms/step - loss: 0.4289 - categorical_accuracy: 0.8380 - val_loss: 0.6514 - val_categorical_accuracy: 0.8485\n",
      "Epoch 141/500\n",
      "28/28 [==============================] - 1s 25ms/step - loss: 0.3767 - categorical_accuracy: 0.8619 - val_loss: 0.8277 - val_categorical_accuracy: 0.8586\n",
      "Epoch 142/500\n",
      "28/28 [==============================] - 1s 26ms/step - loss: 0.3588 - categorical_accuracy: 0.8625 - val_loss: 0.7316 - val_categorical_accuracy: 0.8510\n",
      "Epoch 143/500\n",
      "28/28 [==============================] - 1s 26ms/step - loss: 0.3641 - categorical_accuracy: 0.8653 - val_loss: 0.7089 - val_categorical_accuracy: 0.8485\n",
      "Epoch 144/500\n",
      "28/28 [==============================] - 1s 26ms/step - loss: 0.3898 - categorical_accuracy: 0.8574 - val_loss: 0.6069 - val_categorical_accuracy: 0.8384\n",
      "Epoch 145/500\n",
      "28/28 [==============================] - 1s 29ms/step - loss: 0.3474 - categorical_accuracy: 0.8650 - val_loss: 0.6522 - val_categorical_accuracy: 0.8611\n",
      "Epoch 146/500\n",
      "28/28 [==============================] - 1s 27ms/step - loss: 0.3543 - categorical_accuracy: 0.8760 - val_loss: 0.9341 - val_categorical_accuracy: 0.8460\n",
      "Epoch 147/500\n",
      "28/28 [==============================] - 1s 36ms/step - loss: 0.3339 - categorical_accuracy: 0.8746 - val_loss: 0.7023 - val_categorical_accuracy: 0.8788\n",
      "Epoch 148/500\n",
      "28/28 [==============================] - 1s 27ms/step - loss: 0.3214 - categorical_accuracy: 0.8819 - val_loss: 0.6675 - val_categorical_accuracy: 0.8687\n",
      "Epoch 149/500\n",
      "28/28 [==============================] - 1s 29ms/step - loss: 0.3163 - categorical_accuracy: 0.8912 - val_loss: 0.7413 - val_categorical_accuracy: 0.8712\n",
      "Epoch 150/500\n",
      "28/28 [==============================] - 1s 30ms/step - loss: 0.3241 - categorical_accuracy: 0.8979 - val_loss: 0.7743 - val_categorical_accuracy: 0.8712\n",
      "Epoch 151/500\n",
      "28/28 [==============================] - 1s 28ms/step - loss: 0.3035 - categorical_accuracy: 0.8903 - val_loss: 0.7657 - val_categorical_accuracy: 0.8838\n",
      "Epoch 152/500\n",
      "28/28 [==============================] - 1s 26ms/step - loss: 0.2711 - categorical_accuracy: 0.9027 - val_loss: 0.7355 - val_categorical_accuracy: 0.8864\n",
      "Epoch 153/500\n",
      "28/28 [==============================] - 1s 27ms/step - loss: 0.2501 - categorical_accuracy: 0.9049 - val_loss: 0.7194 - val_categorical_accuracy: 0.8914\n",
      "Epoch 154/500\n",
      "28/28 [==============================] - 1s 27ms/step - loss: 0.2540 - categorical_accuracy: 0.9117 - val_loss: 0.9140 - val_categorical_accuracy: 0.8889\n",
      "Epoch 155/500\n",
      "28/28 [==============================] - 1s 26ms/step - loss: 0.3064 - categorical_accuracy: 0.8915 - val_loss: 0.5559 - val_categorical_accuracy: 0.8838\n",
      "Epoch 156/500\n",
      "28/28 [==============================] - 1s 28ms/step - loss: 0.2596 - categorical_accuracy: 0.9064 - val_loss: 0.6720 - val_categorical_accuracy: 0.8864\n",
      "Epoch 157/500\n",
      "28/28 [==============================] - 1s 27ms/step - loss: 0.2730 - categorical_accuracy: 0.9064 - val_loss: 0.7438 - val_categorical_accuracy: 0.8813\n",
      "Epoch 158/500\n",
      "28/28 [==============================] - 1s 36ms/step - loss: 0.2355 - categorical_accuracy: 0.9117 - val_loss: 0.6605 - val_categorical_accuracy: 0.8990\n",
      "Epoch 159/500\n",
      "28/28 [==============================] - 1s 35ms/step - loss: 0.2422 - categorical_accuracy: 0.9193 - val_loss: 0.5982 - val_categorical_accuracy: 0.8990\n",
      "Epoch 160/500\n",
      "28/28 [==============================] - 1s 37ms/step - loss: 0.2451 - categorical_accuracy: 0.9142 - val_loss: 0.6002 - val_categorical_accuracy: 0.9040\n",
      "Epoch 161/500\n",
      "28/28 [==============================] - 1s 28ms/step - loss: 0.2561 - categorical_accuracy: 0.9128 - val_loss: 0.6056 - val_categorical_accuracy: 0.8788\n",
      "Epoch 162/500\n",
      "28/28 [==============================] - 1s 26ms/step - loss: 0.2409 - categorical_accuracy: 0.9125 - val_loss: 0.5868 - val_categorical_accuracy: 0.9040\n",
      "Epoch 163/500\n",
      "28/28 [==============================] - 1s 28ms/step - loss: 0.2379 - categorical_accuracy: 0.9184 - val_loss: 0.7146 - val_categorical_accuracy: 0.8864\n",
      "Epoch 164/500\n",
      "28/28 [==============================] - 1s 36ms/step - loss: 0.2524 - categorical_accuracy: 0.9131 - val_loss: 0.6888 - val_categorical_accuracy: 0.9015\n",
      "Epoch 165/500\n",
      "28/28 [==============================] - 1s 27ms/step - loss: 0.2315 - categorical_accuracy: 0.9196 - val_loss: 0.5635 - val_categorical_accuracy: 0.9066\n",
      "Epoch 166/500\n",
      "28/28 [==============================] - 1s 29ms/step - loss: 0.2344 - categorical_accuracy: 0.9165 - val_loss: 0.7594 - val_categorical_accuracy: 0.9015\n",
      "Epoch 167/500\n",
      "28/28 [==============================] - 1s 27ms/step - loss: 0.1959 - categorical_accuracy: 0.9274 - val_loss: 0.7838 - val_categorical_accuracy: 0.9040\n",
      "Epoch 168/500\n",
      "28/28 [==============================] - 1s 27ms/step - loss: 0.2155 - categorical_accuracy: 0.9258 - val_loss: 0.9077 - val_categorical_accuracy: 0.9040\n",
      "Epoch 169/500\n",
      "28/28 [==============================] - 1s 27ms/step - loss: 0.2030 - categorical_accuracy: 0.9317 - val_loss: 0.8932 - val_categorical_accuracy: 0.9066\n",
      "Epoch 170/500\n",
      "28/28 [==============================] - 1s 26ms/step - loss: 0.2020 - categorical_accuracy: 0.9336 - val_loss: 0.7431 - val_categorical_accuracy: 0.9091\n",
      "Epoch 171/500\n",
      "28/28 [==============================] - 1s 27ms/step - loss: 0.1948 - categorical_accuracy: 0.9345 - val_loss: 0.7938 - val_categorical_accuracy: 0.9015\n",
      "Epoch 172/500\n",
      "28/28 [==============================] - 1s 26ms/step - loss: 0.1963 - categorical_accuracy: 0.9373 - val_loss: 0.7415 - val_categorical_accuracy: 0.8990\n",
      "Epoch 173/500\n",
      "28/28 [==============================] - 1s 26ms/step - loss: 0.2013 - categorical_accuracy: 0.9381 - val_loss: 0.6786 - val_categorical_accuracy: 0.9066\n",
      "Epoch 174/500\n",
      "28/28 [==============================] - 1s 27ms/step - loss: 0.2023 - categorical_accuracy: 0.9418 - val_loss: 0.9815 - val_categorical_accuracy: 0.8914\n",
      "Epoch 175/500\n",
      "28/28 [==============================] - 1s 27ms/step - loss: 0.1855 - categorical_accuracy: 0.9362 - val_loss: 0.8553 - val_categorical_accuracy: 0.8965\n",
      "Epoch 176/500\n",
      "28/28 [==============================] - 1s 29ms/step - loss: 0.1766 - categorical_accuracy: 0.9404 - val_loss: 0.8164 - val_categorical_accuracy: 0.8889\n",
      "Epoch 177/500\n",
      "28/28 [==============================] - 1s 27ms/step - loss: 0.1931 - categorical_accuracy: 0.9376 - val_loss: 0.8821 - val_categorical_accuracy: 0.8965\n",
      "Epoch 178/500\n",
      "28/28 [==============================] - 1s 36ms/step - loss: 0.1743 - categorical_accuracy: 0.9435 - val_loss: 0.7849 - val_categorical_accuracy: 0.9141\n",
      "Epoch 179/500\n",
      "28/28 [==============================] - 1s 37ms/step - loss: 0.1752 - categorical_accuracy: 0.9460 - val_loss: 0.8033 - val_categorical_accuracy: 0.8990\n",
      "Epoch 180/500\n",
      "28/28 [==============================] - 1s 33ms/step - loss: 0.1750 - categorical_accuracy: 0.9466 - val_loss: 0.6481 - val_categorical_accuracy: 0.8990\n",
      "Epoch 181/500\n",
      "28/28 [==============================] - 1s 34ms/step - loss: 0.1626 - categorical_accuracy: 0.9488 - val_loss: 0.6391 - val_categorical_accuracy: 0.9091\n",
      "Epoch 182/500\n",
      "28/28 [==============================] - 1s 28ms/step - loss: 0.1501 - categorical_accuracy: 0.9463 - val_loss: 0.8215 - val_categorical_accuracy: 0.9040\n",
      "Epoch 183/500\n",
      "28/28 [==============================] - 1s 25ms/step - loss: 0.1766 - categorical_accuracy: 0.9469 - val_loss: 0.8240 - val_categorical_accuracy: 0.8939\n",
      "Epoch 184/500\n",
      "28/28 [==============================] - 1s 27ms/step - loss: 0.1473 - categorical_accuracy: 0.9528 - val_loss: 0.7746 - val_categorical_accuracy: 0.9066\n",
      "Epoch 185/500\n",
      "28/28 [==============================] - 1s 37ms/step - loss: 0.1471 - categorical_accuracy: 0.9533 - val_loss: 0.7510 - val_categorical_accuracy: 0.9066\n",
      "Epoch 186/500\n",
      "28/28 [==============================] - 1s 31ms/step - loss: 0.1254 - categorical_accuracy: 0.9589 - val_loss: 0.6230 - val_categorical_accuracy: 0.9192\n",
      "Epoch 187/500\n",
      "28/28 [==============================] - 1s 26ms/step - loss: 0.1348 - categorical_accuracy: 0.9587 - val_loss: 0.8336 - val_categorical_accuracy: 0.8965\n",
      "Epoch 188/500\n",
      "28/28 [==============================] - 1s 26ms/step - loss: 0.1429 - categorical_accuracy: 0.9553 - val_loss: 0.6420 - val_categorical_accuracy: 0.9116\n",
      "Epoch 189/500\n",
      "28/28 [==============================] - 1s 27ms/step - loss: 0.1186 - categorical_accuracy: 0.9612 - val_loss: 0.8734 - val_categorical_accuracy: 0.9091\n",
      "Epoch 190/500\n",
      "28/28 [==============================] - 1s 24ms/step - loss: 0.1398 - categorical_accuracy: 0.9561 - val_loss: 0.7836 - val_categorical_accuracy: 0.9091\n",
      "Epoch 191/500\n",
      "28/28 [==============================] - 1s 32ms/step - loss: 0.1337 - categorical_accuracy: 0.9584 - val_loss: 0.8978 - val_categorical_accuracy: 0.9015\n",
      "Epoch 192/500\n",
      "28/28 [==============================] - 1s 28ms/step - loss: 0.1394 - categorical_accuracy: 0.9575 - val_loss: 0.5724 - val_categorical_accuracy: 0.9015\n",
      "Epoch 193/500\n",
      "28/28 [==============================] - 1s 28ms/step - loss: 0.1659 - categorical_accuracy: 0.9533 - val_loss: 0.6269 - val_categorical_accuracy: 0.9091\n",
      "Epoch 194/500\n",
      "28/28 [==============================] - 1s 28ms/step - loss: 0.1376 - categorical_accuracy: 0.9592 - val_loss: 0.7334 - val_categorical_accuracy: 0.9141\n",
      "Epoch 195/500\n",
      "28/28 [==============================] - 1s 29ms/step - loss: 0.1351 - categorical_accuracy: 0.9573 - val_loss: 0.8226 - val_categorical_accuracy: 0.9040\n",
      "Epoch 196/500\n",
      "28/28 [==============================] - 1s 27ms/step - loss: 0.2003 - categorical_accuracy: 0.9516 - val_loss: 0.6598 - val_categorical_accuracy: 0.9015\n",
      "Epoch 197/500\n",
      "28/28 [==============================] - 1s 30ms/step - loss: 0.1299 - categorical_accuracy: 0.9592 - val_loss: 0.9596 - val_categorical_accuracy: 0.8965\n",
      "Epoch 198/500\n",
      "28/28 [==============================] - 1s 28ms/step - loss: 0.1352 - categorical_accuracy: 0.9581 - val_loss: 0.7097 - val_categorical_accuracy: 0.9040\n",
      "Epoch 199/500\n",
      "28/28 [==============================] - 1s 30ms/step - loss: 0.1288 - categorical_accuracy: 0.9615 - val_loss: 0.7117 - val_categorical_accuracy: 0.9192\n"
     ]
    }
   ],
   "source": [
    "history_cnn, model_cnn = train_model(X=x_train_seq,\n",
    "                                     y=y_train_seq,\n",
    "                                     X_val=x_test_seq,\n",
    "                                     y_val=y_test_seq,\n",
    "                                     lr=0.0003,\n",
    ")"
   ]
  },
  {
   "cell_type": "markdown",
   "metadata": {},
   "source": [
    "### 3.3. Sonuçların Değerlendirilmesi"
   ]
  },
  {
   "cell_type": "markdown",
   "metadata": {},
   "source": [
    "_Düzenlenecektir._"
   ]
  },
  {
   "cell_type": "markdown",
   "metadata": {},
   "source": [
    "## 4. Eğitilmiş Modelin Dışa Aktarımı"
   ]
  },
  {
   "cell_type": "markdown",
   "metadata": {},
   "source": [
    "Geliştirme ortamı belleğinde tutulan yapay zeka modelinin (mimari + öğrenilmiş parametreler) çözüme dönüştürülmesi için statik bir dosya halinde saklanması gerekmektedir."
   ]
  },
  {
   "cell_type": "markdown",
   "metadata": {},
   "source": [
    "Model eğitim tarihçesi içerisinden model doğruluk değerinin eldesi: "
   ]
  },
  {
   "cell_type": "code",
   "execution_count": 46,
   "metadata": {},
   "outputs": [
    {
     "data": {
      "text/plain": [
       "0.9192"
      ]
     },
     "execution_count": 46,
     "metadata": {},
     "output_type": "execute_result"
    }
   ],
   "source": [
    "accuracy = history_cnn.history[\"val_categorical_accuracy\"][-1]\n",
    "accuracy = round(accuracy, 4)\n",
    "accuracy_for_naming = str(accuracy).replace(\".\", \"_\")\n",
    "accuracy"
   ]
  },
  {
   "cell_type": "markdown",
   "metadata": {},
   "source": [
    "### 4.1. Dışa Aktarma: H5 File ve/veya Keras"
   ]
  },
  {
   "cell_type": "code",
   "execution_count": 48,
   "metadata": {},
   "outputs": [],
   "source": [
    "model_cnn.save(f\"Models/Model_CNN_Hand_Character_Recognition_{accuracy_for_naming}.h5\")"
   ]
  },
  {
   "cell_type": "code",
   "execution_count": 49,
   "metadata": {},
   "outputs": [],
   "source": [
    "model_cnn.save(f\"Models/Model_CNN_Hand_Character_Recognition_{accuracy_for_naming}.keras\")"
   ]
  },
  {
   "cell_type": "markdown",
   "metadata": {},
   "source": [
    "### 4.2. Dışa Aktarma: TFLite"
   ]
  },
  {
   "cell_type": "code",
   "execution_count": 50,
   "metadata": {},
   "outputs": [
    {
     "name": "stdout",
     "output_type": "stream",
     "text": [
      "INFO:tensorflow:Assets written to: /tmp/tmpgu430d3b/assets\n"
     ]
    },
    {
     "name": "stderr",
     "output_type": "stream",
     "text": [
      "INFO:tensorflow:Assets written to: /tmp/tmpgu430d3b/assets\n",
      "2024-06-02 12:34:02.517189: W tensorflow/compiler/mlir/lite/python/tf_tfl_flatbuffer_helpers.cc:364] Ignored output_format.\n",
      "2024-06-02 12:34:02.517250: W tensorflow/compiler/mlir/lite/python/tf_tfl_flatbuffer_helpers.cc:367] Ignored drop_control_dependency.\n",
      "2024-06-02 12:34:02.517987: I tensorflow/cc/saved_model/reader.cc:45] Reading SavedModel from: /tmp/tmpgu430d3b\n",
      "2024-06-02 12:34:02.521318: I tensorflow/cc/saved_model/reader.cc:91] Reading meta graph with tags { serve }\n",
      "2024-06-02 12:34:02.521362: I tensorflow/cc/saved_model/reader.cc:132] Reading SavedModel debug info (if present) from: /tmp/tmpgu430d3b\n",
      "2024-06-02 12:34:02.529633: I tensorflow/compiler/mlir/mlir_graph_optimization_pass.cc:375] MLIR V1 optimization pass is not enabled\n",
      "2024-06-02 12:34:02.531190: I tensorflow/cc/saved_model/loader.cc:231] Restoring SavedModel bundle.\n",
      "2024-06-02 12:34:02.593410: I tensorflow/cc/saved_model/loader.cc:215] Running initialization op on SavedModel bundle at path: /tmp/tmpgu430d3b\n",
      "2024-06-02 12:34:02.614152: I tensorflow/cc/saved_model/loader.cc:314] SavedModel load for tags { serve }; Status: success: OK. Took 96173 microseconds.\n",
      "2024-06-02 12:34:02.644276: I tensorflow/compiler/mlir/tensorflow/utils/dump_mlir_util.cc:255] disabling MLIR crash reproducer, set env var `MLIR_CRASH_REPRODUCER_DIRECTORY` to enable.\n"
     ]
    }
   ],
   "source": [
    "# Convert the model.\n",
    "converter = tf.lite.TFLiteConverter.from_keras_model(model_cnn)\n",
    "tflite_model = converter.convert()\n",
    "\n",
    "# Save the model.\n",
    "with open(f'Models/Model_CNN_Hand_Character_Recognition_{accuracy_for_naming}.tflite', 'wb') as f:\n",
    "  f.write(tflite_model)"
   ]
  },
  {
   "cell_type": "markdown",
   "metadata": {},
   "source": [
    "### 4.3. Dışa Aktarma: ONNX"
   ]
  },
  {
   "cell_type": "code",
   "execution_count": 51,
   "metadata": {},
   "outputs": [],
   "source": [
    "import tf2onnx\n",
    "import onnx\n",
    "import onnxruntime as ort"
   ]
  },
  {
   "cell_type": "code",
   "execution_count": 55,
   "metadata": {},
   "outputs": [
    {
     "name": "stdout",
     "output_type": "stream",
     "text": [
      "Keras result\n",
      "[[0.32644233 0.11548252 0.09062488 0.3680169  0.09943333]]\n",
      "ONNX RunTime result\n",
      "[[0.32644233 0.11548252 0.09062486 0.3680169  0.09943333]]\n"
     ]
    },
    {
     "name": "stderr",
     "output_type": "stream",
     "text": [
      "2024-06-02 13:04:05.292308: I tensorflow/core/grappler/devices.cc:66] Number of eligible GPUs (core count >= 8, compute capability >= 0.0): 1\n",
      "2024-06-02 13:04:05.292391: I tensorflow/core/grappler/clusters/single_machine.cc:357] Starting new session\n",
      "2024-06-02 13:04:05.292801: W tensorflow/core/common_runtime/gpu/gpu_device.cc:1960] Cannot dlopen some GPU libraries. Please make sure the missing libraries mentioned above are installed properly if you would like to use GPU. Follow the guide at https://www.tensorflow.org/install/gpu for how to download and setup the required libraries for your platform.\n",
      "Skipping registering GPU devices...\n",
      "2024-06-02 13:04:05.339738: I tensorflow/core/grappler/devices.cc:66] Number of eligible GPUs (core count >= 8, compute capability >= 0.0): 1\n",
      "2024-06-02 13:04:05.339856: I tensorflow/core/grappler/clusters/single_machine.cc:357] Starting new session\n",
      "2024-06-02 13:04:05.340122: W tensorflow/core/common_runtime/gpu/gpu_device.cc:1960] Cannot dlopen some GPU libraries. Please make sure the missing libraries mentioned above are installed properly if you would like to use GPU. Follow the guide at https://www.tensorflow.org/install/gpu for how to download and setup the required libraries for your platform.\n",
      "Skipping registering GPU devices...\n"
     ]
    }
   ],
   "source": [
    "x_val = np.ones((1, 128, 6), np.float32)\n",
    "input_signature = [tf.TensorSpec([None, 128, 6], tf.float32, name='x')]\n",
    "onnx_model, _ = tf2onnx.convert.from_keras(model_cnn, input_signature, opset=13)\n",
    "\n",
    "print(\"Keras result\")\n",
    "print(model_cnn(x_val).numpy())\n",
    "\n",
    "print(\"ONNX RunTime result\")\n",
    "sess = ort.InferenceSession(onnx_model.SerializeToString())\n",
    "res = sess.run(None, {'x': x_val})\n",
    "print(res[0])"
   ]
  },
  {
   "cell_type": "code",
   "execution_count": 56,
   "metadata": {},
   "outputs": [],
   "source": [
    "onnx.save(onnx_model, f\"Models/Model_CNN_Hand_Character_Recognition_{accuracy_for_naming}.onnx\")"
   ]
  },
  {
   "cell_type": "markdown",
   "metadata": {},
   "source": [
    "## 5. Kaydedilen Modelin Test Edilmesi"
   ]
  },
  {
   "cell_type": "code",
   "execution_count": 4,
   "metadata": {},
   "outputs": [
    {
     "name": "stderr",
     "output_type": "stream",
     "text": [
      "2024-06-02 13:44:34.190593: W tensorflow/core/common_runtime/gpu/gpu_device.cc:1960] Cannot dlopen some GPU libraries. Please make sure the missing libraries mentioned above are installed properly if you would like to use GPU. Follow the guide at https://www.tensorflow.org/install/gpu for how to download and setup the required libraries for your platform.\n",
      "Skipping registering GPU devices...\n"
     ]
    }
   ],
   "source": [
    "import tensorflow as tf\n",
    "model_loaded = tf.keras.models.load_model(f\"Models/Model_CNN_Hand_Character_Recognition_{accuracy_for_naming}.keras\")"
   ]
  },
  {
   "cell_type": "code",
   "execution_count": 5,
   "metadata": {},
   "outputs": [
    {
     "name": "stdout",
     "output_type": "stream",
     "text": [
      "Model: \"model_CNN\"\n",
      "_________________________________________________________________\n",
      " Layer (type)                Output Shape              Param #   \n",
      "=================================================================\n",
      " conv1d (Conv1D)             (None, 126, 64)           1216      \n",
      "                                                                 \n",
      " conv1d_1 (Conv1D)           (None, 124, 32)           6176      \n",
      "                                                                 \n",
      " dropout (Dropout)           (None, 124, 32)           0         \n",
      "                                                                 \n",
      " max_pooling1d (MaxPooling1  (None, 62, 32)            0         \n",
      " D)                                                              \n",
      "                                                                 \n",
      " flatten (Flatten)           (None, 1984)              0         \n",
      "                                                                 \n",
      " dense (Dense)               (None, 32)                63520     \n",
      "                                                                 \n",
      " dense_1 (Dense)             (None, 5)                 165       \n",
      "                                                                 \n",
      "=================================================================\n",
      "Total params: 71077 (277.64 KB)\n",
      "Trainable params: 71077 (277.64 KB)\n",
      "Non-trainable params: 0 (0.00 Byte)\n",
      "_________________________________________________________________\n"
     ]
    }
   ],
   "source": [
    "model_loaded.summary()"
   ]
  },
  {
   "cell_type": "markdown",
   "metadata": {},
   "source": [
    "## 6. Eğitilen Model İle Uçta Yapay Zeka Çözümü"
   ]
  },
  {
   "cell_type": "markdown",
   "metadata": {},
   "source": [
    "_Eğilen modelin ST platformlarında çözüm olarak dağıtılması adımı için STM32CubeAI aracı ile devam ediniz._"
   ]
  }
 ],
 "metadata": {
  "kernelspec": {
   "display_name": "tiremo_env",
   "language": "python",
   "name": "python3"
  },
  "language_info": {
   "codemirror_mode": {
    "name": "ipython",
    "version": 3
   },
   "file_extension": ".py",
   "mimetype": "text/x-python",
   "name": "python",
   "nbconvert_exporter": "python",
   "pygments_lexer": "ipython3",
   "version": "3.8.10"
  }
 },
 "nbformat": 4,
 "nbformat_minor": 2
}
