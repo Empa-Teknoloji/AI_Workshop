{
 "cells": [
  {
   "cell_type": "markdown",
   "metadata": {},
   "source": [
    "<p align=\"center\"><img src=\"../Additionals/Empa-Workshops-Template-Banner2.png\" alt=\"University Workshops\" style=\"display: block; margin: 0 auto\" height=/></p>"
   ]
  },
  {
   "cell_type": "markdown",
   "metadata": {},
   "source": [
    "## Accelerator Workshops'a Hoşgeldiniz!\n",
    "\n",
    "Empa Electronics tarafından düzenlenen Accelerators Workshops etkinlikleri serimizin Uçta Yapay Zeka adımına hoşgeldiniz. Bu açık-kaynak repository, workshop etkiliğimizde deneyimleyeceğiniz \"ST Platformları İçin Edge-AI Çözümleri Geliştirme\" uygulaması çalışma ortamını edinebilmeniz ve aktivitelere kolaylıkla eşlik edebilmeniz için sizinle paylaşılmıştır.\n",
    "\n",
    "Bu script, uygulama içeriğinde geliştirilen modelin testi için oluşturulmuştur.\n",
    "  \n",
    "\n",
    "**Uygulama Adımları:**\n",
    "\n",
    "1. Gereksinimlerin Dahil Edilmesi\n",
    "\n",
    "2. Eğitilmiş Modelin Yüklenmesi\n",
    "\n",
    "3. Seri Port ile Veri Örneği Okuma & Eğitilmiş Modeli Kullanarak Tahminleme"
   ]
  },
  {
   "cell_type": "markdown",
   "metadata": {},
   "source": [
    "## 1. Gereksinimlerin Dahil Edilmesi"
   ]
  },
  {
   "cell_type": "markdown",
   "metadata": {},
   "source": [
    "Gerekli modeller için import işlemi:"
   ]
  },
  {
   "cell_type": "code",
   "execution_count": 10,
   "metadata": {},
   "outputs": [],
   "source": [
    "\n",
    "import tensorflow as tf\n",
    "import serial\n",
    "import numpy as np"
   ]
  },
  {
   "cell_type": "markdown",
   "metadata": {},
   "source": [
    "## 2. Eğitilmiş Modelin Yüklenmesi"
   ]
  },
  {
   "cell_type": "markdown",
   "metadata": {},
   "source": [
    "Loading the trained model:"
   ]
  },
  {
   "cell_type": "code",
   "execution_count": 11,
   "metadata": {},
   "outputs": [],
   "source": [
    "model = tf.keras.models.load_model(\"Models/Model_CNN_Hand_Character_Recognition_0_9192.h5\")"
   ]
  },
  {
   "cell_type": "markdown",
   "metadata": {},
   "source": [
    "Defining the class mapping dictionary:"
   ]
  },
  {
   "cell_type": "code",
   "execution_count": 12,
   "metadata": {},
   "outputs": [],
   "source": [
    "# class ID to class name mapping\n",
    "classes = {0: \"CIRCLE\",\n",
    "           1: \"HORIZONTAL\",\n",
    "           2: \"STANDBY\",\n",
    "           3: \"TRIANGLE\",\n",
    "           4: \"VERTICAL\"}"
   ]
  },
  {
   "cell_type": "markdown",
   "metadata": {},
   "source": [
    "## 3. Seri Port ile Veri Örneği Okuma & Eğitilmiş Modeli Kullanarak Tahminleme"
   ]
  },
  {
   "cell_type": "markdown",
   "metadata": {},
   "source": [
    "Seri port konfigürasyonu için gerekli değerlerin tanımlanması:"
   ]
  },
  {
   "cell_type": "code",
   "execution_count": 13,
   "metadata": {},
   "outputs": [],
   "source": [
    "serial_port = '/dev/ttyACM0'\n",
    "baud_rate = 115200\n",
    "time_out = 2"
   ]
  },
  {
   "cell_type": "markdown",
   "metadata": {},
   "source": [
    "Seri port üzerinden veri okuma & okunan veri örneklerinin tahminlenmesi"
   ]
  },
  {
   "cell_type": "code",
   "execution_count": null,
   "metadata": {},
   "outputs": [],
   "source": [
    "# collect data, get inference from model\n",
    "while True:\n",
    "    # open the serial port, set baudrate, set timeout\n",
    "    with serial.Serial(serial_port, baud_rate, timeout=time_out) as ser_read:\n",
    "        # read the line from serial port\n",
    "        x = ser_read.readline()\n",
    "        # parse the line into numpy array\n",
    "        line = np.array(str(x).replace(\"b'\", \"\").replace(\"\\\\n'\", \"\").replace(\"\\\\r\", \"\").split(\" \")[:-1])\n",
    "        # ignore the line if the length is not 6*128=768\n",
    "        if len(line) == 768:\n",
    "            # convert the array of strings to array of floating point numbers\n",
    "            line = line.astype(np.float32)\n",
    "            # reshape the array for model\n",
    "            line = line.reshape(128,6)\n",
    "            # add a batch shape to the array\n",
    "            line = np.expand_dims(line, axis=0)\n",
    "            # get the model output\n",
    "            out = model(line)\n",
    "            # model outputs a tensor, convert it to numpy array\n",
    "            out = np.array(out)\n",
    "            # get the highest scoring output as predicted class\n",
    "            class_index = np.argmax(out)\n",
    "            # get the class name from dict\n",
    "            class_name = classes[class_index]\n",
    "            # print the results\n",
    "            print(f\"\\rProbabilities -> CIRCLE: {out[0,0]:.2f} HORIZONTAL: {out[0,1]:.2f} STANDBY: {out[0,2]:.2f} TRIANGLE: {out[0,3]:.2f} VERTICAL: {out[0,4]:.2f} --- Prediction: {class_name} {' '*50}\",end=\"\")"
   ]
  }
 ],
 "metadata": {
  "kernelspec": {
   "display_name": "my_venv",
   "language": "python",
   "name": "python3"
  },
  "language_info": {
   "codemirror_mode": {
    "name": "ipython",
    "version": 3
   },
   "file_extension": ".py",
   "mimetype": "text/x-python",
   "name": "python",
   "nbconvert_exporter": "python",
   "pygments_lexer": "ipython3",
   "version": "3.8.10"
  }
 },
 "nbformat": 4,
 "nbformat_minor": 2
}
