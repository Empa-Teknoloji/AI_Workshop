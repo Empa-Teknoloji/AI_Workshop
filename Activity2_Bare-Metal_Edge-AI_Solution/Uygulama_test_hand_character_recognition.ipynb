{
 "cells": [
  {
   "cell_type": "markdown",
   "metadata": {},
   "source": [
    "<p align=\"center\"><img src=\"../Additionals/Empa-Workshops-Template-Banner2.png\" alt=\"University Workshops\" style=\"display: block; margin: 0 auto\" height=/></p>"
   ]
  },
  {
   "cell_type": "markdown",
   "metadata": {},
   "source": [
    "## Accelerator Workshops'a Hoşgeldiniz!\n",
    "\n",
    "Empa Electronics tarafından düzenlenen Accelerators Workshops etkinlikleri serimizin Uçta Yapay Zeka adımına hoşgeldiniz. Bu açık-kaynak repository, workshop etkiliğimizde deneyimleyeceğiniz \"ST Platformları İçin Edge-AI Çözümleri Geliştirme\" uygulaması çalışma ortamını edinebilmeniz ve aktivitelere kolaylıkla eşlik edebilmeniz için sizinle paylaşılmıştır.\n",
    "\n",
    "Bu script, uygulama içeriğinde geliştirilen modelin testi için oluşturulmuştur.\n",
    "  \n",
    "\n",
    "**Uygulama Adımları:**\n",
    "\n",
    "1. Gereksinimlerin Dahil Edilmesi\n",
    "\n",
    "2. Eğitilmiş Modelin Yüklenmesi\n",
    "\n",
    "3. Seri Port ile Veri Örneği Okuma & Eğitilmiş Modeli Kullanarak Tahminleme"
   ]
  },
  {
   "cell_type": "markdown",
   "metadata": {},
   "source": [
    "## 1. Gereksinimlerin Dahil Edilmesi"
   ]
  },
  {
   "cell_type": "markdown",
   "metadata": {},
   "source": [
    "Gerekli modeller için import işlemi:"
   ]
  },
  {
   "cell_type": "code",
   "execution_count": 1,
   "metadata": {},
   "outputs": [
    {
     "name": "stderr",
     "output_type": "stream",
     "text": [
      "2024-06-06 15:52:26.114092: I tensorflow/tsl/cuda/cudart_stub.cc:28] Could not find cuda drivers on your machine, GPU will not be used.\n",
      "2024-06-06 15:52:26.148306: I tensorflow/tsl/cuda/cudart_stub.cc:28] Could not find cuda drivers on your machine, GPU will not be used.\n",
      "2024-06-06 15:52:26.148606: I tensorflow/core/platform/cpu_feature_guard.cc:182] This TensorFlow binary is optimized to use available CPU instructions in performance-critical operations.\n",
      "To enable the following instructions: AVX2 FMA, in other operations, rebuild TensorFlow with the appropriate compiler flags.\n",
      "2024-06-06 15:52:26.806066: W tensorflow/compiler/tf2tensorrt/utils/py_utils.cc:38] TF-TRT Warning: Could not find TensorRT\n"
     ]
    }
   ],
   "source": [
    "import tensorflow as tf\n",
    "import serial\n",
    "import numpy as np"
   ]
  },
  {
   "cell_type": "markdown",
   "metadata": {},
   "source": [
    "## 2. Eğitilmiş Modelin Yüklenmesi"
   ]
  },
  {
   "cell_type": "markdown",
   "metadata": {},
   "source": [
    "Loading the trained model:"
   ]
  },
  {
   "cell_type": "code",
   "execution_count": 2,
   "metadata": {},
   "outputs": [
    {
     "name": "stdout",
     "output_type": "stream",
     "text": [
      "The model with the best performance is: Model_CNN_Hand_Character_Recognition_0_9246.h5\n"
     ]
    }
   ],
   "source": [
    "import os\n",
    "import re\n",
    "\n",
    "def get_largest_performance_model(directory):\n",
    "    pattern = re.compile(r\"Model_CNN_Hand_Character_Recognition_0_(\\d+)\\.h5\")\n",
    "\n",
    "    max_performance = -1\n",
    "    best_model = None\n",
    "\n",
    "    for filename in os.listdir(directory):\n",
    "        match = pattern.match(filename)\n",
    "        if match:\n",
    "            performance = int(match.group(1))\n",
    "            if performance > max_performance:\n",
    "                max_performance = performance\n",
    "                best_model = filename\n",
    "\n",
    "    return best_model\n",
    "\n",
    "directory = \"./Models\"\n",
    "name_best_model = get_largest_performance_model(directory)\n",
    "print(f\"The model with the best performance is: {name_best_model}\")"
   ]
  },
  {
   "cell_type": "code",
   "execution_count": 3,
   "metadata": {},
   "outputs": [
    {
     "name": "stderr",
     "output_type": "stream",
     "text": [
      "2024-06-06 15:52:29.701543: I tensorflow/compiler/xla/stream_executor/cuda/cuda_gpu_executor.cc:995] successful NUMA node read from SysFS had negative value (-1), but there must be at least one NUMA node, so returning NUMA node zero. See more at https://github.com/torvalds/linux/blob/v6.0/Documentation/ABI/testing/sysfs-bus-pci#L344-L355\n",
      "2024-06-06 15:52:29.737348: W tensorflow/core/common_runtime/gpu/gpu_device.cc:1960] Cannot dlopen some GPU libraries. Please make sure the missing libraries mentioned above are installed properly if you would like to use GPU. Follow the guide at https://www.tensorflow.org/install/gpu for how to download and setup the required libraries for your platform.\n",
      "Skipping registering GPU devices...\n"
     ]
    }
   ],
   "source": [
    "model = tf.keras.models.load_model(f\"Models/{name_best_model}\")"
   ]
  },
  {
   "cell_type": "markdown",
   "metadata": {},
   "source": [
    "Defining the class mapping dictionary:"
   ]
  },
  {
   "cell_type": "code",
   "execution_count": 4,
   "metadata": {},
   "outputs": [],
   "source": [
    "# class ID to class name mapping\n",
    "classes = {0: \"CIRCLE\",\n",
    "           1: \"HORIZONTAL\",\n",
    "           2: \"STANDBY\",\n",
    "           3: \"TRIANGLE\",\n",
    "           4: \"VERTICAL\"}"
   ]
  },
  {
   "cell_type": "markdown",
   "metadata": {},
   "source": [
    "## 3. Seri Port ile Veri Örneği Okuma & Eğitilmiş Modeli Kullanarak Tahminleme"
   ]
  },
  {
   "cell_type": "markdown",
   "metadata": {},
   "source": [
    "Seri port konfigürasyonu için gerekli değerlerin tanımlanması:"
   ]
  },
  {
   "cell_type": "code",
   "execution_count": 5,
   "metadata": {},
   "outputs": [],
   "source": [
    "serial_port = '/dev/ttyACM0'   # Ubuntu\n",
    "# serial_port = 'COM0'             # Windows\n",
    "baud_rate = 115200\n",
    "time_out = 2"
   ]
  },
  {
   "cell_type": "markdown",
   "metadata": {},
   "source": [
    "Seri port üzerinden veri okuma & okunan veri örneklerinin tahminlenmesi"
   ]
  },
  {
   "cell_type": "code",
   "execution_count": null,
   "metadata": {},
   "outputs": [],
   "source": [
    "# collect data, get inference from model\n",
    "while True:\n",
    "    # open the serial port, set baudrate, set timeout\n",
    "    with serial.Serial(serial_port, baud_rate, timeout=time_out) as ser_read:\n",
    "        # read the line from serial port\n",
    "        x = ser_read.readline()\n",
    "        # parse the line into numpy array\n",
    "        line = np.array(str(x).replace(\"b'\", \"\").replace(\"\\\\n'\", \"\").replace(\"\\\\r\", \"\").split(\" \")[:-1])\n",
    "        # ignore the line if the length is not 6*128=768\n",
    "        if len(line) == 768:\n",
    "            # convert the array of strings to array of floating point numbers\n",
    "            line = line.astype(np.float32)\n",
    "            # reshape the array for model\n",
    "            line = line.reshape(128,6)\n",
    "            # add a batch shape to the array\n",
    "            line = np.expand_dims(line, axis=0)\n",
    "            # get the model output\n",
    "            out = model(line)\n",
    "            # model outputs a tensor, convert it to numpy array\n",
    "            out = np.array(out)\n",
    "            # get the highest scoring output as predicted class\n",
    "            class_index = np.argmax(out)\n",
    "            # get the class name from dict\n",
    "            class_name = classes[class_index]\n",
    "            # print the results\n",
    "            print(f\"\\rProbabilities -> CIRCLE: {out[0,0]:.2f} HORIZONTAL: {out[0,1]:.2f} STANDBY: {out[0,2]:.2f} TRIANGLE: {out[0,3]:.2f} VERTICAL: {out[0,4]:.2f} --- Prediction: {class_name} {' '*50}\",end=\"\")"
   ]
  }
 ],
 "metadata": {
  "kernelspec": {
   "display_name": "my_venv",
   "language": "python",
   "name": "python3"
  },
  "language_info": {
   "codemirror_mode": {
    "name": "ipython",
    "version": 3
   },
   "file_extension": ".py",
   "mimetype": "text/x-python",
   "name": "python",
   "nbconvert_exporter": "python",
   "pygments_lexer": "ipython3",
   "version": "3.8.10"
  }
 },
 "nbformat": 4,
 "nbformat_minor": 2
}
