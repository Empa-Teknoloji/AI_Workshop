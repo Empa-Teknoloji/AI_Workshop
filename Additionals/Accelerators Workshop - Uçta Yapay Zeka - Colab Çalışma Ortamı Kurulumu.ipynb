{
 "cells": [
  {
   "cell_type": "markdown",
   "metadata": {},
   "source": [
    "<p align=\"center\"><img src=\"https://raw.githubusercontent.com/Empa-Teknoloji/AI_Workshop/master/Additionals/Empa-Workshops-Template-Banner2.png\" alt=\"Accelerator Workshops\" style=\"display: block; margin: 0 auto\" height=/></p>"
   ]
  },
  {
   "cell_type": "markdown",
   "metadata": {},
   "source": [
    "# Kurulum"
   ]
  },
  {
   "cell_type": "markdown",
   "metadata": {},
   "source": [
    "Aktivite-2 için kullanılacak bulut çalışma ortamının Google Colab üzerinde otomatik olarak edinilmesi için **Runtime** sekmesi içindeki **\"Run All\"** butonuna basarak kurulumu başlatınız."
   ]
  },
  {
   "cell_type": "markdown",
   "metadata": {},
   "source": [
    "<p align=\"center\"><img src=\"Colab-Run.png\" alt=\"University Workshops\" style=\"display: block; margin: 0 auto\" height=300/></p>"
   ]
  },
  {
   "cell_type": "markdown",
   "metadata": {},
   "source": [
    "### 1. Python Versiyonu Kontrolü"
   ]
  },
  {
   "cell_type": "markdown",
   "metadata": {},
   "source": [
    "Python versiyonu olarak tercih edilen 3.10 versiyonunun kurulu olduğunu teyit ediniz."
   ]
  },
  {
   "cell_type": "code",
   "execution_count": 1,
   "metadata": {},
   "outputs": [
    {
     "name": "stdout",
     "output_type": "stream",
     "text": [
      "Python 3.8.10\n"
     ]
    }
   ],
   "source": [
    "!python3 --version"
   ]
  },
  {
   "cell_type": "markdown",
   "metadata": {},
   "source": [
    "### 2. Workshop Repository Edinimi"
   ]
  },
  {
   "cell_type": "code",
   "execution_count": null,
   "metadata": {},
   "outputs": [],
   "source": [
    "!git clone https://github.com/Empa-Teknoloji/AI_Workshop.git"
   ]
  },
  {
   "cell_type": "markdown",
   "metadata": {},
   "source": [
    "### 3. Python Çalışma Ortamı İçin Gereklik Modüllerin Kurulumu"
   ]
  },
  {
   "cell_type": "code",
   "execution_count": null,
   "metadata": {},
   "outputs": [],
   "source": [
    "!pip3 install -r AI_Workshop/Activity2_Bare-Metal_Edge-AI_Solution/requirements.txt"
   ]
  }
 ],
 "metadata": {
  "kernelspec": {
   "display_name": "WORKSHOP_ENV",
   "language": "python",
   "name": "python3"
  },
  "language_info": {
   "codemirror_mode": {
    "name": "ipython",
    "version": 3
   },
   "file_extension": ".py",
   "mimetype": "text/x-python",
   "name": "python",
   "nbconvert_exporter": "python",
   "pygments_lexer": "ipython3",
   "version": "3.8.10"
  }
 },
 "nbformat": 4,
 "nbformat_minor": 2
}
